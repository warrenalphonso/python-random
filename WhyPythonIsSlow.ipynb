{
 "cells": [
  {
   "cell_type": "markdown",
   "id": "respiratory-director",
   "metadata": {},
   "source": [
    "[Why Python is Slow](http://jakevdp.github.io/blog/2014/05/09/why-python-is-slow/) by Jake VanderPlas. "
   ]
  },
  {
   "cell_type": "code",
   "execution_count": 1,
   "id": "mental-beverage",
   "metadata": {},
   "outputs": [
    {
     "name": "stdout",
     "output_type": "stream",
     "text": [
      "Python version = 3.9.1\n"
     ]
    }
   ],
   "source": [
    "import sys\n",
    "print(\"Python version =\", sys.version[:5])"
   ]
  },
  {
   "cell_type": "markdown",
   "id": "romance-universal",
   "metadata": {},
   "source": [
    "# Integers"
   ]
  },
  {
   "cell_type": "markdown",
   "id": "little-enterprise",
   "metadata": {},
   "source": [
    "Integers in Python are usually an integer object like: \n",
    "```\n",
    "struct _longobject {\n",
    "    long ob_refcnt;\n",
    "    PyTypeObject *ob_type;\n",
    "    size_t ob_size;\n",
    "    long ob_digit[1];\n",
    "};\n",
    "\n",
    "```"
   ]
  },
  {
   "cell_type": "code",
   "execution_count": 2,
   "id": "vietnamese-quebec",
   "metadata": {},
   "outputs": [],
   "source": [
    "import ctypes\n",
    "\n",
    "class IntStruct(ctypes.Structure):\n",
    "    _fields_ = [(\"ob_refcnt\", ctypes.c_long),\n",
    "                (\"ob_type\", ctypes.c_void_p),\n",
    "                (\"ob_size\", ctypes.c_ulong),\n",
    "                (\"ob_digit\", ctypes.c_long)]\n",
    "    \n",
    "    def __repr__(self):\n",
    "        return (\"IntStruct(ob_digit={self.ob_digit}, \"\n",
    "                \"refcount={self.ob_refcnt})\").format(self=self)"
   ]
  },
  {
   "cell_type": "code",
   "execution_count": 3,
   "id": "academic-timing",
   "metadata": {},
   "outputs": [
    {
     "data": {
      "text/plain": [
       "IntStruct(ob_digit=42, refcount=35)"
      ]
     },
     "execution_count": 3,
     "metadata": {},
     "output_type": "execute_result"
    }
   ],
   "source": [
    "num = 42 \n",
    "IntStruct.from_address(id(42))"
   ]
  },
  {
   "cell_type": "markdown",
   "id": "liberal-agenda",
   "metadata": {},
   "source": [
    "`ob_digit` has the correct value, but why is `refcount` 35? Python uses small integers a lot, so only copy of many commonly used integers is stored in memory. "
   ]
  },
  {
   "cell_type": "code",
   "execution_count": 4,
   "id": "increased-minutes",
   "metadata": {},
   "outputs": [],
   "source": [
    "x = 42\n",
    "y = 42 \n",
    "assert id(x) == id(y)"
   ]
  },
  {
   "cell_type": "markdown",
   "id": "selected-disclosure",
   "metadata": {},
   "source": [
    "Starting up the Python interpreter itself creates lots of integers. Here're the number of references to each:"
   ]
  },
  {
   "cell_type": "code",
   "execution_count": 5,
   "id": "covered-instrument",
   "metadata": {},
   "outputs": [
    {
     "data": {
      "text/plain": [
       "Text(0, 0.5, 'reference count')"
      ]
     },
     "execution_count": 5,
     "metadata": {},
     "output_type": "execute_result"
    },
    {
     "data": {
      "image/png": "[encoded data removed]",
      "text/plain": [
       "<Figure size 432x288 with 1 Axes>"
      ]
     },
     "metadata": {
      "needs_background": "light"
     },
     "output_type": "display_data"
    }
   ],
   "source": [
    "%matplotlib inline \n",
    "import matplotlib.pyplot as plt\n",
    "import sys\n",
    "plt.loglog(range(1000), [sys.getrefcount(i) for i in range(1000)])\n",
    "plt.xlabel('integer value')\n",
    "plt.ylabel('reference count')"
   ]
  },
  {
   "cell_type": "code",
   "execution_count": 6,
   "id": "moderate-rebecca",
   "metadata": {},
   "outputs": [
    {
     "data": {
      "text/plain": [
       "False"
      ]
     },
     "execution_count": 6,
     "metadata": {},
     "output_type": "execute_result"
    }
   ],
   "source": [
    "# Just double-checking that ob_digit is correct for all \n",
    "all(i == IntStruct.from_address(id(i)).ob_digit\n",
    "    for i in range(10**3))"
   ]
  },
  {
   "cell_type": "code",
   "execution_count": 7,
   "id": "demonstrated-translator",
   "metadata": {},
   "outputs": [
    {
     "data": {
      "text/plain": [
       "True"
      ]
     },
     "execution_count": 7,
     "metadata": {},
     "output_type": "execute_result"
    }
   ],
   "source": [
    "all(i == IntStruct.from_address(id(i)).ob_digit\n",
    "    for i in range(256))"
   ]
  },
  {
   "cell_type": "markdown",
   "id": "internal-campaign",
   "metadata": {},
   "source": [
    "Why isn't `ob_digit` the expected value for higher integers? Python does some bit shifting magic for larger values so that it can easily handle integers past the overflow limit of the `long` data type. "
   ]
  },
  {
   "cell_type": "markdown",
   "id": "available-reviewer",
   "metadata": {},
   "source": [
    "# Lists"
   ]
  },
  {
   "cell_type": "markdown",
   "id": "described-aging",
   "metadata": {},
   "source": [
    "Lists in Python are defined as: \n",
    "```\n",
    "typedef struct {\n",
    "    long ob_refcnt;\n",
    "    PyTypeObject *ob_type;\n",
    "    Py_ssize_t ob_size;\n",
    "    PyObject **ob_item;\n",
    "    long allocated;\n",
    "} PyListObject;\n",
    "```"
   ]
  },
  {
   "cell_type": "code",
   "execution_count": 8,
   "id": "communist-sphere",
   "metadata": {},
   "outputs": [],
   "source": [
    "class ListStruct(ctypes.Structure):\n",
    "    _fields_ = [(\"ob_refcnt\", ctypes.c_long),\n",
    "                (\"ob_type\", ctypes.c_void_p),\n",
    "                (\"ob_size\", ctypes.c_ulong),\n",
    "                (\"ob_item\", ctypes.c_long),  # PyObject** pointer cast to long\n",
    "                (\"allocated\", ctypes.c_ulong)]\n",
    "    \n",
    "    def __repr__(self):\n",
    "        return (\"ListStruct(len={self.ob_size}, \"\n",
    "                \"refcount={self.ob_refcnt})\").format(self=self)"
   ]
  },
  {
   "cell_type": "code",
   "execution_count": 9,
   "id": "noticed-archives",
   "metadata": {},
   "outputs": [
    {
     "data": {
      "text/plain": [
       "ListStruct(len=5, refcount=1)"
      ]
     },
     "execution_count": 9,
     "metadata": {},
     "output_type": "execute_result"
    }
   ],
   "source": [
    "L = [1,2,3,4,5]\n",
    "ListStruct.from_address(id(L))"
   ]
  },
  {
   "cell_type": "code",
   "execution_count": 10,
   "id": "multiple-henry",
   "metadata": {},
   "outputs": [
    {
     "data": {
      "text/plain": [
       "ListStruct(len=5, refcount=3)"
      ]
     },
     "execution_count": 10,
     "metadata": {},
     "output_type": "execute_result"
    }
   ],
   "source": [
    "# refcount should be 3\n",
    "tup = [L, L]\n",
    "ListStruct.from_address(id(L))"
   ]
  },
  {
   "cell_type": "code",
   "execution_count": 11,
   "id": "involved-introduction",
   "metadata": {},
   "outputs": [
    {
     "data": {
      "text/plain": [
       "[IntStruct(ob_digit=1, refcount=8371),\n",
       " IntStruct(ob_digit=2, refcount=3602),\n",
       " IntStruct(ob_digit=3, refcount=1354),\n",
       " IntStruct(ob_digit=4, refcount=1056),\n",
       " IntStruct(ob_digit=5, refcount=1061)]"
      ]
     },
     "execution_count": 11,
     "metadata": {},
     "output_type": "execute_result"
    }
   ],
   "source": [
    "Lstruct = ListStruct.from_address(id(L))\n",
    "PtrArray = Lstruct.ob_size * ctypes.POINTER(IntStruct)\n",
    "L_values = PtrArray.from_address(Lstruct.ob_item)\n",
    "[ptr[0] for ptr in L_values] # ptr[0] dereferences"
   ]
  },
  {
   "cell_type": "markdown",
   "id": "australian-excellence",
   "metadata": {},
   "source": [
    "# NumPy arrays"
   ]
  },
  {
   "cell_type": "code",
   "execution_count": 12,
   "id": "wired-jamaica",
   "metadata": {},
   "outputs": [
    {
     "data": {
      "text/plain": [
       "'1.20.2'"
      ]
     },
     "execution_count": 12,
     "metadata": {},
     "output_type": "execute_result"
    }
   ],
   "source": [
    "import numpy as np \n",
    "np.__version__"
   ]
  },
  {
   "cell_type": "code",
   "execution_count": 13,
   "id": "fuzzy-miracle",
   "metadata": {},
   "outputs": [],
   "source": [
    "class NumpyStruct(ctypes.Structure):\n",
    "    _fields_ = [(\"ob_refcnt\", ctypes.c_long),\n",
    "                (\"ob_type\", ctypes.c_void_p),\n",
    "                (\"ob_data\", ctypes.c_long),  # char* pointer cast to long\n",
    "                (\"ob_ndim\", ctypes.c_int),\n",
    "                (\"ob_shape\", ctypes.c_voidp),\n",
    "                (\"ob_strides\", ctypes.c_voidp)]\n",
    "    \n",
    "    @property\n",
    "    def shape(self):\n",
    "        return tuple((self.ob_ndim * ctypes.c_int64).from_address(self.ob_shape))\n",
    "    \n",
    "    @property\n",
    "    def strides(self):\n",
    "        return tuple((self.ob_ndim * ctypes.c_int64).from_address(self.ob_strides))\n",
    "    \n",
    "    def __repr__(self):\n",
    "        return (\"NumpyStruct(shape={self.shape}, \"\n",
    "                \"refcount={self.ob_refcnt})\").format(self=self)"
   ]
  },
  {
   "cell_type": "code",
   "execution_count": 14,
   "id": "recreational-eleven",
   "metadata": {},
   "outputs": [
    {
     "data": {
      "text/plain": [
       "NumpyStruct(shape=(10, 20), refcount=1)"
      ]
     },
     "execution_count": 14,
     "metadata": {},
     "output_type": "execute_result"
    }
   ],
   "source": [
    "x = np.random.random((10, 20))\n",
    "xstruct = NumpyStruct.from_address(id(x))\n",
    "xstruct"
   ]
  },
  {
   "cell_type": "code",
   "execution_count": 15,
   "id": "terminal-slovak",
   "metadata": {},
   "outputs": [
    {
     "data": {
      "text/plain": [
       "NumpyStruct(shape=(10, 20), refcount=4)"
      ]
     },
     "execution_count": 15,
     "metadata": {},
     "output_type": "execute_result"
    }
   ],
   "source": [
    "L = [x, x, x]\n",
    "xstruct # refcount should be 4"
   ]
  },
  {
   "cell_type": "markdown",
   "id": "continent-assault",
   "metadata": {},
   "source": [
    "Here we assume this is a CONTINUOUS array, unlike the pointer dereferencing we did for Python lists. Notice it works."
   ]
  },
  {
   "cell_type": "code",
   "execution_count": 16,
   "id": "interested-trade",
   "metadata": {},
   "outputs": [
    {
     "data": {
      "text/plain": [
       "[0, 1, 2, 3, 4, 5, 6, 7, 8, 9]"
      ]
     },
     "execution_count": 16,
     "metadata": {},
     "output_type": "execute_result"
    }
   ],
   "source": [
    "x = np.arange(10)\n",
    "xstruct = NumpyStruct.from_address(id(x))\n",
    "size = np.prod(xstruct.shape)\n",
    "\n",
    "# assume an array of integers\n",
    "arraytype = size * ctypes.c_long\n",
    "data = arraytype.from_address(xstruct.ob_data)\n",
    "\n",
    "[d for d in data]"
   ]
  },
  {
   "cell_type": "code",
   "execution_count": 17,
   "id": "seventh-transportation",
   "metadata": {},
   "outputs": [
    {
     "data": {
      "text/plain": [
       "[0, 1, 2, 3, 555, 5, 6, 7, 8, 9]"
      ]
     },
     "execution_count": 17,
     "metadata": {},
     "output_type": "execute_result"
    }
   ],
   "source": [
    "x[4] = 555\n",
    "[d for d in data]"
   ]
  },
  {
   "cell_type": "markdown",
   "id": "adjacent-category",
   "metadata": {},
   "source": [
    "# Changing values of integers"
   ]
  },
  {
   "cell_type": "code",
   "execution_count": 18,
   "id": "illegal-worker",
   "metadata": {},
   "outputs": [
    {
     "data": {
      "text/plain": [
       "True"
      ]
     },
     "execution_count": 18,
     "metadata": {},
     "output_type": "execute_result"
    }
   ],
   "source": [
    "# WARNNG: never do this!\n",
    "id113 = id(113)\n",
    "iptr = IntStruct.from_address(id113)\n",
    "iptr.ob_digit = 4  # now Python's 113 contains a 4!\n",
    "\n",
    "113 == 4"
   ]
  },
  {
   "cell_type": "code",
   "execution_count": 19,
   "id": "regulated-vertical",
   "metadata": {},
   "outputs": [
    {
     "data": {
      "text/plain": [
       "4"
      ]
     },
     "execution_count": 19,
     "metadata": {},
     "output_type": "execute_result"
    }
   ],
   "source": [
    "113"
   ]
  },
  {
   "cell_type": "code",
   "execution_count": 20,
   "id": "scientific-swedish",
   "metadata": {},
   "outputs": [
    {
     "data": {
      "text/plain": [
       "4"
      ]
     },
     "execution_count": 20,
     "metadata": {},
     "output_type": "execute_result"
    }
   ],
   "source": [
    "112 + 1"
   ]
  },
  {
   "cell_type": "code",
   "execution_count": 21,
   "id": "modular-capital",
   "metadata": {},
   "outputs": [],
   "source": [
    "iptr.ob_digit = 113"
   ]
  },
  {
   "cell_type": "code",
   "execution_count": 22,
   "id": "available-leave",
   "metadata": {},
   "outputs": [
    {
     "data": {
      "text/plain": [
       "4"
      ]
     },
     "execution_count": 22,
     "metadata": {},
     "output_type": "execute_result"
    }
   ],
   "source": [
    "113"
   ]
  },
  {
   "cell_type": "markdown",
   "id": "employed-samuel",
   "metadata": {},
   "source": [
    "Notice that we can't simply change it back to 113 because *113 no longer exists*. Instead, we manipulate the bits directly: 113 = 8 * 16 + 1 * 0, so on a little-endian 64-bit system: "
   ]
  },
  {
   "cell_type": "code",
   "execution_count": 23,
   "id": "juvenile-olive",
   "metadata": {},
   "outputs": [
    {
     "data": {
      "text/plain": [
       "113"
      ]
     },
     "execution_count": 23,
     "metadata": {},
     "output_type": "execute_result"
    }
   ],
   "source": [
    "ctypes.cast(id113, ctypes.POINTER(ctypes.c_char))[3 * 8] = b'\\x71'\n",
    "113"
   ]
  },
  {
   "cell_type": "code",
   "execution_count": null,
   "id": "sharp-poison",
   "metadata": {},
   "outputs": [],
   "source": []
  }
 ],
 "metadata": {
  "kernelspec": {
   "display_name": "Python 3",
   "language": "python",
   "name": "python3"
  },
  "language_info": {
   "codemirror_mode": {
    "name": "ipython",
    "version": 3
   },
   "file_extension": ".py",
   "mimetype": "text/x-python",
   "name": "python",
   "nbconvert_exporter": "python",
   "pygments_lexer": "ipython3",
   "version": "3.9.1"
  }
 },
 "nbformat": 4,
 "nbformat_minor": 5
}
