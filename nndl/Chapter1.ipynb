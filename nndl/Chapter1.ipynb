{
 "cells": [
  {
   "cell_type": "markdown",
   "metadata": {},
   "source": [
    "# Chapter 1\n",
    "\n",
    "Using a naive predictor `average_darkness.py`, we got 22.5% accuracy."
   ]
  },
  {
   "cell_type": "code",
   "execution_count": 1,
   "metadata": {},
   "outputs": [],
   "source": [
    "from network import Network"
   ]
  },
  {
   "cell_type": "markdown",
   "metadata": {},
   "source": [
    "### MNIST loader"
   ]
  },
  {
   "cell_type": "code",
   "execution_count": 2,
   "metadata": {},
   "outputs": [],
   "source": [
    "import mnist_loader\n",
    "training_data, validation_data, test_data = mnist_loader.load_data_wrapper()"
   ]
  },
  {
   "cell_type": "markdown",
   "metadata": {},
   "source": [
    "### Train - 1 hidden layer with 30 neurons"
   ]
  },
  {
   "cell_type": "code",
   "execution_count": 3,
   "metadata": {},
   "outputs": [],
   "source": [
    "net_1_10 = Network([784, 30, 10])"
   ]
  },
  {
   "cell_type": "code",
   "execution_count": 4,
   "metadata": {},
   "outputs": [
    {
     "name": "stdout",
     "output_type": "stream",
     "text": [
      "Epoch 0: 9090 / 10000\n",
      "Epoch 1: 9288 / 10000\n",
      "Epoch 2: 9342 / 10000\n",
      "Epoch 3: 9359 / 10000\n",
      "Epoch 4: 9334 / 10000\n",
      "Epoch 5: 9398 / 10000\n",
      "Epoch 6: 9454 / 10000\n",
      "Epoch 7: 9423 / 10000\n",
      "Epoch 8: 9439 / 10000\n",
      "Epoch 9: 9463 / 10000\n",
      "Epoch 10: 9472 / 10000\n",
      "Epoch 11: 9464 / 10000\n",
      "Epoch 12: 9490 / 10000\n",
      "Epoch 13: 9492 / 10000\n",
      "Epoch 14: 9498 / 10000\n",
      "Epoch 15: 9495 / 10000\n",
      "Epoch 16: 9490 / 10000\n",
      "Epoch 17: 9466 / 10000\n",
      "Epoch 18: 9479 / 10000\n",
      "Epoch 19: 9507 / 10000\n",
      "Epoch 20: 9482 / 10000\n",
      "Epoch 21: 9486 / 10000\n",
      "Epoch 22: 9484 / 10000\n",
      "Epoch 23: 9532 / 10000\n",
      "Epoch 24: 9493 / 10000\n",
      "Epoch 25: 9514 / 10000\n",
      "Epoch 26: 9523 / 10000\n",
      "Epoch 27: 9510 / 10000\n",
      "Epoch 28: 9532 / 10000\n",
      "Epoch 29: 9510 / 10000\n"
     ]
    }
   ],
   "source": [
    "net_1_10.SGD(training_data, 30, 10, 3.0, test_data=test_data)"
   ]
  },
  {
   "cell_type": "markdown",
   "metadata": {},
   "source": [
    "### Train - 0 hidden layers"
   ]
  },
  {
   "cell_type": "code",
   "execution_count": 5,
   "metadata": {},
   "outputs": [],
   "source": [
    "net_0 = Network([784, 10])"
   ]
  },
  {
   "cell_type": "code",
   "execution_count": 6,
   "metadata": {},
   "outputs": [
    {
     "name": "stdout",
     "output_type": "stream",
     "text": [
      "Epoch 0: 5409 / 10000\n",
      "Epoch 1: 6450 / 10000\n",
      "Epoch 2: 7402 / 10000\n",
      "Epoch 3: 7463 / 10000\n",
      "Epoch 4: 8292 / 10000\n",
      "Epoch 5: 8331 / 10000\n",
      "Epoch 6: 8306 / 10000\n",
      "Epoch 7: 8333 / 10000\n",
      "Epoch 8: 8347 / 10000\n",
      "Epoch 9: 8346 / 10000\n",
      "Epoch 10: 8350 / 10000\n",
      "Epoch 11: 8372 / 10000\n",
      "Epoch 12: 8376 / 10000\n",
      "Epoch 13: 8396 / 10000\n",
      "Epoch 14: 8376 / 10000\n",
      "Epoch 15: 8394 / 10000\n",
      "Epoch 16: 8383 / 10000\n",
      "Epoch 17: 8376 / 10000\n",
      "Epoch 18: 8376 / 10000\n",
      "Epoch 19: 8382 / 10000\n",
      "Epoch 20: 8398 / 10000\n",
      "Epoch 21: 8383 / 10000\n",
      "Epoch 22: 8386 / 10000\n",
      "Epoch 23: 8399 / 10000\n",
      "Epoch 24: 8384 / 10000\n",
      "Epoch 25: 8390 / 10000\n",
      "Epoch 26: 8379 / 10000\n",
      "Epoch 27: 8388 / 10000\n",
      "Epoch 28: 8397 / 10000\n",
      "Epoch 29: 8394 / 10000\n"
     ]
    }
   ],
   "source": [
    "net_0.SGD(training_data, 30, 10, 2.0, test_data=test_data)"
   ]
  },
  {
   "cell_type": "markdown",
   "metadata": {},
   "source": [
    "### Train - 2 hidden layers with 20 then 15"
   ]
  },
  {
   "cell_type": "code",
   "execution_count": 7,
   "metadata": {},
   "outputs": [],
   "source": [
    "net_2_5 = Network([784, 20, 15, 10])"
   ]
  },
  {
   "cell_type": "code",
   "execution_count": 8,
   "metadata": {},
   "outputs": [
    {
     "name": "stdout",
     "output_type": "stream",
     "text": [
      "Epoch 0: 8895 / 10000\n",
      "Epoch 1: 9026 / 10000\n",
      "Epoch 2: 9174 / 10000\n",
      "Epoch 3: 9204 / 10000\n",
      "Epoch 4: 9243 / 10000\n",
      "Epoch 5: 9285 / 10000\n",
      "Epoch 6: 9236 / 10000\n",
      "Epoch 7: 9267 / 10000\n",
      "Epoch 8: 9300 / 10000\n",
      "Epoch 9: 9353 / 10000\n",
      "Epoch 10: 9350 / 10000\n",
      "Epoch 11: 9333 / 10000\n",
      "Epoch 12: 9338 / 10000\n",
      "Epoch 13: 9252 / 10000\n",
      "Epoch 14: 9343 / 10000\n",
      "Epoch 15: 9386 / 10000\n",
      "Epoch 16: 9380 / 10000\n",
      "Epoch 17: 9386 / 10000\n",
      "Epoch 18: 9409 / 10000\n",
      "Epoch 19: 9388 / 10000\n",
      "Epoch 20: 9320 / 10000\n",
      "Epoch 21: 9306 / 10000\n",
      "Epoch 22: 9343 / 10000\n",
      "Epoch 23: 9371 / 10000\n",
      "Epoch 24: 9358 / 10000\n",
      "Epoch 25: 9389 / 10000\n",
      "Epoch 26: 9429 / 10000\n",
      "Epoch 27: 9406 / 10000\n",
      "Epoch 28: 9403 / 10000\n",
      "Epoch 29: 9391 / 10000\n"
     ]
    }
   ],
   "source": [
    "net_2_5.SGD(training_data, 30, 10, 3.0, test_data=test_data)"
   ]
  },
  {
   "cell_type": "markdown",
   "metadata": {},
   "source": [
    "### Naive predictor that uses average darkness"
   ]
  },
  {
   "cell_type": "code",
   "execution_count": 9,
   "metadata": {},
   "outputs": [
    {
     "name": "stdout",
     "output_type": "stream",
     "text": [
      "2225 of 10000 values correct.\n"
     ]
    }
   ],
   "source": [
    "import average_darkness\n",
    "\n",
    "training_data, validation_data, test_data = mnist_loader.load_data()\n",
    "avgs = average_darkness.avg_darknesses(training_data) \n",
    "num_correct = sum(average_darkness.guess_digit(image, avgs) == digit \n",
    "                   for image, digit in zip(test_data[0], test_data[1]))\n",
    "\n",
    "print(f\"{num_correct} of {len(test_data[1])} values correct.\")"
   ]
  }
 ],
 "metadata": {
  "kernelspec": {
   "display_name": "Python 3",
   "language": "python",
   "name": "python3"
  },
  "language_info": {
   "codemirror_mode": {
    "name": "ipython",
    "version": 3
   },
   "file_extension": ".py",
   "mimetype": "text/x-python",
   "name": "python",
   "nbconvert_exporter": "python",
   "pygments_lexer": "ipython3",
   "version": "3.9.1"
  }
 },
 "nbformat": 4,
 "nbformat_minor": 4
}
