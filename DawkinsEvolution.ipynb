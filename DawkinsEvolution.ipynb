{
 "cells": [
  {
   "cell_type": "markdown",
   "id": "sufficient-contract",
   "metadata": {},
   "source": [
    "In *What Mad Pursuit*, Crick recalls a part of Dawkins' *The Blind Watchmaker* where Dawkins creates a computer program that crudely emulates evolution. Given some goal phrase (Crick uses \"Methinks It Is Like A Weasel\"), the program generates a random sequence of 28 letters, makes copies of them with a chance of mutation, then chooses the copy that most resembles the target phrase and repeats. It took Dawkins about 50 tries to reach the goal phrase. Random guessing only gives us a 1 in 10^40 chance of getting the correct phrase. "
   ]
  },
  {
   "cell_type": "code",
   "execution_count": 1,
   "id": "intermediate-heading",
   "metadata": {},
   "outputs": [],
   "source": [
    "import string\n",
    "import random \n",
    "import numpy as np\n",
    "\n",
    "random.seed(0)\n",
    "np.random.seed(0)"
   ]
  },
  {
   "cell_type": "code",
   "execution_count": 8,
   "id": "excellent-professional",
   "metadata": {},
   "outputs": [],
   "source": [
    "goal = \"Methinks It Is Like A Weasel\"\n",
    "num_candidates = 100\n",
    "letters = string.ascii_letters + ' '"
   ]
  },
  {
   "cell_type": "code",
   "execution_count": 3,
   "id": "aware-netherlands",
   "metadata": {},
   "outputs": [],
   "source": [
    "def num_mutations(std_dev_scale=0.5) -> int: \n",
    "    \"\"\"\n",
    "    Return number of mutations to add to a string. \n",
    "    \n",
    "    We draw from a standard Gaussian distribution. If the \n",
    "    drawn value is within std_dev_scale standard deviations \n",
    "    of the mean, we choose 0 mutations. If it's between \n",
    "    std_dev_scale and 2 * std_dev_scale standard deviations, \n",
    "    we choose 1 mutation, etc. \n",
    "    \"\"\"\n",
    "    val = abs(np.random.normal())\n",
    "    return int(val // std_dev_scale)"
   ]
  },
  {
   "cell_type": "code",
   "execution_count": 4,
   "id": "official-developer",
   "metadata": {},
   "outputs": [],
   "source": [
    "def mutate(s: str, num_mutations: int) -> str: \n",
    "    \"\"\"\n",
    "    Return s mutated with num_mutations. \n",
    "    \n",
    "    Randomly sample num_mutations indices from s and \n",
    "    mutate them. \n",
    "    \"\"\"\n",
    "    num_mutations = min(num_mutations, len(s))\n",
    "    indices_to_mutate = random.sample(range(len(s)), num_mutations)\n",
    "    s_arr = list(s)\n",
    "    for i in indices_to_mutate: \n",
    "        random_chr = random.choice(letters)\n",
    "        s_arr[i] = random_chr\n",
    "    return \"\".join(s_arr)"
   ]
  },
  {
   "cell_type": "code",
   "execution_count": 5,
   "id": "saved-gravity",
   "metadata": {},
   "outputs": [],
   "source": [
    "def compare(s: str) -> int: \n",
    "    \"\"\"\n",
    "    Return number of letters by which s differs from goal.\n",
    "    \"\"\"\n",
    "    diff = abs( len(s) - len(goal) )\n",
    "    for sc, gc in zip(s, goal): \n",
    "        if sc != gc: \n",
    "            diff += 1 \n",
    "    return diff"
   ]
  },
  {
   "cell_type": "markdown",
   "id": "familiar-miami",
   "metadata": {},
   "source": [
    "Okay, here's the evolution. "
   ]
  },
  {
   "cell_type": "code",
   "execution_count": 13,
   "id": "occupied-bottom",
   "metadata": {},
   "outputs": [
    {
     "name": "stdout",
     "output_type": "stream",
     "text": [
      "After iteration 0, the best string is: ZlNjfQIpLrZKVtdOUjqkisWtvemf\n",
      "After iteration 10, the best string is: rlBhisbsLEA Vt LUjq itWtaeqf\n",
      "After iteration 20, the best string is: rlthisbspBt Vt LUbq itWeasKf\n",
      "After iteration 30, the best string is: guthisbs Kt Vs LUzq PtWeasmB\n",
      "After iteration 40, the best string is: guthinbs Kt Vs LUkq P Weasml\n",
      "After iteration 50, the best string is: guthinls Kt Vs LUkq P Weashl\n",
      "After iteration 60, the best string is: gVthinls It Vs LUkH P Weasel\n",
      "After iteration 70, the best string is: gethinks It qs LUkX A Weasel\n",
      "After iteration 80, the best string is: Iethinks It qs LikX A Weasel\n",
      "After iteration 90, the best string is: Iethinks It qs LikX A Weasel\n",
      "After iteration 100, the best string is: Methinks It qs LikO A Weasel\n",
      "After iteration 110, the best string is: Methinks It qs LikO A Weasel\n",
      "After iteration 120, the best string is: Methinks It qs LikO A Weasel\n",
      "After iteration 130, the best string is: Methinks It qs Like A Weasel\n",
      "After iteration 140, the best string is: Methinks It qs Like A Weasel\n",
      "After iteration 150, the best string is: Methinks It Us Like A Weasel\n",
      "After iteration 160, the best string is: Methinks It Us Like A Weasel\n",
      "After iteration 170, the best string is: Methinks It ts Like A Weasel\n",
      "After iteration 180, the best string is: Methinks It is Like A Weasel\n"
     ]
    }
   ],
   "source": [
    "curr_string = random.choices(letters, k=len(goal))\n",
    "iteration = 0\n",
    "while compare(curr_string): \n",
    "    candidates = [mutate(curr_string, num_mutations()) for \n",
    "                     _ in range(num_candidates)]\n",
    "    curr_string, *_ = sorted(candidates, key=compare)\n",
    "    if iteration % 10 == 0: s\n",
    "        print(f\"After iteration {iteration}, the best string is: {curr_string}\")\n",
    "    iteration += 1"
   ]
  },
  {
   "cell_type": "code",
   "execution_count": null,
   "id": "broad-indie",
   "metadata": {},
   "outputs": [],
   "source": []
  }
 ],
 "metadata": {
  "kernelspec": {
   "display_name": "Python 3",
   "language": "python",
   "name": "python3"
  },
  "language_info": {
   "codemirror_mode": {
    "name": "ipython",
    "version": 3
   },
   "file_extension": ".py",
   "mimetype": "text/x-python",
   "name": "python",
   "nbconvert_exporter": "python",
   "pygments_lexer": "ipython3",
   "version": "3.9.1"
  }
 },
 "nbformat": 4,
 "nbformat_minor": 5
}
