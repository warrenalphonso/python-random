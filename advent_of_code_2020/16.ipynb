{
 "cells": [
  {
   "cell_type": "code",
   "execution_count": 145,
   "id": "after-agency",
   "metadata": {},
   "outputs": [],
   "source": [
    "from collections import ChainMap\n",
    "from itertools   import chain\n",
    "import re\n",
    "from helpers import data"
   ]
  },
  {
   "cell_type": "code",
   "execution_count": 166,
   "id": "correct-fields",
   "metadata": {},
   "outputs": [],
   "source": [
    "rules, my_ticket, tickets = data(16, parser=lambda s: s.split(\"\\n\"), sep=\"\\n\\n\")"
   ]
  },
  {
   "cell_type": "markdown",
   "id": "wired-affairs",
   "metadata": {},
   "source": [
    "Create one `tickets` list. "
   ]
  },
  {
   "cell_type": "code",
   "execution_count": 167,
   "id": "charitable-estimate",
   "metadata": {},
   "outputs": [],
   "source": [
    "# Remove text and combine\n",
    "tickets.pop(0)\n",
    "my_ticket.pop(0)\n",
    "# tickets = [*my_ticket, *tickets]\n",
    "tickets[:3]\n",
    "\n",
    "# Convert to lists of ints \n",
    "tickets = [[int(n) for n in row.split(\",\")] for row in tickets]"
   ]
  },
  {
   "cell_type": "markdown",
   "id": "arctic-dakota",
   "metadata": {},
   "source": [
    "Create one `rules` dictionary. "
   ]
  },
  {
   "cell_type": "code",
   "execution_count": 168,
   "id": "resident-noise",
   "metadata": {},
   "outputs": [
    {
     "data": {
      "text/plain": [
       "['departure location: 26-715 or 727-972',\n",
       " 'departure station: 45-164 or 175-960',\n",
       " 'departure platform: 43-247 or 270-972']"
      ]
     },
     "execution_count": 168,
     "metadata": {},
     "output_type": "execute_result"
    }
   ],
   "source": [
    "rules[:3]"
   ]
  },
  {
   "cell_type": "code",
   "execution_count": 169,
   "id": "simple-matter",
   "metadata": {},
   "outputs": [],
   "source": [
    "def parse_rule(rule: str) -> dict[str, list[tuple]]:\n",
    "    \"\"\"Parse rules into dictionary of ranges.\"\"\" \n",
    "    d = dict()\n",
    "    name, rest = rule.split(\":\")\n",
    "    d[name] = []\n",
    "    \n",
    "    ranges = rest.strip().split(\" or \")\n",
    "    for r in ranges: \n",
    "        minimum, maximum = r.split(\"-\")\n",
    "        d[name].append((int(minimum), int(maximum)))\n",
    "    \n",
    "    return d \n",
    "\n",
    "assert parse_rule(\"departure location: 26-715 or 727-972\") == {'departure location': [(26, 715), (727, 972)]}"
   ]
  },
  {
   "cell_type": "code",
   "execution_count": 170,
   "id": "technological-knowing",
   "metadata": {},
   "outputs": [],
   "source": [
    "rules = dict(ChainMap(*[d for d in map(parse_rule, rules)]))"
   ]
  },
  {
   "cell_type": "markdown",
   "id": "superb-participant",
   "metadata": {},
   "source": [
    "**Part 1:** Find the error rate, the sum of invalid values for any field. "
   ]
  },
  {
   "cell_type": "code",
   "execution_count": 171,
   "id": "pediatric-waters",
   "metadata": {},
   "outputs": [],
   "source": [
    "def within(val: int, *bounds: list[tuple[int]]) -> bool:\n",
    "    \"\"\"Return whether val is within any of (minimum, maximum) tuples given in bounds.\"\"\"\n",
    "    for minimum, maximum in bounds:\n",
    "        if minimum <= val <= maximum: \n",
    "            return True \n",
    "    return False\n",
    "\n",
    "assert within(972, (26, 715), (727, 972))\n",
    "assert not within(3, (4, 100))"
   ]
  },
  {
   "cell_type": "code",
   "execution_count": 178,
   "id": "confident-spice",
   "metadata": {},
   "outputs": [],
   "source": [
    "errors = [field for ticket in tickets \n",
    "                for field in ticket \n",
    "                if not within(field, *list(chain.from_iterable(rules.values())))]"
   ]
  },
  {
   "cell_type": "code",
   "execution_count": 179,
   "id": "typical-darkness",
   "metadata": {},
   "outputs": [
    {
     "data": {
      "text/plain": [
       "21081"
      ]
     },
     "execution_count": 179,
     "metadata": {},
     "output_type": "execute_result"
    }
   ],
   "source": [
    "sum(errors)"
   ]
  },
  {
   "cell_type": "markdown",
   "id": "visible-northern",
   "metadata": {},
   "source": [
    "**Part 1, Improved:**"
   ]
  },
  {
   "cell_type": "code",
   "execution_count": null,
   "id": "romantic-bennett",
   "metadata": {},
   "outputs": [],
   "source": []
  }
 ],
 "metadata": {
  "kernelspec": {
   "display_name": "Python 3",
   "language": "python",
   "name": "python3"
  },
  "language_info": {
   "codemirror_mode": {
    "name": "ipython",
    "version": 3
   },
   "file_extension": ".py",
   "mimetype": "text/x-python",
   "name": "python",
   "nbconvert_exporter": "python",
   "pygments_lexer": "ipython3",
   "version": "3.9.1"
  }
 },
 "nbformat": 4,
 "nbformat_minor": 5
}
