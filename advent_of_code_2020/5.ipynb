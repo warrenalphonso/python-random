{
 "cells": [
  {
   "cell_type": "code",
   "execution_count": 4,
   "id": "recent-potter",
   "metadata": {},
   "outputs": [],
   "source": [
    "from typing  import Tuple\n",
    "from helpers import data"
   ]
  },
  {
   "cell_type": "code",
   "execution_count": 3,
   "id": "invisible-croatia",
   "metadata": {},
   "outputs": [
    {
     "data": {
      "text/plain": [
       "['FBFBFFBLLR', 'FBBBFFBLLL', 'BFBFFFFRRR', 'BFBBBFBRLL', 'FBFBBFBLLL']"
      ]
     },
     "execution_count": 3,
     "metadata": {},
     "output_type": "execute_result"
    }
   ],
   "source": [
    "bp_seats = data(5)\n",
    "bp_seats[:5]"
   ]
  },
  {
   "cell_type": "markdown",
   "id": "fleet-effect",
   "metadata": {},
   "source": [
    "**Part 1:** Find the highest seat ID"
   ]
  },
  {
   "cell_type": "code",
   "execution_count": 11,
   "id": "pressing-vanilla",
   "metadata": {},
   "outputs": [],
   "source": [
    "def seat_row_column(bp_seat) -> Tuple[int, int]: \n",
    "    \"\"\"Convert binary-partitioned seat (7 characters F/B), \n",
    "    (3 characters L/R) to a tuple (row, column).\n",
    "    \"\"\"\n",
    "    row_bp = bp_seat[:7]\n",
    "    col_bp = bp_seat[-3:]\n",
    "    # Row \n",
    "    row = 0 \n",
    "    row_max = 128\n",
    "    for i, binary in enumerate(row_bp):\n",
    "        row += row_max / 2**(i+1) * (binary == \"B\")\n",
    "    # Column \n",
    "    col = 0 \n",
    "    col_max = 8 \n",
    "    for i, binary in enumerate(col_bp):\n",
    "        col += col_max / 2**(i+1) * (binary == \"R\")\n",
    "    return tuple(map(int, (row, col)))\n",
    "\n",
    "def seat_id(bp_seat) -> int: \n",
    "    row, col = seat_row_column(bp_seat)\n",
    "    return row * 8 + col"
   ]
  },
  {
   "cell_type": "code",
   "execution_count": 12,
   "id": "interior-eating",
   "metadata": {},
   "outputs": [
    {
     "data": {
      "text/plain": [
       "938"
      ]
     },
     "execution_count": 12,
     "metadata": {},
     "output_type": "execute_result"
    }
   ],
   "source": [
    "def attempt_one():\n",
    "    return max(seat_id(bp_seat) for bp_seat in bp_seats)\n",
    "attempt_one()"
   ]
  },
  {
   "cell_type": "code",
   "execution_count": 14,
   "id": "useful-quantity",
   "metadata": {},
   "outputs": [
    {
     "data": {
      "text/plain": [
       "938"
      ]
     },
     "execution_count": 14,
     "metadata": {},
     "output_type": "execute_result"
    }
   ],
   "source": [
    "def attempt_two():\n",
    "    return max(map(seat_id, bp_seats))\n",
    "attempt_two()"
   ]
  },
  {
   "cell_type": "markdown",
   "id": "standard-alert",
   "metadata": {},
   "source": [
    "`seat_row_column` is ugly. How do I make it better?"
   ]
  },
  {
   "cell_type": "code",
   "execution_count": 24,
   "id": "historical-leader",
   "metadata": {},
   "outputs": [],
   "source": [
    "def binary_partitioned_to_value(bp: str, one_char: chr = \"1\") -> int: \n",
    "    \"\"\"Decode binary-partitioned string where one_char means 1/yes.\"\"\"\n",
    "    val = 0\n",
    "    for i, c in enumerate(bp): \n",
    "        # I think this is clean enough...\n",
    "        val += 2**(len(bp) - (i+1)) * (c == one_char)\n",
    "    return val\n",
    "\n",
    "def binary_to_row_col(bp_seat) -> Tuple[int, int]:\n",
    "    \"\"\"\n",
    "    Convert a binary-partitioned seat (written as 7 characters F/B \n",
    "    followed by 3 characters L/R) to a tuple (row, column). \n",
    "    \n",
    "    >>> binary_to_row_col(\"FBFBBFFRLR\")\n",
    "    (44, 5)\n",
    "    >>> binary_to_row_col(\"BFFFBBFRRR\")\n",
    "    (70, 7)\n",
    "    >>> binary_to_row_col(\"FFFBBBFRRR\")\n",
    "    (14, 7)\n",
    "    >>> binary_to_row_col(\"BBFFBBFRLL\")\n",
    "    (102, 4)\n",
    "    \"\"\"\n",
    "    binary_row = bp_seat[:7]\n",
    "    binary_col = bp_seat[7:]\n",
    "    return (binary_partitioned_to_value(binary_row, \"B\"), \n",
    "            binary_partitioned_to_value(binary_col, \"R\")) "
   ]
  },
  {
   "cell_type": "code",
   "execution_count": 23,
   "id": "foster-oriental",
   "metadata": {},
   "outputs": [
    {
     "data": {
      "text/plain": [
       "TestResults(failed=0, attempted=4)"
      ]
     },
     "execution_count": 23,
     "metadata": {},
     "output_type": "execute_result"
    }
   ],
   "source": [
    "import doctest\n",
    "doctest.testmod()"
   ]
  },
  {
   "cell_type": "code",
   "execution_count": 25,
   "id": "arabic-vector",
   "metadata": {},
   "outputs": [
    {
     "data": {
      "text/plain": [
       "938"
      ]
     },
     "execution_count": 25,
     "metadata": {},
     "output_type": "execute_result"
    }
   ],
   "source": [
    "def attempt_three():\n",
    "    return max(seat_id(bp_seat) for bp_seat in bp_seats)\n",
    "attempt_three()"
   ]
  },
  {
   "cell_type": "code",
   "execution_count": 26,
   "id": "accurate-correspondence",
   "metadata": {},
   "outputs": [
    {
     "data": {
      "text/plain": [
       "938"
      ]
     },
     "execution_count": 26,
     "metadata": {},
     "output_type": "execute_result"
    }
   ],
   "source": [
    "# Dangit Norvig \n",
    "ID = int # Type \n",
    "def seat_id(seat: str, table=str.maketrans(\"FBLR\", \"0101\")) -> ID:\n",
    "    return ID(seat.translate(table), base=2)\n",
    "\n",
    "def attempt_four():\n",
    "    return max(seat_id(seat) for seat in bp_seats)\n",
    "attempt_four()"
   ]
  },
  {
   "cell_type": "code",
   "execution_count": 28,
   "id": "crucial-staff",
   "metadata": {},
   "outputs": [
    {
     "name": "stdout",
     "output_type": "stream",
     "text": [
      "0.4691725210000186\n",
      "0.45491470899992237\n"
     ]
    }
   ],
   "source": [
    "from timeit import timeit \n",
    "print(timeit(attempt_three, number=1000))\n",
    "print(timeit(attempt_four, number=1000))"
   ]
  },
  {
   "cell_type": "markdown",
   "id": "hidden-township",
   "metadata": {},
   "source": [
    "**Part 2:** My seat is missing from the list. Other seats are missing too, but my seat will be the only one where the seats with ID +1 and -1 will exist. Find my seat ID. "
   ]
  },
  {
   "cell_type": "code",
   "execution_count": 29,
   "id": "thrown-bottom",
   "metadata": {},
   "outputs": [
    {
     "data": {
      "text/plain": [
       "696"
      ]
     },
     "execution_count": 29,
     "metadata": {},
     "output_type": "execute_result"
    }
   ],
   "source": [
    "def attempt_one():\n",
    "    ids = sorted([seat_id(bp_seat) for bp_seat in bp_seats])\n",
    "    for i in range(len(ids) - 1): \n",
    "        if ids[i] + 1 == ids[i+1] - 1:\n",
    "            return ids[i] + 1 \n",
    "attempt_one()"
   ]
  },
  {
   "cell_type": "code",
   "execution_count": 35,
   "id": "concerned-worker",
   "metadata": {},
   "outputs": [
    {
     "data": {
      "text/plain": [
       "696"
      ]
     },
     "execution_count": 35,
     "metadata": {},
     "output_type": "execute_result"
    }
   ],
   "source": [
    "def attempt_two():\n",
    "    # They're unique so can just make a set \n",
    "    ids = set(map(seat_id, bp_seats))\n",
    "    for i in ids: \n",
    "        if i + 1 not in ids and i + 2 in ids: \n",
    "            return i + 1\n",
    "attempt_two()"
   ]
  },
  {
   "cell_type": "code",
   "execution_count": 36,
   "id": "baking-split",
   "metadata": {},
   "outputs": [
    {
     "data": {
      "text/plain": [
       "696"
      ]
     },
     "execution_count": 36,
     "metadata": {},
     "output_type": "execute_result"
    }
   ],
   "source": [
    "# Dammit Norvig \n",
    "# I didn't use information that only other missing ones are at the bottom or end \n",
    "def attempt_three(): \n",
    "    ids = set(map(seat_id, bp_seats))\n",
    "    [missing] = set(range(min(ids), max(ids))) - ids \n",
    "    return missing\n",
    "attempt_three()"
   ]
  },
  {
   "cell_type": "code",
   "execution_count": null,
   "id": "valid-status",
   "metadata": {},
   "outputs": [],
   "source": []
  }
 ],
 "metadata": {
  "kernelspec": {
   "display_name": "Python 3",
   "language": "python",
   "name": "python3"
  },
  "language_info": {
   "codemirror_mode": {
    "name": "ipython",
    "version": 3
   },
   "file_extension": ".py",
   "mimetype": "text/x-python",
   "name": "python",
   "nbconvert_exporter": "python",
   "pygments_lexer": "ipython3",
   "version": "3.9.1"
  }
 },
 "nbformat": 4,
 "nbformat_minor": 5
}
