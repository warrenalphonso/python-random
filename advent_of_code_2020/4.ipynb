{
 "cells": [
  {
   "cell_type": "code",
   "execution_count": 2,
   "id": "violent-doctor",
   "metadata": {},
   "outputs": [],
   "source": [
    "from helpers import data, quantify"
   ]
  },
  {
   "cell_type": "code",
   "execution_count": 3,
   "id": "accurate-overhead",
   "metadata": {},
   "outputs": [],
   "source": [
    "data?"
   ]
  },
  {
   "cell_type": "code",
   "execution_count": 4,
   "id": "cognitive-craft",
   "metadata": {},
   "outputs": [
    {
     "data": {
      "text/plain": [
       "'byr:1971\\necl:hzl pid:112040163\\neyr:2023 iyr:2019\\nhcl:#b6652a hgt:167cm'"
      ]
     },
     "execution_count": 4,
     "metadata": {},
     "output_type": "execute_result"
    }
   ],
   "source": [
    "passports = data(4, sep=\"\\n\\n\")\n",
    "passports[0]"
   ]
  },
  {
   "cell_type": "code",
   "execution_count": 5,
   "id": "listed-scene",
   "metadata": {},
   "outputs": [
    {
     "data": {
      "text/plain": [
       "'byr:1971 ecl:hzl pid:112040163 eyr:2023 iyr:2019 hcl:#b6652a hgt:167cm'"
      ]
     },
     "execution_count": 5,
     "metadata": {},
     "output_type": "execute_result"
    }
   ],
   "source": [
    "passports = list(map(lambda s: s.replace(\"\\n\", \" \"), passports))\n",
    "passports[0]"
   ]
  },
  {
   "cell_type": "code",
   "execution_count": 6,
   "id": "relevant-monthly",
   "metadata": {},
   "outputs": [
    {
     "data": {
      "text/plain": [
       "['byr:1971',\n",
       " 'ecl:hzl',\n",
       " 'pid:112040163',\n",
       " 'eyr:2023',\n",
       " 'iyr:2019',\n",
       " 'hcl:#b6652a',\n",
       " 'hgt:167cm']"
      ]
     },
     "execution_count": 6,
     "metadata": {},
     "output_type": "execute_result"
    }
   ],
   "source": [
    "passports = list(map(lambda s: s.split(), passports))\n",
    "passports[0]"
   ]
  },
  {
   "cell_type": "code",
   "execution_count": 7,
   "id": "behind-worker",
   "metadata": {},
   "outputs": [
    {
     "data": {
      "text/plain": [
       "{'byr': '1971',\n",
       " 'ecl': 'hzl',\n",
       " 'pid': '112040163',\n",
       " 'eyr': '2023',\n",
       " 'iyr': '2019',\n",
       " 'hcl': '#b6652a',\n",
       " 'hgt': '167cm'}"
      ]
     },
     "execution_count": 7,
     "metadata": {},
     "output_type": "execute_result"
    }
   ],
   "source": [
    "passports = list(map(lambda arr: dict((s[:3],  s[4:]) for s in arr) , passports))\n",
    "passports[0]"
   ]
  },
  {
   "cell_type": "markdown",
   "id": "handed-gazette",
   "metadata": {},
   "source": [
    "**Part 1:** Report number of passports with fields byr, iyr, eyr, hgt, hcl, ecl, pid (don't care about cid). "
   ]
  },
  {
   "cell_type": "code",
   "execution_count": 8,
   "id": "spare-numbers",
   "metadata": {},
   "outputs": [],
   "source": [
    "required = { \"byr\", \"iyr\", \"eyr\", \"hgt\", \"hcl\", \"ecl\", \"pid\" }"
   ]
  },
  {
   "cell_type": "code",
   "execution_count": 9,
   "id": "universal-speech",
   "metadata": {},
   "outputs": [
    {
     "data": {
      "text/plain": [
       "192"
      ]
     },
     "execution_count": 9,
     "metadata": {},
     "output_type": "execute_result"
    }
   ],
   "source": [
    "def attempt_one():\n",
    "    valid = 0 \n",
    "    for d in passports: \n",
    "        fields = set(d.keys())\n",
    "        valid += required.issubset(fields)\n",
    "    return valid \n",
    "\n",
    "attempt_one()"
   ]
  },
  {
   "cell_type": "code",
   "execution_count": 10,
   "id": "generous-bulletin",
   "metadata": {},
   "outputs": [
    {
     "data": {
      "text/plain": [
       "192"
      ]
     },
     "execution_count": 10,
     "metadata": {},
     "output_type": "execute_result"
    }
   ],
   "source": [
    "def attempt_two():\n",
    "    valid = 0 \n",
    "    for d in passports: \n",
    "        fields = set(d.keys())\n",
    "        valid += fields | required == fields # OR is same as original \n",
    "    return valid\n",
    "\n",
    "attempt_two()"
   ]
  },
  {
   "cell_type": "code",
   "execution_count": 11,
   "id": "comparable-laundry",
   "metadata": {},
   "outputs": [],
   "source": [
    "# Dammit Norvig \n",
    "import re\n",
    "def parse_passport(passport: str) -> dict:\n",
    "    \"Make a dict with all key:value entries in passport\"\n",
    "    return dict(re.findall(r\"([a-z]+):([^\\s]+)\", passport))\n",
    "\n",
    "assert parse_passport(\"one:h3 to:12_\\nfour:4\") == {\"one\": \"h3\", \"to\": \"12_\", \"four\": \"4\"}"
   ]
  },
  {
   "cell_type": "code",
   "execution_count": 12,
   "id": "opening-omega",
   "metadata": {},
   "outputs": [
    {
     "data": {
      "text/plain": [
       "192"
      ]
     },
     "execution_count": 12,
     "metadata": {},
     "output_type": "execute_result"
    }
   ],
   "source": [
    "def attempt_three():\n",
    "    # Norvig \n",
    "    passports = data(4, parser=parse_passport, sep=\"\\n\\n\")\n",
    "    return quantify(passports, required.issubset) # Wowza \n",
    "\n",
    "attempt_three()"
   ]
  },
  {
   "cell_type": "markdown",
   "id": "satellite-petroleum",
   "metadata": {},
   "source": [
    "**Part 2:** Validate field values now. "
   ]
  },
  {
   "cell_type": "code",
   "execution_count": 37,
   "id": "respected-possibility",
   "metadata": {},
   "outputs": [],
   "source": [
    "in_between = lambda a, b: lambda x: a <= int(x) <= b\n",
    "\n",
    "def hgt(s):\n",
    "    if s[-2:] == \"cm\": \n",
    "        return in_between(150, 193)(s[:-2])\n",
    "    elif s[-2:] == \"in\":\n",
    "        return in_between(59, 76)(s[:-2])\n",
    "    else: \n",
    "        return False\n",
    "#         raise ValueError(f\"yo what it was {s[-2:]}, full s is {s}\")\n",
    "        \n",
    "def hcl(s):\n",
    "    if s[0] != \"#\": \n",
    "        return False \n",
    "    if re.fullmatch(\"[0-9a-f]{6}$\", s[1:]):\n",
    "        return True \n",
    "    return False \n",
    "\n",
    "\n",
    "checks = {\n",
    "    \"byr\": in_between(1920, 2002), \n",
    "    \"iyr\": in_between(2010, 2020), \n",
    "    \"eyr\": in_between(2020, 2030), \n",
    "    \"hgt\": hgt, \n",
    "    \"hcl\": hcl, \n",
    "    \"ecl\": lambda s: s in {\"amb\", \"blu\", \"brn\", \"gry\", \"grn\", \"hzl\", \"oth\"}, \n",
    "    \"pid\": lambda s: re.fullmatch(\"[0-9]{9}#\", s)\n",
    "}\n",
    "\n",
    "# Cleaner method \n",
    "checks = dict(\n",
    "    byr=in_between(1920, 2002), \n",
    "    iyr=in_between(2010, 2020), \n",
    "    eyr=in_between(2020, 2030), \n",
    "    hgt=hgt, \n",
    "    hcl=hcl, \n",
    "    ecl=lambda s: s in {\"amb\", \"blu\", \"brn\", \"gry\", \"grn\", \"hzl\", \"oth\"}, \n",
    "    pid=lambda s: re.fullmatch(\"[0-9]{9}$\", s)\n",
    ")"
   ]
  },
  {
   "cell_type": "code",
   "execution_count": 44,
   "id": "surrounded-blood",
   "metadata": {},
   "outputs": [
    {
     "data": {
      "text/plain": [
       "101"
      ]
     },
     "execution_count": 44,
     "metadata": {},
     "output_type": "execute_result"
    }
   ],
   "source": [
    "def attempt_one():\n",
    "    valid = 0 \n",
    "    for d in passports: \n",
    "        fields = set(d.keys())\n",
    "        # Required should have all fields\n",
    "        if fields | required != fields: \n",
    "            continue \n",
    "        for field, func in checks.items():\n",
    "            if not func(d[field]):\n",
    "                break # Finally get to use for/else !\n",
    "        else: \n",
    "            valid += 1 \n",
    "    return valid \n",
    "\n",
    "attempt_one()"
   ]
  },
  {
   "cell_type": "code",
   "execution_count": 41,
   "id": "animated-sight",
   "metadata": {},
   "outputs": [
    {
     "data": {
      "text/plain": [
       "101"
      ]
     },
     "execution_count": 41,
     "metadata": {},
     "output_type": "execute_result"
    }
   ],
   "source": [
    "# Norvig \n",
    "def attempt_two():\n",
    "    return sum(all(field in passport and checks[field](passport[field]) \n",
    "                  for field in required)\n",
    "               for passport in passports\n",
    "              )\n",
    "attempt_two()"
   ]
  },
  {
   "cell_type": "code",
   "execution_count": 47,
   "id": "comic-scottish",
   "metadata": {},
   "outputs": [
    {
     "name": "stdout",
     "output_type": "stream",
     "text": [
      "0.65501359100017\n",
      "0.6731009589998393\n"
     ]
    }
   ],
   "source": [
    "# Compare \n",
    "from timeit import timeit \n",
    "print(timeit(attempt_one, number=1000))\n",
    "print(timeit(attempt_two, number=1000))"
   ]
  },
  {
   "cell_type": "code",
   "execution_count": null,
   "id": "sitting-highlight",
   "metadata": {},
   "outputs": [],
   "source": []
  }
 ],
 "metadata": {
  "kernelspec": {
   "display_name": "Python 3",
   "language": "python",
   "name": "python3"
  },
  "language_info": {
   "codemirror_mode": {
    "name": "ipython",
    "version": 3
   },
   "file_extension": ".py",
   "mimetype": "text/x-python",
   "name": "python",
   "nbconvert_exporter": "python",
   "pygments_lexer": "ipython3",
   "version": "3.9.1"
  }
 },
 "nbformat": 4,
 "nbformat_minor": 5
}
