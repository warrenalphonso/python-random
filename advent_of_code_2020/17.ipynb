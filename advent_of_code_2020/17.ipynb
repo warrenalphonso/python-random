{
 "cells": [
  {
   "cell_type": "code",
   "execution_count": 29,
   "id": "available-rocket",
   "metadata": {},
   "outputs": [],
   "source": [
    "from typing  import Generator\n",
    "from helpers import data"
   ]
  },
  {
   "cell_type": "code",
   "execution_count": 7,
   "id": "excess-suspect",
   "metadata": {},
   "outputs": [
    {
     "data": {
      "text/plain": [
       "['#.#####.',\n",
       " '#..##...',\n",
       " '.##..#..',\n",
       " '#.##.###',\n",
       " '.#.#.#..',\n",
       " '#.##..#.',\n",
       " '#####..#',\n",
       " '..#.#.##']"
      ]
     },
     "execution_count": 7,
     "metadata": {},
     "output_type": "execute_result"
    }
   ],
   "source": [
    "start = data(17)\n",
    "start"
   ]
  },
  {
   "cell_type": "code",
   "execution_count": 4,
   "id": "original-indianapolis",
   "metadata": {},
   "outputs": [
    {
     "data": {
      "text/plain": [
       "(8, 8)"
      ]
     },
     "execution_count": 4,
     "metadata": {},
     "output_type": "execute_result"
    }
   ],
   "source": [
    "len(start), len(start[0])"
   ]
  },
  {
   "cell_type": "markdown",
   "id": "purple-syria",
   "metadata": {},
   "source": [
    "A **neighbor** is any cube where **any coordinate differs by at most 1**. \n",
    "\n",
    "Active cubes are denoted with \\#, and inactive cubes are denoted with \\. \n",
    "\n",
    "The boot process consists of six cycles. During each cycle: \n",
    "- If a cube is **active** and exactly **2 or 3 neighbors are active**, it stays active. Otherwise it becomes inactive. \n",
    "- If a cube is **inactive** and exactly **3 neighors are active**, it becomes active. Otherwise it stays inactive. "
   ]
  },
  {
   "cell_type": "markdown",
   "id": "vulnerable-garage",
   "metadata": {},
   "source": [
    "**Part 1:** How many cubes are left in the active state after the sixth cycle?"
   ]
  },
  {
   "cell_type": "code",
   "execution_count": 82,
   "id": "married-discretion",
   "metadata": {},
   "outputs": [],
   "source": [
    "class MutableBool:\n",
    "    def __init__(self, val=False):\n",
    "        self.val = val \n",
    "        self.next = False\n",
    "        \n",
    "    def __bool__(self):\n",
    "        return self.val\n",
    "    \n",
    "    def __repr__(self):\n",
    "        return str(self.val)\n",
    "    \n",
    "    def update(self):\n",
    "        self.val, self.next = self.next, False"
   ]
  },
  {
   "cell_type": "code",
   "execution_count": 83,
   "id": "dated-dictionary",
   "metadata": {},
   "outputs": [],
   "source": [
    "# At each time step, update each entry based on the rule and its neighbors \n",
    "class NGrid(dict):\n",
    "    \"\"\"NGrid will choose default values for missing keys and is nested n deep.\"\"\"\n",
    "    def __init__(self, n):\n",
    "        self.n = n\n",
    "        \n",
    "    def __missing__(self, key): \n",
    "        if self.n == 1:\n",
    "            self[key] = MutableBool()\n",
    "        else: \n",
    "            self[key] = NGrid(self.n - 1)\n",
    "        return self[key]\n",
    "    \n",
    "    def life(self, steps): \n",
    "        \"\"\"Simulate steps iterations of Conway's Game of Life.\"\"\"\n",
    "        for i in range(steps): \n",
    "            self.step()\n",
    "    \n",
    "    def step(self):\n",
    "        pass\n",
    "        \n",
    "    def neighbors(self, *args) -> Generator[bool, None, None]:\n",
    "        \"\"\"Yield neighbors of coordinate at self[args[0]][args[1]][...]\n",
    "        \n",
    "        Actually, I wasn't able to do this without yielding self too...\n",
    "        \"\"\"\n",
    "        if len(args) != self.n: \n",
    "            raise ValueError(f\"Expected {self.n} integer coordinates, got {len(args)}.\")\n",
    "        if any(type(arg) != int for arg in args):\n",
    "            print(args)\n",
    "            \n",
    "            print([type(arg) for arg in args])\n",
    "            raise ValueError(\"Expected integer coordinates.\")\n",
    "            \n",
    "        first, *rest = args\n",
    "        if self.n == 1:\n",
    "            yield self[first - 1]\n",
    "            yield self[first]\n",
    "            yield self[first + 1]\n",
    "        else: \n",
    "            yield from self[first - 1].neighbors(*rest)\n",
    "            yield from self[first].neighbors(*rest)\n",
    "            yield from self[first + 1].neighbors(*rest)"
   ]
  },
  {
   "cell_type": "code",
   "execution_count": 84,
   "id": "artistic-arrow",
   "metadata": {},
   "outputs": [],
   "source": [
    "g = NGrid(1)"
   ]
  },
  {
   "cell_type": "code",
   "execution_count": 85,
   "id": "swiss-confirmation",
   "metadata": {},
   "outputs": [
    {
     "data": {
      "text/plain": [
       "[False, False, False]"
      ]
     },
     "execution_count": 85,
     "metadata": {},
     "output_type": "execute_result"
    }
   ],
   "source": [
    "list(g.neighbors(1))"
   ]
  },
  {
   "cell_type": "code",
   "execution_count": null,
   "id": "daily-orleans",
   "metadata": {},
   "outputs": [],
   "source": []
  },
  {
   "cell_type": "code",
   "execution_count": null,
   "id": "aware-light",
   "metadata": {},
   "outputs": [],
   "source": []
  },
  {
   "cell_type": "code",
   "execution_count": null,
   "id": "prompt-tomorrow",
   "metadata": {},
   "outputs": [],
   "source": []
  },
  {
   "cell_type": "code",
   "execution_count": 42,
   "id": "mature-dietary",
   "metadata": {},
   "outputs": [],
   "source": [
    "new = [\n",
    "    ['.', '.', '.'],\n",
    "    ['.', '.', '.'],\n",
    "    ['.', '.', '.'],\n",
    "]\n",
    "for i in range(3):\n",
    "    for j in range(3):\n",
    "        active_neighbors = sum(n == '#' for n in neighbors(i, j, 0, example))\n",
    "        if example[i][j] == '#': \n",
    "            if 2 <= active_neighbors <= 3:\n",
    "                new[i][j] = '#'\n",
    "        else:\n",
    "            if active_neighbors == 3:\n",
    "                new[i][j] = '#'"
   ]
  }
 ],
 "metadata": {
  "kernelspec": {
   "display_name": "Python 3",
   "language": "python",
   "name": "python3"
  },
  "language_info": {
   "codemirror_mode": {
    "name": "ipython",
    "version": 3
   },
   "file_extension": ".py",
   "mimetype": "text/x-python",
   "name": "python",
   "nbconvert_exporter": "python",
   "pygments_lexer": "ipython3",
   "version": "3.9.1"
  }
 },
 "nbformat": 4,
 "nbformat_minor": 5
}
