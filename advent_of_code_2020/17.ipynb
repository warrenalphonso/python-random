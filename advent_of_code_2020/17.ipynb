{
 "cells": [
  {
   "cell_type": "code",
   "execution_count": 130,
   "id": "available-rocket",
   "metadata": {},
   "outputs": [],
   "source": [
    "from collections.abc import Mapping\n",
    "from itertools       import product\n",
    "from typing          import Generator, List\n",
    "from helpers         import data"
   ]
  },
  {
   "cell_type": "code",
   "execution_count": 3,
   "id": "excess-suspect",
   "metadata": {},
   "outputs": [
    {
     "data": {
      "text/plain": [
       "['#.#####.',\n",
       " '#..##...',\n",
       " '.##..#..',\n",
       " '#.##.###',\n",
       " '.#.#.#..',\n",
       " '#.##..#.',\n",
       " '#####..#',\n",
       " '..#.#.##']"
      ]
     },
     "execution_count": 3,
     "metadata": {},
     "output_type": "execute_result"
    }
   ],
   "source": [
    "start = data(17)\n",
    "start"
   ]
  },
  {
   "cell_type": "code",
   "execution_count": 4,
   "id": "original-indianapolis",
   "metadata": {},
   "outputs": [
    {
     "data": {
      "text/plain": [
       "(8, 8)"
      ]
     },
     "execution_count": 4,
     "metadata": {},
     "output_type": "execute_result"
    }
   ],
   "source": [
    "len(start), len(start[0])"
   ]
  },
  {
   "cell_type": "markdown",
   "id": "purple-syria",
   "metadata": {},
   "source": [
    "A **neighbor** is any cube where **any coordinate differs by at most 1**. \n",
    "\n",
    "Active cubes are denoted with \\#, and inactive cubes are denoted with \\. \n",
    "\n",
    "The boot process consists of six cycles. During each cycle: \n",
    "- If a cube is **active** and exactly **2 or 3 neighbors are active**, it stays active. Otherwise it becomes inactive. \n",
    "- If a cube is **inactive** and exactly **3 neighors are active**, it becomes active. Otherwise it stays inactive. "
   ]
  },
  {
   "cell_type": "markdown",
   "id": "vulnerable-garage",
   "metadata": {},
   "source": [
    "**Part 1:** How many cubes are left in the active state after the sixth cycle?"
   ]
  },
  {
   "cell_type": "code",
   "execution_count": 172,
   "id": "isolated-empty",
   "metadata": {},
   "outputs": [],
   "source": [
    "def nested_get(d, *keys):\n",
    "    if isinstance(d, Mapping):\n",
    "        first, *rest = keys\n",
    "        return nested_get(d[first], *rest)\n",
    "    return d"
   ]
  },
  {
   "cell_type": "code",
   "execution_count": 173,
   "id": "married-discretion",
   "metadata": {},
   "outputs": [],
   "source": [
    "class MutableBool:\n",
    "    def __init__(self, val=False):\n",
    "        self.val = val \n",
    "        self.next = False\n",
    "        \n",
    "    def __bool__(self):\n",
    "        return self.val\n",
    "    \n",
    "    def __repr__(self):\n",
    "        return str(self.val)\n",
    "    \n",
    "    def update(self):\n",
    "        self.val, self.next = self.next, False"
   ]
  },
  {
   "cell_type": "code",
   "execution_count": 210,
   "id": "dated-dictionary",
   "metadata": {},
   "outputs": [],
   "source": [
    "# At each time step, update each entry based on the rule and its neighbors \n",
    "class NGrid(dict):\n",
    "    \"\"\"NGrid will choose default values for missing keys and is nested n deep.\"\"\"\n",
    "\n",
    "    # Tracks minimum and maximum range for each level \n",
    "    ranges: dict[int, List[int]] = {}\n",
    "\n",
    "    def __init__(self, n):\n",
    "        self.n = n\n",
    "        self.ranges[self.n] = [0, 0] # Will always be overridden \n",
    "        \n",
    "    def __missing__(self, key): \n",
    "        if self.n == 1:\n",
    "            val = MutableBool()\n",
    "        else: \n",
    "            val = NGrid(self.n - 1)\n",
    "        self[key] = val\n",
    "            \n",
    "        # Update minimum or maximum \n",
    "        if self.ranges[self.n][0] > key:\n",
    "            self.ranges[self.n][0] = key\n",
    "        if self.ranges[self.n][1] < key: \n",
    "            self.ranges[self.n][1] = key\n",
    "        \n",
    "        return val\n",
    "        \n",
    "    def life(self, steps): \n",
    "        \"\"\"Simulate steps iterations of Conway's Game of Life.\"\"\"\n",
    "        for i in range(steps): \n",
    "            self.step()\n",
    "    \n",
    "    def step(self):\n",
    "        \"\"\"Simulate one iteration of Conway's Game of Life.\"\"\"\n",
    "        periods = list(map(lambda r: (r[0] - 1, r[1] + 2), self.ranges.values()))\n",
    "        for coords in product(*[range(*period) for period in periods]):\n",
    "            neighbors_on = sum(map(bool, self.neighbors(*coords)))\n",
    "            if neighbors_on == 3: \n",
    "                nested_get(self, *coords).next = True \n",
    "            elif neighbors_on == 2 and not nested_get(self, *coords):\n",
    "                nested_get(self, *coords).next = True \n",
    "        \n",
    "        for coords in product(*[range(*period) for period in periods]):\n",
    "            nested_get(self, *coords).update()\n",
    "    \n",
    "    def neighbors(self, *args, center=True) -> Generator[bool, None, None]:\n",
    "        \"\"\"Yield neighbors of coordinate at self[args[0]][args[1]][...]\n",
    "        \n",
    "        `center` tracks whether we've offset at least once during recursion. We \n",
    "        need to know this so we can ensure we never print out the element whose \n",
    "        neighbors we're searching for. \n",
    "        \"\"\"\n",
    "        if len(args) != self.n: \n",
    "            raise ValueError(f\"Expected {self.n} integer coordinates, got {len(args)}.\")\n",
    "        if any(type(arg) != int for arg in args):\n",
    "            raise ValueError(\"Expected integer coordinates.\")\n",
    "            \n",
    "        first, *rest = args\n",
    "        if self.n == 1:\n",
    "            yield self[first - 1]\n",
    "            yield self[first + 1]\n",
    "            if not center:\n",
    "                yield self[first]\n",
    "        else: \n",
    "            yield from self[first - 1].neighbors(*rest, center=False)\n",
    "            yield from self[first].neighbors(*rest, center=center)\n",
    "            yield from self[first + 1].neighbors(*rest, center=False)"
   ]
  },
  {
   "cell_type": "code",
   "execution_count": 231,
   "id": "artistic-arrow",
   "metadata": {},
   "outputs": [],
   "source": [
    "g = NGrid(3)"
   ]
  },
  {
   "cell_type": "code",
   "execution_count": 232,
   "id": "frozen-nursing",
   "metadata": {},
   "outputs": [],
   "source": [
    "for y, l in enumerate(start): \n",
    "    for x, c in enumerate(l):\n",
    "        if c == \"#\":\n",
    "            g[0][y][x] = MutableBool(True)"
   ]
  },
  {
   "cell_type": "code",
   "execution_count": 233,
   "id": "electrical-lambda",
   "metadata": {},
   "outputs": [],
   "source": [
    "g.life(6)"
   ]
  },
  {
   "cell_type": "code",
   "execution_count": 234,
   "id": "alike-denmark",
   "metadata": {},
   "outputs": [],
   "source": [
    "on = 0"
   ]
  },
  {
   "cell_type": "code",
   "execution_count": 235,
   "id": "featured-chapter",
   "metadata": {},
   "outputs": [],
   "source": [
    "def count(d): \n",
    "    if isinstance(d, Mapping):\n",
    "        return sum(count(v) for k, v in d.items())\n",
    "    else:\n",
    "        if bool(d):\n",
    "            return 1\n",
    "        return 0"
   ]
  },
  {
   "cell_type": "code",
   "execution_count": 236,
   "id": "completed-invalid",
   "metadata": {},
   "outputs": [
    {
     "data": {
      "text/plain": [
       "590"
      ]
     },
     "execution_count": 236,
     "metadata": {},
     "output_type": "execute_result"
    }
   ],
   "source": [
    "count(g)"
   ]
  }
 ],
 "metadata": {
  "kernelspec": {
   "display_name": "Python 3",
   "language": "python",
   "name": "python3"
  },
  "language_info": {
   "codemirror_mode": {
    "name": "ipython",
    "version": 3
   },
   "file_extension": ".py",
   "mimetype": "text/x-python",
   "name": "python",
   "nbconvert_exporter": "python",
   "pygments_lexer": "ipython3",
   "version": "3.9.1"
  }
 },
 "nbformat": 4,
 "nbformat_minor": 5
}
