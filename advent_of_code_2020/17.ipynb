{
 "cells": [
  {
   "cell_type": "code",
   "execution_count": 2,
   "id": "available-rocket",
   "metadata": {},
   "outputs": [],
   "source": [
    "from helpers import data"
   ]
  },
  {
   "cell_type": "code",
   "execution_count": 4,
   "id": "excess-suspect",
   "metadata": {},
   "outputs": [
    {
     "data": {
      "text/plain": [
       "['#.#####.',\n",
       " '#..##...',\n",
       " '.##..#..',\n",
       " '#.##.###',\n",
       " '.#.#.#..',\n",
       " '#.##..#.',\n",
       " '#####..#',\n",
       " '..#.#.##']"
      ]
     },
     "execution_count": 4,
     "metadata": {},
     "output_type": "execute_result"
    }
   ],
   "source": [
    "start = data(17)\n",
    "start"
   ]
  },
  {
   "cell_type": "code",
   "execution_count": 5,
   "id": "original-indianapolis",
   "metadata": {},
   "outputs": [
    {
     "data": {
      "text/plain": [
       "(8, 8)"
      ]
     },
     "execution_count": 5,
     "metadata": {},
     "output_type": "execute_result"
    }
   ],
   "source": [
    "len(start), len(start[0])"
   ]
  },
  {
   "cell_type": "markdown",
   "id": "purple-syria",
   "metadata": {},
   "source": [
    "A **neighbor** is any cube where **any coordinate differs by at most 1**. \n",
    "\n",
    "Active cubes are denoted with \\#, and inactive cubes are denoted with \\. \n",
    "\n",
    "The boot process consists of six cycles. During each cycle: \n",
    "- If a cube is **active** and exactly **2 or 3 neighbors are active**, it stays active. Otherwise it becomes inactive. \n",
    "- If a cube is **inactive** and exactly **3 neighors are active**, it becomes active. Otherwise it stays inactive. \n",
    "\n",
    "\n",
    "**I don't understand the example they give...**"
   ]
  },
  {
   "cell_type": "markdown",
   "id": "vulnerable-garage",
   "metadata": {},
   "source": [
    "**Part 1:** How many cubes are left in the active state after the sixth cycle?"
   ]
  },
  {
   "cell_type": "code",
   "execution_count": 6,
   "id": "several-population",
   "metadata": {},
   "outputs": [],
   "source": [
    "example = [\n",
    "    '.#.', \n",
    "    '..#', \n",
    "    '###',\n",
    "]"
   ]
  },
  {
   "cell_type": "code",
   "execution_count": 41,
   "id": "trying-trailer",
   "metadata": {},
   "outputs": [],
   "source": [
    "def neighbors(i, j, k, grid): \n",
    "    for x in range(i-1, i+2): \n",
    "        for y in range(j-1, j+2): \n",
    "            if x >= len(grid): x -= len(grid)\n",
    "            if y >= len(grid[0]): y -= len(grid[0])\n",
    "            if x == i and y == j: continue\n",
    "            yield grid[x][y]"
   ]
  },
  {
   "cell_type": "code",
   "execution_count": 42,
   "id": "mature-dietary",
   "metadata": {},
   "outputs": [],
   "source": [
    "new = [\n",
    "    ['.', '.', '.'],\n",
    "    ['.', '.', '.'],\n",
    "    ['.', '.', '.'],\n",
    "]\n",
    "for i in range(3):\n",
    "    for j in range(3):\n",
    "        active_neighbors = sum(n == '#' for n in neighbors(i, j, 0, example))\n",
    "        if example[i][j] == '#': \n",
    "            if 2 <= active_neighbors <= 3:\n",
    "                new[i][j] = '#'\n",
    "        else:\n",
    "            if active_neighbors == 3:\n",
    "                new[i][j] = '#'"
   ]
  },
  {
   "cell_type": "code",
   "execution_count": 43,
   "id": "dynamic-metabolism",
   "metadata": {},
   "outputs": [
    {
     "data": {
      "text/plain": [
       "[['.', '.', '.'], ['.', '.', '#'], ['#', '#', '#']]"
      ]
     },
     "execution_count": 43,
     "metadata": {},
     "output_type": "execute_result"
    }
   ],
   "source": [
    "new"
   ]
  },
  {
   "cell_type": "code",
   "execution_count": 34,
   "id": "agricultural-generator",
   "metadata": {},
   "outputs": [
    {
     "data": {
      "text/plain": [
       "['#', '#', '#', '#', '.', '.', '#', '.']"
      ]
     },
     "execution_count": 34,
     "metadata": {},
     "output_type": "execute_result"
    }
   ],
   "source": [
    "list(neighbors(0, 2, 0, example))"
   ]
  },
  {
   "cell_type": "code",
   "execution_count": null,
   "id": "loaded-doubt",
   "metadata": {},
   "outputs": [],
   "source": []
  }
 ],
 "metadata": {
  "kernelspec": {
   "display_name": "Python 3",
   "language": "python",
   "name": "python3"
  },
  "language_info": {
   "codemirror_mode": {
    "name": "ipython",
    "version": 3
   },
   "file_extension": ".py",
   "mimetype": "text/x-python",
   "name": "python",
   "nbconvert_exporter": "python",
   "pygments_lexer": "ipython3",
   "version": "3.9.1"
  }
 },
 "nbformat": 4,
 "nbformat_minor": 5
}
