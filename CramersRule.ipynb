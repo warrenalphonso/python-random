{
 "cells": [
  {
   "cell_type": "code",
   "execution_count": 1,
   "id": "handled-bulletin",
   "metadata": {},
   "outputs": [],
   "source": [
    "import numpy as np\n",
    "np.random.seed(1)"
   ]
  },
  {
   "cell_type": "code",
   "execution_count": 2,
   "id": "japanese-specific",
   "metadata": {},
   "outputs": [],
   "source": [
    "def solve(Q: np.ndarray, y: np.ndarray) -> np.ndarray: \n",
    "    \"\"\"Solve Qx = y for orthonormal Q.\"\"\"\n",
    "    if Q.shape[0] != y.shape[0]:\n",
    "        raise ValueError(\"Shape mismatch!\")\n",
    "    \n",
    "    return np.array([Q[:,i] @ y for i in range(Q.shape[1])])"
   ]
  },
  {
   "cell_type": "code",
   "execution_count": 3,
   "id": "advance-boost",
   "metadata": {},
   "outputs": [],
   "source": [
    "tol = 1e-3\n",
    "def match(a: np.ndarray, b: np.ndarray) -> bool:\n",
    "    return sum( map(abs, a - b) ) <= tol"
   ]
  },
  {
   "cell_type": "code",
   "execution_count": 4,
   "id": "local-graduation",
   "metadata": {},
   "outputs": [],
   "source": [
    "x = np.random.rand(2)\n",
    "Q = np.linalg.qr( np.random.rand(3, 2) )[0]\n",
    "y = Q @ x \n",
    "assert match( solve(Q, y), x )"
   ]
  },
  {
   "cell_type": "code",
   "execution_count": 5,
   "id": "suspended-scientist",
   "metadata": {},
   "outputs": [],
   "source": [
    "for _ in range(100):\n",
    "    n = np.random.randint(1, 500)\n",
    "    m = np.random.randint(1, 500)\n",
    "\n",
    "    x = np.random.rand(min(n, m))\n",
    "    Q = np.linalg.qr( np.random.rand(n, m) )[0]\n",
    "    y = Q @ x \n",
    "    assert match( solve(Q, y), x )"
   ]
  },
  {
   "cell_type": "code",
   "execution_count": null,
   "id": "excited-wisconsin",
   "metadata": {},
   "outputs": [],
   "source": []
  }
 ],
 "metadata": {
  "kernelspec": {
   "display_name": "Python 3",
   "language": "python",
   "name": "python3"
  },
  "language_info": {
   "codemirror_mode": {
    "name": "ipython",
    "version": 3
   },
   "file_extension": ".py",
   "mimetype": "text/x-python",
   "name": "python",
   "nbconvert_exporter": "python",
   "pygments_lexer": "ipython3",
   "version": "3.9.1"
  }
 },
 "nbformat": 4,
 "nbformat_minor": 5
}
