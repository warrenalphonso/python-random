{
 "cells": [
  {
   "cell_type": "code",
   "execution_count": 1,
   "id": "04bf4465",
   "metadata": {},
   "outputs": [],
   "source": [
    "import pickle\n",
    "from collections import Counter\n",
    "from pprint import pprint\n",
    "\n",
    "from process import REPOS"
   ]
  },
  {
   "cell_type": "code",
   "execution_count": 2,
   "id": "c53ed7cb",
   "metadata": {},
   "outputs": [
    {
     "name": "stdout",
     "output_type": "stream",
     "text": [
      "['tensorflow/tensorflow',\n",
      " 'ytdl-org/youtube-dl',\n",
      " 'nvbn/thefuck',\n",
      " 'pallets/flask',\n",
      " 'django/django',\n",
      " 'keras-team/keras',\n",
      " 'httpie/httpie',\n",
      " 'ansible/ansible',\n",
      " 'psf/requests',\n",
      " 'scikit-learn/scikit-learn',\n",
      " 'pytorch/pytorch',\n",
      " 'scrapy/scrapy',\n",
      " 'ageitgey/face_recognition',\n",
      " 'pandas-dev/pandas',\n",
      " 'getsentry/sentry',\n",
      " 'pypa/pipenv',\n",
      " 'fastai/fastai']\n"
     ]
    }
   ],
   "source": [
    "pprint(REPOS)"
   ]
  },
  {
   "cell_type": "code",
   "execution_count": 3,
   "id": "9f8c5b1b",
   "metadata": {},
   "outputs": [],
   "source": [
    "stats = pickle.load(open(\"stats.pkl\", \"rb\"))"
   ]
  },
  {
   "cell_type": "code",
   "execution_count": 4,
   "id": "b21e7655",
   "metadata": {},
   "outputs": [],
   "source": [
    "for repo in REPOS:\n",
    "    assert all(path.startswith(f\"repos/{repo}/\") or path == '' for path in stats[repo][\"paths\"])"
   ]
  },
  {
   "cell_type": "code",
   "execution_count": 5,
   "id": "7733ba23",
   "metadata": {},
   "outputs": [
    {
     "data": {
      "text/plain": [
       "[('app', 55),\n",
       " ('rv', 45),\n",
       " ('response', 31),\n",
       " ('bp', 28),\n",
       " ('c', 24),\n",
       " ('called', 20),\n",
       " ('result', 20),\n",
       " ('ctx', 19),\n",
       " ('resp', 18),\n",
       " ('client', 17)]"
      ]
     },
     "execution_count": 5,
     "metadata": {},
     "output_type": "execute_result"
    }
   ],
   "source": [
    "stats[\"pallets/flask\"][\"variables\"].most_common(10)"
   ]
  },
  {
   "cell_type": "code",
   "execution_count": 6,
   "id": "e22558aa",
   "metadata": {},
   "outputs": [],
   "source": [
    "# Merge all names into one \n",
    "merged_stats = {\n",
    "    \"variables\": Counter(), \n",
    "    \"functions\": Counter(), \n",
    "    \"imports\": Counter(), \n",
    "    \"files\": 0\n",
    "}\n",
    "\n",
    "for repo_stats in stats.values():\n",
    "    for k, v in repo_stats.items():\n",
    "        if k == \"paths\": continue\n",
    "        merged_stats[k] += v"
   ]
  },
  {
   "cell_type": "markdown",
   "id": "736aaee2",
   "metadata": {},
   "source": [
    "# Average name length "
   ]
  },
  {
   "cell_type": "code",
   "execution_count": 7,
   "id": "7e2df187",
   "metadata": {},
   "outputs": [
    {
     "data": {
      "text/plain": [
       "9.94544632058079"
      ]
     },
     "execution_count": 7,
     "metadata": {},
     "output_type": "execute_result"
    }
   ],
   "source": [
    "total = 0\n",
    "avg_len = 0\n",
    "\n",
    "for variable, count in merged_stats[\"variables\"].items():\n",
    "    if len(variable) == 1: continue \n",
    "    # Skip instance variables\n",
    "    if \".\" in variable: continue \n",
    "    total += count \n",
    "    avg_len += len(variable) * count\n",
    "    \n",
    "avg_len /= total \n",
    "\n",
    "avg_len"
   ]
  },
  {
   "cell_type": "code",
   "execution_count": 8,
   "id": "d90cfd61",
   "metadata": {},
   "outputs": [
    {
     "data": {
      "text/plain": [
       "20.12152306655294"
      ]
     },
     "execution_count": 8,
     "metadata": {},
     "output_type": "execute_result"
    }
   ],
   "source": [
    "total = 0\n",
    "avg_len = 0\n",
    "\n",
    "for variable, count in merged_stats[\"functions\"].items():\n",
    "    if len(variable) == 1: continue \n",
    "    # Skip instance variables\n",
    "    if \".\" in variable: continue \n",
    "    total += count \n",
    "    avg_len += len(variable) * count\n",
    "    \n",
    "avg_len /= total \n",
    "\n",
    "avg_len"
   ]
  }
 ],
 "metadata": {
  "kernelspec": {
   "display_name": "Python 3",
   "language": "python",
   "name": "python3"
  },
  "language_info": {
   "codemirror_mode": {
    "name": "ipython",
    "version": 3
   },
   "file_extension": ".py",
   "mimetype": "text/x-python",
   "name": "python",
   "nbconvert_exporter": "python",
   "pygments_lexer": "ipython3",
   "version": "3.9.4"
  }
 },
 "nbformat": 4,
 "nbformat_minor": 5
}
