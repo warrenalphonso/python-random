{
 "cells": [
  {
   "cell_type": "markdown",
   "id": "quick-helena",
   "metadata": {},
   "source": [
    "## Testing Z algorithm on the human genome\n",
    "\n",
    "The human genome is ~3 billion nucleotides!"
   ]
  },
  {
   "cell_type": "code",
   "execution_count": 37,
   "id": "systematic-terrorist",
   "metadata": {},
   "outputs": [],
   "source": [
    "from Bio import Seq, SeqIO\n",
    "from time import time\n",
    "import matplotlib.pyplot as plt\n",
    "\n",
    "from exact_matching import naive_match, Z_match"
   ]
  },
  {
   "cell_type": "markdown",
   "id": "academic-topic",
   "metadata": {},
   "source": [
    "I used the package [ncbi-genome-download](https://pypi.org/project/ncbi-genome-download/) to download the Homo Sapiens genome. I ran `ncbi-genome-download -F fasta -g \"Homo sapiens\" vertebrate_mammalian`, used `gzip` to get the `.fna` file, and renamed it to \"HomoSapiens.fna\"."
   ]
  },
  {
   "cell_type": "code",
   "execution_count": 2,
   "id": "fatty-hostel",
   "metadata": {},
   "outputs": [
    {
     "name": "stdout",
     "output_type": "stream",
     "text": [
      "Length of selected genome section is 248956422.\n"
     ]
    }
   ],
   "source": [
    "# Just use the first record since it's already huge\n",
    "genome = next(SeqIO.parse(\"data/HomoSapiens.fna\", \"fasta\")).seq\n",
    "print(f\"Length of selected genome section is {len(genome)}.\")"
   ]
  },
  {
   "cell_type": "code",
   "execution_count": 9,
   "id": "exempt-destruction",
   "metadata": {},
   "outputs": [],
   "source": [
    "genome = str(genome)\n",
    "genome = genome.replace(\"N\", \"\")"
   ]
  },
  {
   "cell_type": "code",
   "execution_count": 10,
   "id": "effective-boards",
   "metadata": {},
   "outputs": [
    {
     "data": {
      "text/plain": [
       "230481014"
      ]
     },
     "execution_count": 10,
     "metadata": {},
     "output_type": "execute_result"
    }
   ],
   "source": [
    "len(genome)"
   ]
  },
  {
   "cell_type": "code",
   "execution_count": 5,
   "id": "accessible-senate",
   "metadata": {},
   "outputs": [],
   "source": [
    "# Over 3 billion nucleotides\n",
    "assert sum(len(record) for record in SeqIO.parse(\"data/HomoSapiens.fna\", \"fasta\")) > 3_000_000_000"
   ]
  },
  {
   "cell_type": "code",
   "execution_count": 31,
   "id": "unexpected-energy",
   "metadata": {},
   "outputs": [
    {
     "name": "stdout",
     "output_type": "stream",
     "text": [
      "Complepted text size 2000000 with pattern size 200000.\n",
      "Complepted text size 4000000 with pattern size 400000.\n",
      "Complepted text size 6000000 with pattern size 600000.\n",
      "Complepted text size 8000000 with pattern size 800000.\n",
      "Complepted text size 10000000 with pattern size 1000000.\n",
      "Complepted text size 12000000 with pattern size 1200000.\n",
      "Complepted text size 14000000 with pattern size 1400000.\n",
      "Complepted text size 16000000 with pattern size 1600000.\n",
      "Complepted text size 18000000 with pattern size 1800000.\n",
      "Complepted text size 20000000 with pattern size 2000000.\n",
      "Complepted text size 22000000 with pattern size 2200000.\n",
      "Complepted text size 24000000 with pattern size 2400000.\n",
      "Complepted text size 26000000 with pattern size 2600000.\n",
      "Complepted text size 28000000 with pattern size 2800000.\n",
      "Complepted text size 30000000 with pattern size 3000000.\n",
      "Complepted text size 32000000 with pattern size 3200000.\n",
      "Complepted text size 34000000 with pattern size 3400000.\n",
      "Complepted text size 36000000 with pattern size 3600000.\n",
      "Complepted text size 38000000 with pattern size 3800000.\n",
      "Complepted text size 40000000 with pattern size 4000000.\n"
     ]
    }
   ],
   "source": [
    "# Pattern length (m) will be 1/10 of n\n",
    "step = 2_000_000\n",
    "ns = [(i + 1) * step for i in range(20)]\n",
    "\n",
    "times_naive = {}\n",
    "times_Z = {}\n",
    "\n",
    "for n in ns: \n",
    "    m = n // 10 \n",
    "    text = genome[:n]\n",
    "    pattern = text[-m:]\n",
    "    \n",
    "    # Z match\n",
    "    start = time()\n",
    "    index = Z_match(pattern, text)\n",
    "    end = time() \n",
    "    times_Z[n] = end - start\n",
    "        \n",
    "    # Naive match \n",
    "    start = time()\n",
    "    index = naive_match(pattern, text)\n",
    "    end = time() \n",
    "    times_naive[n] = end - start\n",
    "    \n",
    "    print(f\"Complepted text size {n} with pattern size {m}.\")"
   ]
  },
  {
   "cell_type": "code",
   "execution_count": 32,
   "id": "united-deputy",
   "metadata": {},
   "outputs": [],
   "source": [
    "y_Z = []\n",
    "y_naive = [] \n",
    "\n",
    "for n in ns: \n",
    "    y_Z.append(times_Z[n])\n",
    "    y_naive.append(times_naive[n])"
   ]
  },
  {
   "cell_type": "code",
   "execution_count": 36,
   "id": "baking-guess",
   "metadata": {},
   "outputs": [
    {
     "data": {
      "image/png": "[encoded data removed]",
      "text/plain": [
       "<Figure size 432x288 with 1 Axes>"
      ]
     },
     "metadata": {
      "needs_background": "light"
     },
     "output_type": "display_data"
    }
   ],
   "source": [
    "plt.plot(ns, y_Z, linestyle=\"--\", marker=\"o\", color=\"b\", label=\"Z match\")\n",
    "plt.plot(ns, y_naive, linestyle=\"--\", marker=\"o\", color=\"orange\", label=\"Naive match\")\n",
    "plt.xlabel(\"Text size\")\n",
    "plt.ylabel(\"Time (s)\")\n",
    "plt.legend()\n",
    "plt.show()"
   ]
  },
  {
   "cell_type": "markdown",
   "id": "acquired-madrid",
   "metadata": {},
   "source": [
    "The Z match algorithm worse than naive! I think Z match is better when there are lots of prefixes of the pattern, because then we can take advantage of using the informatin we already know while naive is stuck in its inner for loop many times. "
   ]
  }
 ],
 "metadata": {
  "kernelspec": {
   "display_name": "Python 3",
   "language": "python",
   "name": "python3"
  },
  "language_info": {
   "codemirror_mode": {
    "name": "ipython",
    "version": 3
   },
   "file_extension": ".py",
   "mimetype": "text/x-python",
   "name": "python",
   "nbconvert_exporter": "python",
   "pygments_lexer": "ipython3",
   "version": "3.9.1"
  }
 },
 "nbformat": 4,
 "nbformat_minor": 5
}
