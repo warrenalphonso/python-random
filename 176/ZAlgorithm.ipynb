{
 "cells": [
  {
   "cell_type": "markdown",
   "id": "regulated-wages",
   "metadata": {},
   "source": [
    "The Z Algorithm is an algorithm to find exact matches in a string. When analyzing runtimes, let the length of the pattern be $n$ and the length of the full text be $m$, $m >> n$. \n",
    "\n",
    "**TODO:** \n",
    "- Test runtime for different values of n and m, should be linear, unlike naive. Well naive is only quadratic when lots of inner for loops run, so need lots of prefixes of pattern throughout string. \n",
    "  - If this works, it means there's no hidden quadratic string behavior\n",
    "- Move to a Python file\n",
    "- More doctests\n",
    "- Test on larger RNA files "
   ]
  },
  {
   "cell_type": "code",
   "execution_count": 64,
   "id": "swiss-government",
   "metadata": {},
   "outputs": [],
   "source": [
    "from typing import List, Optional\n",
    "from string import ascii_letters, digits\n",
    "from random import choices\n",
    "from time   import time"
   ]
  },
  {
   "cell_type": "code",
   "execution_count": 58,
   "id": "handled-thousand",
   "metadata": {},
   "outputs": [],
   "source": [
    "possible_chars = ascii_letters + digits + \" \""
   ]
  },
  {
   "cell_type": "code",
   "execution_count": 81,
   "id": "advised-damages",
   "metadata": {},
   "outputs": [
    {
     "data": {
      "text/plain": [
       "TestResults(failed=0, attempted=22)"
      ]
     },
     "execution_count": 81,
     "metadata": {},
     "output_type": "execute_result"
    }
   ],
   "source": [
    "from doctest import testmod\n",
    "testmod()"
   ]
  },
  {
   "cell_type": "markdown",
   "id": "recorded-tradition",
   "metadata": {},
   "source": [
    "## Naive algorithm"
   ]
  },
  {
   "cell_type": "code",
   "execution_count": 41,
   "id": "wrong-answer",
   "metadata": {},
   "outputs": [],
   "source": [
    "def naive_match(pattern: str, text: str) -> Optional[int]: \n",
    "    \"\"\"Return index of start of match. O(mn) time. \n",
    "    \n",
    "    >>> naive_match(\"Hello\", \"Hello world\")\n",
    "    0\n",
    "    >>> naive_match(\"world\", \"Hello world\")\n",
    "    6\n",
    "    >>> naive_match(\"\", \"123\")\n",
    "    0\n",
    "    >>> naive_match(\"12\", \"\")\n",
    "    >>> naive_match(\"\", \"\")\n",
    "    0\n",
    "    \"\"\"\n",
    "    for i in range(len(text) - len(pattern) + 1):\n",
    "        for j, c in enumerate(pattern):\n",
    "            if c != text[i + j]:\n",
    "                break\n",
    "        else: \n",
    "            return i\n",
    "    return None"
   ]
  },
  {
   "cell_type": "markdown",
   "id": "printable-petite",
   "metadata": {},
   "source": [
    "To improve this runtime, we need to be able to look at each character only a constant number of times. We've got to be able to make use of the fact that while comparing at an earlier position, we might have seen later characters.\n",
    "\n",
    "The Z Algorithm finds the longest length substring at each index $i$ of a string that matches a prefix of the string. \n",
    "\n",
    "A **Z-value** $Z_i(S)$ is the length of the longest prefix of $S$ starting at index $i$. \n",
    "\n",
    "A **Z-box** for $Z_i (S) > 0$ is the substring of $S$ from $i$ to $i + Z_i (S) - 1$ (a prefix of $S$). "
   ]
  },
  {
   "cell_type": "code",
   "execution_count": 59,
   "id": "southwest-standard",
   "metadata": {},
   "outputs": [],
   "source": [
    "def prefix_match_len(s1: str, s2: str) -> int: \n",
    "    \"\"\"Return length of longest prefix match of s1 and s2.\n",
    "    \n",
    "    >>> prefix_match_len(\"\", \"\")\n",
    "    0\n",
    "    >>> prefix_match_len(\"Hello there\", \"Bye\")\n",
    "    0\n",
    "    >>> prefix_match_len(\"Hello there\", \"Hello \")\n",
    "    6\n",
    "    >>> prefix_match_len(\"Hello there\", \"Hello there\")\n",
    "    11\n",
    "    \"\"\"\n",
    "    for i, (c1, c2) in enumerate(zip(s1, s2)):\n",
    "        if c1 != c2: \n",
    "            return i\n",
    "    return min(len(s1), len(s2))\n",
    "        \n",
    "def Z_scores(text: str) -> List[int]:\n",
    "    \"\"\"Compute Z scores. (0th Z score is set to 0. Technically, it's\n",
    "    the full length.) O(m + n) time. \n",
    "    \n",
    "    Track the left and right indices (l, r) of the rightmost Z-box \n",
    "    after each iteration. \n",
    "    First, manually compute Z_2 via character comparison. \n",
    "    \n",
    "    Notice r tells us the farthest we've seen (since we break if a \n",
    "    character doesn't match). If we're checking the Z-score of an \n",
    "    index i > r, we have no information so we've got to do it \n",
    "    manually. \n",
    "    \n",
    "    Otherwise, we need to use the information we have. \n",
    "    Compute beta = r - i + 1, which is the amount of rightmost Z-box \n",
    "    left. This is how many more characters we've seen. \n",
    "    \n",
    "    Here's the core trick of the algorithm. We know the substring \n",
    "    from l to r is a prefix. Now compute j = i - l + 1, which is the \n",
    "    start index near the beginning of the entire string. It's very \n",
    "    close to the beginning and we know it matches i because i is part \n",
    "    of a prefix. \n",
    "        \n",
    "    Case 1: Z_j < beta. That means Z_i = Z_j because we know up to beta \n",
    "    is a prefix, but Z_j tells us that its prefix doesn't go that far. \n",
    "    \n",
    "    Case 2: Z_j > beta. That means Z_i = beta because Z_j matches a lot \n",
    "    more, but we know our match can only go up to beta because past that \n",
    "    isn't a prefix. \n",
    "    \n",
    "    Case 3: Z_j == beta. That means Z_i >= Z_j, so we've got to do the \n",
    "    rest by character comparison.\n",
    "    \n",
    "    Finally, update l and r if need be. \n",
    "    \n",
    "    >>> Z_scores(\"HelloXHello world\")\n",
    "    [0, 0, 0, 0, 0, 0, 5, 0, 0, 0, 0, 0, 0, 0, 0, 0, 0]\n",
    "    >>> Z_scores(\"ABCDBCD\")\n",
    "    [0, 0, 0, 0, 0, 0, 0]\n",
    "    >>> Z_scores(\"HelloXHello HelloH\")\n",
    "    [0, 0, 0, 0, 0, 0, 5, 0, 0, 0, 0, 0, 5, 0, 0, 0, 0, 1]\n",
    "    \"\"\"\n",
    "    l = r = 0\n",
    "    Z_scores = [0] \n",
    "    \n",
    "    # Compute Z_1 (zero-indexed) manually \n",
    "    Z_1 = prefix_match_len(text[1:], text)\n",
    "    if Z_1: \n",
    "        l, r = 1, 1 + Z_1 - 1\n",
    "    Z_scores.append(Z_1)\n",
    "    \n",
    "    for i in range(2, len(text)): \n",
    "        if i > r: \n",
    "            # No information so use character comparison\n",
    "            Z_i = prefix_match_len(text[i:], text)\n",
    "        else: \n",
    "            beta = r - i + 1\n",
    "            j = i - l + 1\n",
    "\n",
    "            if Z_scores[j] < beta: \n",
    "                Z_i = Z_scores[j] \n",
    "            elif Z_scores[j] > beta:\n",
    "                Z_i = beta\n",
    "            else: \n",
    "                Z_i = beta # or Z_scores[j] since they're equivalent \n",
    "                Z_i += prefix_match_len(text[i + Z_i:], text[Z_i:])\n",
    "        \n",
    "        Z_scores.append(Z_i)\n",
    "        if i + Z_i - 1 > r: \n",
    "            l, r = i, i + Z_i - 1\n",
    "    return Z_scores\n",
    "\n",
    "\n",
    "    \n",
    "\n",
    "def Z_match(pattern: str, text: str) -> Optional[int]:\n",
    "    \"\"\"Use the Z algorithm to find pattern in text.\n",
    "    \n",
    "    >>> Z_match(\"Hello\", \"Hello world\")\n",
    "    0\n",
    "    >>> Z_match(\"world\", \"Hello world\")\n",
    "    6\n",
    "    >>> Z_match(\"\", \"123\")\n",
    "    0\n",
    "    >>> Z_match(\"12\", \"\")\n",
    "    >>> Z_match(\"\", \"\")\n",
    "    0\n",
    "    \"\"\"\n",
    "    if not pattern: \n",
    "        return 0\n",
    "\n",
    "    # Need to find a character not used in pattern or text, to act as a \n",
    "    # divider. \n",
    "    unused_chars = set(possible_chars) - set(pattern) - set(text)\n",
    "    if unused_chars:\n",
    "        divider = unused_chars.pop()\n",
    "    else: \n",
    "        raise ValueError(\"Need at least one unused ascii letter, digit, or space in pattern and string!\")\n",
    "    \n",
    "    for i, Z_score in enumerate(Z_scores(pattern + divider + text)):\n",
    "        if Z_score == len(pattern):\n",
    "            return i - len(pattern) - 1\n",
    "    return None"
   ]
  },
  {
   "cell_type": "code",
   "execution_count": 144,
   "id": "natural-result",
   "metadata": {},
   "outputs": [],
   "source": [
    "def modified_Z_match(text: str, pattern_len: int) -> Optional[int]:\n",
    "    \"\"\"\n",
    "    Largely the same Z_scores algorithm as above except: \n",
    "    \n",
    "    There's a huge space overhead with storing the entire list. But \n",
    "    notice we don't need to store the entire list if the text is of \n",
    "    the form P$T, where $ is an unused character in P and T. The \n",
    "    prefix can be at most |P| length, so we only need to store the \n",
    "    Z-scores of first |P| indices, and then once we find a Z-score of \n",
    "    |P|, we can just return that. \n",
    "    \n",
    "    There's also a large space overhead with copying the string each\n",
    "    time we call prefix_match_len. To fix this, I use memoryview, which \n",
    "    *dramatically* improves runtime. \n",
    "    \n",
    "    >>> modified_Z_match(\"HelloXHello world\", 5)\n",
    "    0\n",
    "    >>> modified_Z_match(\"worldXHello world\", 5)\n",
    "    6\n",
    "    >>> modified_Z_match(\"123\", 0)\n",
    "    0\n",
    "    >>> modified_Z_match(\"12X\", 2)\n",
    "    >>> modified_Z_match(\"\", 0)\n",
    "    0\n",
    "    \"\"\"\n",
    "    if not pattern_len: \n",
    "        return 0\n",
    "    \n",
    "    l = r = 0\n",
    "    Z_scores = [0]\n",
    "    \n",
    "    text = memoryview(bytes(text, encoding='utf-8'))\n",
    "    appends = 0\n",
    "    \n",
    "    # Compute Z_1 (zero-indexed) manually \n",
    "    Z_1 = prefix_match_len(text[1:], text)\n",
    "    if Z_1: \n",
    "        l, r = 1, 1 + Z_1 - 1\n",
    "    Z_scores.append(Z_1)\n",
    "    \n",
    "    for i in range(2, len(text)): \n",
    "        if i > r: \n",
    "            # No information so use character comparison\n",
    "            Z_i = prefix_match_len(text[i:], text)\n",
    "        else: \n",
    "            beta = r - i + 1\n",
    "            j = i - l + 1\n",
    "\n",
    "            if Z_scores[j] < beta: \n",
    "                Z_i = Z_scores[j] \n",
    "            elif Z_scores[j] > beta:\n",
    "                Z_i = beta\n",
    "            else: \n",
    "                Z_i = beta # or Z_scores[j] since they're equivalent \n",
    "                Z_i += prefix_match_len(text[i + Z_i:], text[Z_i:])\n",
    "        \n",
    "        # Are we done? \n",
    "        if Z_i == pattern_len:\n",
    "            return i - pattern_len - 1\n",
    "        \n",
    "        # Only append if i < pattern_len \n",
    "        if i < pattern_len:\n",
    "            appends += 1\n",
    "            Z_scores.append(Z_i)\n",
    "        if i + Z_i - 1 > r: \n",
    "            l, r = i, i + Z_i - 1\n",
    "    return None"
   ]
  },
  {
   "cell_type": "markdown",
   "id": "rental-holiday",
   "metadata": {},
   "source": [
    "## Simple timing test"
   ]
  },
  {
   "cell_type": "code",
   "execution_count": 152,
   "id": "heavy-space",
   "metadata": {},
   "outputs": [],
   "source": [
    "main_repeat = \"\".join(choices(possible_chars, k=10)) # Want there to be unused char to use as divider\n",
    "pattern = main_repeat * 1_000\n",
    "# Note the Z algorithm is only different from the naive one if prefixes of the pattern are found n\n",
    "# throughout the text\n",
    "text = \"\".join([main_repeat * 500 + \"asdfghjkljhgfs\"] * 100) + pattern\n",
    "\n",
    "unused_chars = set(possible_chars) - set(pattern) - set(text)\n",
    "if unused_chars:\n",
    "    divider = unused_chars.pop()\n",
    "else: \n",
    "    raise ValueError(\"Need at least one unused ascii letter, digit, or space in pattern and string!\")\n",
    "combined = pattern + divider + text"
   ]
  },
  {
   "cell_type": "code",
   "execution_count": 153,
   "id": "based-dutch",
   "metadata": {},
   "outputs": [
    {
     "name": "stdout",
     "output_type": "stream",
     "text": [
      "Start index is 501400. It took 10.4326012134552 seconds to compute that.\n"
     ]
    }
   ],
   "source": [
    "# Test naive \n",
    "start = time() \n",
    "start_index = naive_match(pattern, text)\n",
    "end = time() \n",
    "print(f\"Start index is {start_index}. It took {end - start} seconds to compute that.\")"
   ]
  },
  {
   "cell_type": "code",
   "execution_count": 154,
   "id": "romantic-wisdom",
   "metadata": {},
   "outputs": [
    {
     "name": "stdout",
     "output_type": "stream",
     "text": [
      "         11520 function calls in 0.214 seconds\n",
      "\n",
      "   Ordered by: standard name\n",
      "\n",
      "   ncalls  tottime  percall  cumtime  percall filename:lineno(function)\n",
      "        1    0.172    0.172    0.214    0.214 <ipython-input-144-80826a9802c5>:1(modified_Z_match)\n",
      "     1512    0.041    0.000    0.041    0.000 <ipython-input-59-ce46e4e3671e>:1(prefix_match_len)\n",
      "        1    0.000    0.000    0.214    0.214 <string>:1(<module>)\n",
      "        1    0.000    0.000    0.214    0.214 {built-in method builtins.exec}\n",
      "        4    0.000    0.000    0.000    0.000 {built-in method builtins.len}\n",
      "        1    0.000    0.000    0.000    0.000 {built-in method builtins.min}\n",
      "     9999    0.001    0.000    0.001    0.000 {method 'append' of 'list' objects}\n",
      "        1    0.000    0.000    0.000    0.000 {method 'disable' of '_lsprof.Profiler' objects}\n",
      "\n",
      "\n"
     ]
    }
   ],
   "source": [
    "import cProfile\n",
    "cProfile.run(\"modified_Z_match(combined, len(pattern))\")"
   ]
  },
  {
   "cell_type": "code",
   "execution_count": 155,
   "id": "fossil-beijing",
   "metadata": {},
   "outputs": [
    {
     "name": "stdout",
     "output_type": "stream",
     "text": [
      "Start index is 501400. It took 0.2177278995513916 seconds to compute that.\n"
     ]
    }
   ],
   "source": [
    "# Test Z match \n",
    "start = time() \n",
    "start_index = modified_Z_match(combined, len(pattern))\n",
    "end = time() \n",
    "print(f\"Start index is {start_index}. It took {end - start} seconds to compute that.\")"
   ]
  },
  {
   "cell_type": "code",
   "execution_count": null,
   "id": "fantastic-innocent",
   "metadata": {},
   "outputs": [],
   "source": []
  }
 ],
 "metadata": {
  "kernelspec": {
   "display_name": "Python 3",
   "language": "python",
   "name": "python3"
  },
  "language_info": {
   "codemirror_mode": {
    "name": "ipython",
    "version": 3
   },
   "file_extension": ".py",
   "mimetype": "text/x-python",
   "name": "python",
   "nbconvert_exporter": "python",
   "pygments_lexer": "ipython3",
   "version": "3.9.1"
  }
 },
 "nbformat": 4,
 "nbformat_minor": 5
}
