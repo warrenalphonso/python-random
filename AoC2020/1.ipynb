{
 "cells": [
  {
   "cell_type": "code",
   "execution_count": 1,
   "id": "objective-elements",
   "metadata": {},
   "outputs": [],
   "source": [
    "from helpers import data, first"
   ]
  },
  {
   "cell_type": "code",
   "execution_count": 11,
   "id": "abroad-navigation",
   "metadata": {},
   "outputs": [
    {
     "data": {
      "text/plain": [
       "[1544, 1560, 1947, 1659, 1972]"
      ]
     },
     "execution_count": 11,
     "metadata": {},
     "output_type": "execute_result"
    }
   ],
   "source": [
    "nums = data(1, int)\n",
    "nums[:5]"
   ]
  },
  {
   "cell_type": "code",
   "execution_count": 12,
   "id": "realistic-manitoba",
   "metadata": {},
   "outputs": [
    {
     "data": {
      "text/plain": [
       "200"
      ]
     },
     "execution_count": 12,
     "metadata": {},
     "output_type": "execute_result"
    }
   ],
   "source": [
    "len(nums)"
   ]
  },
  {
   "cell_type": "markdown",
   "id": "stupid-phrase",
   "metadata": {},
   "source": [
    "**Part 1:** Find product of two entries that sum to 2020. "
   ]
  },
  {
   "cell_type": "code",
   "execution_count": 13,
   "id": "silver-database",
   "metadata": {},
   "outputs": [
    {
     "data": {
      "text/plain": [
       "926464"
      ]
     },
     "execution_count": 13,
     "metadata": {},
     "output_type": "execute_result"
    }
   ],
   "source": [
    "def attempt_one():\n",
    "    s_nums = set(nums)\n",
    "    for n in nums: \n",
    "        if 2020 - n in s_nums and n != 2020 - n:\n",
    "            return n * (2020 - n)\n",
    "        \n",
    "attempt_one()"
   ]
  },
  {
   "cell_type": "code",
   "execution_count": 14,
   "id": "satisfied-court",
   "metadata": {},
   "outputs": [
    {
     "data": {
      "text/plain": [
       "926464"
      ]
     },
     "execution_count": 14,
     "metadata": {},
     "output_type": "execute_result"
    }
   ],
   "source": [
    "def attempt_two():\n",
    "    # Norvig solution; doesn't check for same element\n",
    "    s_nums = set(nums)\n",
    "    return first(x * y\n",
    "            for x in s_nums \n",
    "            for y in s_nums & {2020 - x}\n",
    "            if x != y)\n",
    "\n",
    "attempt_two()"
   ]
  },
  {
   "cell_type": "code",
   "execution_count": 15,
   "id": "raised-semiconductor",
   "metadata": {},
   "outputs": [
    {
     "data": {
      "text/plain": [
       "926464"
      ]
     },
     "execution_count": 15,
     "metadata": {},
     "output_type": "execute_result"
    }
   ],
   "source": [
    "def attempt_three():\n",
    "    from collections import defaultdict \n",
    "    d = defaultdict(int)\n",
    "    for n in nums: \n",
    "        d[n] += 1 \n",
    "    s_nums = set(nums)\n",
    "    for n in nums:\n",
    "        if 2020 - n == n:\n",
    "            if d[2020-n] >= 2:\n",
    "                return n ** 2 \n",
    "        elif d[2020 - n]:\n",
    "            return n * (2020 - n)\n",
    "\n",
    "attempt_three()"
   ]
  },
  {
   "cell_type": "markdown",
   "id": "third-bridge",
   "metadata": {},
   "source": [
    "**Part 2:** Find product of three entries that sum to 2020"
   ]
  },
  {
   "cell_type": "code",
   "execution_count": 17,
   "id": "productive-ideal",
   "metadata": {},
   "outputs": [
    {
     "data": {
      "text/plain": [
       "65656536"
      ]
     },
     "execution_count": 17,
     "metadata": {},
     "output_type": "execute_result"
    }
   ],
   "source": [
    "def attempt_one():\n",
    "    s_nums = set(nums)\n",
    "    return first(x * y * z\n",
    "                  for x in s_nums \n",
    "                  for y in s_nums\n",
    "                  for z in s_nums & {2020 - x - y}\n",
    "                  if x != y != z)\n",
    "attempt_one()"
   ]
  },
  {
   "cell_type": "code",
   "execution_count": 19,
   "id": "palestinian-guarantee",
   "metadata": {},
   "outputs": [
    {
     "data": {
      "text/plain": [
       "65656536"
      ]
     },
     "execution_count": 19,
     "metadata": {},
     "output_type": "execute_result"
    }
   ],
   "source": [
    "def attempt_two():\n",
    "    # Norvig solutions\n",
    "    from itertools import combinations \n",
    "    s_nums = set(nums)\n",
    "    return first(x * y * z \n",
    "                  for x, y in combinations(s_nums, 2)\n",
    "                  for z in s_nums & {2020 - x - y}\n",
    "                  if x != y != z)\n",
    "\n",
    "attempt_two()"
   ]
  },
  {
   "cell_type": "code",
   "execution_count": null,
   "id": "considered-inspiration",
   "metadata": {},
   "outputs": [],
   "source": []
  }
 ],
 "metadata": {
  "kernelspec": {
   "display_name": "Python 3",
   "language": "python",
   "name": "python3"
  },
  "language_info": {
   "codemirror_mode": {
    "name": "ipython",
    "version": 3
   },
   "file_extension": ".py",
   "mimetype": "text/x-python",
   "name": "python",
   "nbconvert_exporter": "python",
   "pygments_lexer": "ipython3",
   "version": "3.9.1"
  }
 },
 "nbformat": 4,
 "nbformat_minor": 5
}
