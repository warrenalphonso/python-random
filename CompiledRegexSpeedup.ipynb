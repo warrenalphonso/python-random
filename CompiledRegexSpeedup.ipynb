{
 "cells": [
  {
   "cell_type": "code",
   "execution_count": 28,
   "id": "pregnant-camera",
   "metadata": {},
   "outputs": [],
   "source": [
    "import string\n",
    "import random\n",
    "import re\n",
    "from time import time\n",
    "\n",
    "random.seed(123)"
   ]
  },
  {
   "cell_type": "code",
   "execution_count": 44,
   "id": "usual-geology",
   "metadata": {},
   "outputs": [],
   "source": [
    "alphabet = string.ascii_letters + string.digits\n",
    "candidates = [\"\".join(random.choices(alphabet, k=100)) for _ in range(1000000)]"
   ]
  },
  {
   "cell_type": "code",
   "execution_count": 45,
   "id": "handed-friend",
   "metadata": {},
   "outputs": [],
   "source": [
    "regex = r\"[a-zA-Z]+\""
   ]
  },
  {
   "cell_type": "markdown",
   "id": "dressed-impossible",
   "metadata": {},
   "source": [
    "# `re.findall` without compilation"
   ]
  },
  {
   "cell_type": "code",
   "execution_count": 46,
   "id": "conventional-subdivision",
   "metadata": {},
   "outputs": [
    {
     "name": "stdout",
     "output_type": "stream",
     "text": [
      "7.052923202514648\n"
     ]
    }
   ],
   "source": [
    "s = time()\n",
    "matches = [re.findall(regex, candidate) for candidate in candidates]\n",
    "e = time()\n",
    "print(e - s)"
   ]
  },
  {
   "cell_type": "markdown",
   "id": "upset-transcript",
   "metadata": {},
   "source": [
    "# `re.findall` with compilation"
   ]
  },
  {
   "cell_type": "code",
   "execution_count": 47,
   "id": "median-person",
   "metadata": {},
   "outputs": [],
   "source": [
    "p = re.compile(regex)"
   ]
  },
  {
   "cell_type": "code",
   "execution_count": 48,
   "id": "uniform-width",
   "metadata": {},
   "outputs": [
    {
     "name": "stdout",
     "output_type": "stream",
     "text": [
      "7.234484910964966\n"
     ]
    }
   ],
   "source": [
    "s = time()\n",
    "matches = [p.findall(candidate) for candidate in candidates]\n",
    "e = time()\n",
    "print(e - s)"
   ]
  },
  {
   "cell_type": "markdown",
   "id": "sporting-graph",
   "metadata": {},
   "source": [
    "Huh. "
   ]
  },
  {
   "cell_type": "code",
   "execution_count": null,
   "id": "administrative-baltimore",
   "metadata": {},
   "outputs": [],
   "source": []
  }
 ],
 "metadata": {
  "kernelspec": {
   "display_name": "Python 3",
   "language": "python",
   "name": "python3"
  },
  "language_info": {
   "codemirror_mode": {
    "name": "ipython",
    "version": 3
   },
   "file_extension": ".py",
   "mimetype": "text/x-python",
   "name": "python",
   "nbconvert_exporter": "python",
   "pygments_lexer": "ipython3",
   "version": "3.9.1"
  }
 },
 "nbformat": 4,
 "nbformat_minor": 5
}
