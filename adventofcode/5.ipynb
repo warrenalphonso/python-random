{
 "cells": [
  {
   "cell_type": "code",
   "execution_count": 1,
   "id": "recent-potter",
   "metadata": {},
   "outputs": [],
   "source": [
    "from itertools import tee\n",
    "from typing  import Tuple\n",
    "from helpers import data"
   ]
  },
  {
   "cell_type": "code",
   "execution_count": 2,
   "id": "invisible-croatia",
   "metadata": {},
   "outputs": [
    {
     "data": {
      "text/plain": [
       "['FBFBFFBLLR', 'FBBBFFBLLL', 'BFBFFFFRRR', 'BFBBBFBRLL', 'FBFBBFBLLL']"
      ]
     },
     "execution_count": 2,
     "metadata": {},
     "output_type": "execute_result"
    }
   ],
   "source": [
    "bp_seats = data(5)\n",
    "bp_seats[:5]"
   ]
  },
  {
   "cell_type": "markdown",
   "id": "fleet-effect",
   "metadata": {},
   "source": [
    "**Part 1:** Find the highest seat ID"
   ]
  },
  {
   "cell_type": "code",
   "execution_count": 3,
   "id": "pressing-vanilla",
   "metadata": {},
   "outputs": [],
   "source": [
    "def seat_row_column(bp_seat) -> Tuple[int, int]: \n",
    "    \"\"\"Convert binary-partitioned seat (7 characters F/B), \n",
    "    (3 characters L/R) to a tuple (row, column).\n",
    "    \"\"\"\n",
    "    row_bp = bp_seat[:7]\n",
    "    col_bp = bp_seat[-3:]\n",
    "    # Row \n",
    "    row = 0 \n",
    "    row_max = 128\n",
    "    for i, binary in enumerate(row_bp):\n",
    "        row += row_max / 2**(i+1) * (binary == \"B\")\n",
    "    # Column \n",
    "    col = 0 \n",
    "    col_max = 8 \n",
    "    for i, binary in enumerate(col_bp):\n",
    "        col += col_max / 2**(i+1) * (binary == \"R\")\n",
    "    return tuple(map(int, (row, col)))\n",
    "\n",
    "def seat_id(bp_seat) -> int: \n",
    "    row, col = seat_row_column(bp_seat)\n",
    "    return row * 8 + col"
   ]
  },
  {
   "cell_type": "code",
   "execution_count": 4,
   "id": "engaged-injury",
   "metadata": {},
   "outputs": [
    {
     "data": {
      "text/plain": [
       "938"
      ]
     },
     "execution_count": 4,
     "metadata": {},
     "output_type": "execute_result"
    }
   ],
   "source": [
    "# Attempt 1\n",
    "max(seat_id(bp_seat) for bp_seat in bp_seats)"
   ]
  },
  {
   "cell_type": "markdown",
   "id": "standard-alert",
   "metadata": {},
   "source": [
    "`seat_row_column` is ugly. How do I make it better?"
   ]
  },
  {
   "cell_type": "code",
   "execution_count": 5,
   "id": "historical-leader",
   "metadata": {},
   "outputs": [],
   "source": [
    "def binary_partitioned_to_value(bp: str, one_char: chr = \"1\") -> int: \n",
    "    \"\"\"Decode binary-partitioned string where one_char means 1/yes.\"\"\"\n",
    "    val = 0\n",
    "    for i, c in enumerate(bp): \n",
    "        # I think this is clean enough...\n",
    "        val += 2**(len(bp) - (i+1)) * (c == one_char)\n",
    "    return val\n",
    "\n",
    "def binary_to_row_col(bp_seat) -> Tuple[int, int]:\n",
    "    \"\"\"\n",
    "    Convert a binary-partitioned seat (written as 7 characters F/B \n",
    "    followed by 3 characters L/R) to a tuple (row, column). \n",
    "    \n",
    "    >>> binary_to_row_col(\"FBFBBFFRLR\")\n",
    "    (44, 5)\n",
    "    >>> binary_to_row_col(\"BFFFBBFRRR\")\n",
    "    (70, 7)\n",
    "    >>> binary_to_row_col(\"FFFBBBFRRR\")\n",
    "    (14, 7)\n",
    "    >>> binary_to_row_col(\"BBFFBBFRLL\")\n",
    "    (102, 4)\n",
    "    \"\"\"\n",
    "    binary_row = bp_seat[:7]\n",
    "    binary_col = bp_seat[7:]\n",
    "    return (binary_partitioned_to_value(binary_row, \"B\"), \n",
    "            binary_partitioned_to_value(binary_col, \"R\")) \n",
    "\n",
    "def seat_id(bp_seat) -> int: \n",
    "    row, col = binary_to_row_col(bp_seat)\n",
    "    return row * 8 + col"
   ]
  },
  {
   "cell_type": "code",
   "execution_count": 6,
   "id": "experienced-bronze",
   "metadata": {},
   "outputs": [
    {
     "data": {
      "text/plain": [
       "938"
      ]
     },
     "execution_count": 6,
     "metadata": {},
     "output_type": "execute_result"
    }
   ],
   "source": [
    "# Attempt 3\n",
    "max(seat_id(bp_seat) for bp_seat in bp_seats)"
   ]
  },
  {
   "cell_type": "code",
   "execution_count": 7,
   "id": "accurate-correspondence",
   "metadata": {},
   "outputs": [
    {
     "data": {
      "text/plain": [
       "938"
      ]
     },
     "execution_count": 7,
     "metadata": {},
     "output_type": "execute_result"
    }
   ],
   "source": [
    "# Dangit Norvig \n",
    "ID = int # Type \n",
    "def seat_id(seat: str, table=str.maketrans(\"FBLR\", \"0101\")) -> ID:\n",
    "    return ID(seat.translate(table), base=2)\n",
    "\n",
    "max(seat_id(seat) for seat in bp_seats)"
   ]
  },
  {
   "cell_type": "markdown",
   "id": "hidden-township",
   "metadata": {},
   "source": [
    "**Part 2:** My seat is missing from the list. Other seats are missing too, but my seat will be the only one where the seats with ID +1 and -1 will exist. Find my seat ID. "
   ]
  },
  {
   "cell_type": "code",
   "execution_count": 8,
   "id": "demographic-member",
   "metadata": {},
   "outputs": [],
   "source": [
    "def pairwise(iterable): \n",
    "    \"\"\"s -> (s0, s1), (s1, s2), (s2, s3), ...\"\"\"\n",
    "    a, b = tee(iterable)\n",
    "    next(b, None)\n",
    "    return zip(a, b)"
   ]
  },
  {
   "cell_type": "code",
   "execution_count": 9,
   "id": "another-universal",
   "metadata": {},
   "outputs": [
    {
     "name": "stdout",
     "output_type": "stream",
     "text": [
      "696\n"
     ]
    }
   ],
   "source": [
    "# Attempt 1 \n",
    "ids = sorted([seat_id(bp_seat) for bp_seat in bp_seats])\n",
    "for curr_id, next_id in pairwise(ids):\n",
    "    if curr_id + 1 == next_id - 1:\n",
    "        print(curr_id + 1)\n",
    "        break"
   ]
  },
  {
   "cell_type": "code",
   "execution_count": 10,
   "id": "assumed-sellers",
   "metadata": {},
   "outputs": [
    {
     "name": "stdout",
     "output_type": "stream",
     "text": [
      "696\n"
     ]
    }
   ],
   "source": [
    "# Attempt 2\n",
    "ids = set(seat_id(bp_seat) for bp_seat in bp_seats)\n",
    "for curr_id in ids:\n",
    "    if curr_id + 1 not in ids and curr_id + 2 in ids:\n",
    "        print(curr_id + 1)\n",
    "        break"
   ]
  },
  {
   "cell_type": "code",
   "execution_count": 11,
   "id": "baking-split",
   "metadata": {},
   "outputs": [
    {
     "data": {
      "text/plain": [
       "696"
      ]
     },
     "execution_count": 11,
     "metadata": {},
     "output_type": "execute_result"
    }
   ],
   "source": [
    "# Dammit Norvig \n",
    "# I didn't use information that only other missing ones are at the bottom or end \n",
    "ids = set(map(seat_id, bp_seats))\n",
    "[missing] = set(range(min(ids), max(ids))) - ids \n",
    "\n",
    "missing"
   ]
  },
  {
   "cell_type": "code",
   "execution_count": null,
   "id": "valid-status",
   "metadata": {},
   "outputs": [],
   "source": []
  }
 ],
 "metadata": {
  "kernelspec": {
   "display_name": "Python 3",
   "language": "python",
   "name": "python3"
  },
  "language_info": {
   "codemirror_mode": {
    "name": "ipython",
    "version": 3
   },
   "file_extension": ".py",
   "mimetype": "text/x-python",
   "name": "python",
   "nbconvert_exporter": "python",
   "pygments_lexer": "ipython3",
   "version": "3.9.1"
  }
 },
 "nbformat": 4,
 "nbformat_minor": 5
}
