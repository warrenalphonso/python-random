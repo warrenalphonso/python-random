{
 "cells": [
  {
   "cell_type": "markdown",
   "id": "protecting-charter",
   "metadata": {},
   "source": [
    "I'm attempting 19 again. Last time, I had to give up and look at Norvig's solution. It's been a few days now, so I want to see if I can solve it, hopefully without remembering much of Norvig's solution. (Though it does help to know a simple solution exists.)"
   ]
  },
  {
   "cell_type": "code",
   "execution_count": 1,
   "id": "private-responsibility",
   "metadata": {},
   "outputs": [],
   "source": [
    "import re\n",
    "from typing import Optional\n",
    "from helpers import data"
   ]
  },
  {
   "cell_type": "markdown",
   "id": "disabled-pride",
   "metadata": {},
   "source": [
    "Rules can either be a character that must match, or a list of sub-rules where at least one sub-rule must match. A sub-rule is a list of rule numbers which must match consecutively. \n",
    "\n",
    "We'll store rules as a dictionary where the key is the rule number. The values will either be a character, or a list of tuples, where each tuple is a sub-rule (containing rule numbers), and at least one tuple within the list should match. "
   ]
  },
  {
   "cell_type": "markdown",
   "id": "bridal-stereo",
   "metadata": {},
   "source": [
    "We'll store rules as dictionary where the key is the rule number. To encode flexible information about rules, we'll have a `Choice` type, and an `Ordered` type. `Choice` indicates rule numbers where at least one must match. `Ordered` indicates we need to match the rules (numbers, strings, `Choice`'s, or `Ordered`'s) in the given order. Values in the `rules` dictionary can be either `Char`, `int`, `Choice`, or `Ordered`. "
   ]
  },
  {
   "cell_type": "markdown",
   "id": "governmental-morris",
   "metadata": {},
   "source": [
    "We'll store rules as dictionary where the key is the rule number. Every value will be an `Ordered` type, which can store `Char`s, `int`s, or `Choice`s. "
   ]
  },
  {
   "cell_type": "markdown",
   "id": "sticky-battlefield",
   "metadata": {},
   "source": [
    "We'll store the rules as a dictionary where the key is the rule number. The values will all be an `Ordered` type, which either has a `Char` or a `Choice` (which contains rule numbers). "
   ]
  },
  {
   "cell_type": "code",
   "execution_count": 2,
   "id": "august-vintage",
   "metadata": {},
   "outputs": [],
   "source": [
    "Char = str\n",
    "Choice = tuple \n",
    "Ordered = list "
   ]
  },
  {
   "cell_type": "code",
   "execution_count": 3,
   "id": "pediatric-committee",
   "metadata": {},
   "outputs": [],
   "source": [
    "def parse_rule(line: str): \n",
    "    \"\"\"\n",
    "    We'll store rules as a dictionary where the key is the rule number. The values \n",
    "    will be an `Ordered` type, which either has a `Char` or a `Choice`, which \n",
    "    contains rule numbers. \n",
    "    \n",
    "    Current implementation handles at most one '|'. \n",
    "        \n",
    "    >>> parse_rule('21: 45 47 | 110 18')\n",
    "    (21, [([45, 47], [110, 18])])\n",
    "    >>> parse_rule('18: \"b\"')\n",
    "    (18, ['b'])\n",
    "    >>> parse_rule('87: 112 107')\n",
    "    (87, [112, 107])\n",
    "    >>> parse_rule('8: 42')\n",
    "    (8, [42])\n",
    "    \"\"\"\n",
    "    rule_number = int(re.match(\"\\d+\", line).group())\n",
    "    # Remove rule number and : \n",
    "    line = re.sub(\"\\d+:\\s\", \"\", line)\n",
    "\n",
    "    # Rule is a character\n",
    "    if line[0] == '\"':\n",
    "        return rule_number, Ordered(line[1])\n",
    "    \n",
    "    choices = line.count(\"|\")\n",
    "    if choices == 0: \n",
    "        # Match a specific ordering \n",
    "        return rule_number, Ordered( map(int, line.split(\" \")) )\n",
    "    elif choices == 1: \n",
    "        divider_index = line.index(\"|\")\n",
    "        sub_rule_1, sub_rule_2 = line[:divider_index - 1], line[divider_index + 2:]\n",
    "        return rule_number, Ordered(( Choice(( parse_rule(sub_rule_1)[1], parse_rule(sub_rule_2)[1] )), ))\n",
    "    else: \n",
    "        raise NotImplementedError(\"At most one | character in line.\")"
   ]
  },
  {
   "cell_type": "code",
   "execution_count": 4,
   "id": "preliminary-serum",
   "metadata": {},
   "outputs": [],
   "source": [
    "rules_arr, messages = data(19, sep=\"\\n\\n\", parser=lambda g: g.split(\"\\n\"))\n",
    "rules = dict(parse_rule(rule) for rule in rules_arr)"
   ]
  },
  {
   "cell_type": "markdown",
   "id": "wireless-atlantic",
   "metadata": {},
   "source": [
    "**Part 1:** How many messages *completely* match rule 0?"
   ]
  },
  {
   "cell_type": "code",
   "execution_count": 5,
   "id": "blessed-upper",
   "metadata": {},
   "outputs": [
    {
     "data": {
      "text/plain": [
       "[8, 11]"
      ]
     },
     "execution_count": 5,
     "metadata": {},
     "output_type": "execute_result"
    }
   ],
   "source": [
    "rules[0]"
   ]
  },
  {
   "cell_type": "code",
   "execution_count": 6,
   "id": "textile-console",
   "metadata": {},
   "outputs": [],
   "source": [
    "def match(rule: Ordered, message: str) -> Optional[str]:\n",
    "    \"\"\"\n",
    "    Match MESSAGE to RULE, and return remaining substring or None if the match fails. \n",
    "    \n",
    "    To do this recursively, we need to return the remaining substring because we don't \n",
    "    know the length each rule might match beforehand. \n",
    "    \n",
    "    One thing I'm confused about: multiple choices in a Choice might work, but this \n",
    "    algorithm uses the first one. What if we need a later one that matches? How can \n",
    "    we do this greedily?\n",
    "    \"\"\"\n",
    "    if not rule: \n",
    "        return message \n",
    "    elif not message: \n",
    "        return None \n",
    "    elif isinstance(rule[0], Char):\n",
    "        # If character matches, continue\n",
    "        return match( Ordered(rule[1:]), message[1:] ) if message[0] == rule[0] else None\n",
    "    elif isinstance(rule[0], int):\n",
    "        # Lookup rule number to match \n",
    "        return match( Ordered(rules[rule[0]] + rule[1:]), message )\n",
    "    elif isinstance(rule[0], Choice):\n",
    "        # Try each choice until we get a match\n",
    "        for choice in rule[0]:\n",
    "            result = match( Ordered(choice + rule[1:]), message )\n",
    "            if result is not None: \n",
    "                return result \n",
    "\n",
    "    return None "
   ]
  },
  {
   "cell_type": "code",
   "execution_count": 7,
   "id": "extra-learning",
   "metadata": {},
   "outputs": [
    {
     "data": {
      "text/plain": [
       "120"
      ]
     },
     "execution_count": 7,
     "metadata": {},
     "output_type": "execute_result"
    }
   ],
   "source": [
    "sum(match(rules[0], message) == '' for message in messages)"
   ]
  },
  {
   "cell_type": "markdown",
   "id": "built-forestry",
   "metadata": {},
   "source": [
    "**Part 2:** Replace Rule 8: 42 with Rule 8: 42 | 42 8. Replace Rule 11: 42 31 with Rule 11: 42 31 | 42 11 31. Now how many match Rule 0?"
   ]
  },
  {
   "cell_type": "code",
   "execution_count": 8,
   "id": "varied-korea",
   "metadata": {},
   "outputs": [],
   "source": [
    "rules[8] = Ordered(( Choice(( Ordered((42,)), Ordered((42, 8)) )), ))\n",
    "rules[11] = Ordered(( Choice(( Ordered((42, 31)), Ordered((42, 11, 31)) )), ))"
   ]
  },
  {
   "cell_type": "code",
   "execution_count": 9,
   "id": "mathematical-still",
   "metadata": {},
   "outputs": [
    {
     "data": {
      "text/plain": [
       "[([42], [42, 8])]"
      ]
     },
     "execution_count": 9,
     "metadata": {},
     "output_type": "execute_result"
    }
   ],
   "source": [
    "rules[8]"
   ]
  },
  {
   "cell_type": "code",
   "execution_count": 10,
   "id": "vietnamese-memory",
   "metadata": {},
   "outputs": [
    {
     "data": {
      "text/plain": [
       "[([42, 31], [42, 11, 31])]"
      ]
     },
     "execution_count": 10,
     "metadata": {},
     "output_type": "execute_result"
    }
   ],
   "source": [
    "rules[11]"
   ]
  },
  {
   "cell_type": "code",
   "execution_count": 11,
   "id": "vanilla-lightweight",
   "metadata": {},
   "outputs": [
    {
     "data": {
      "text/plain": [
       "350"
      ]
     },
     "execution_count": 11,
     "metadata": {},
     "output_type": "execute_result"
    }
   ],
   "source": [
    "sum(match(rules[0], message) == '' for message in messages)"
   ]
  },
  {
   "cell_type": "code",
   "execution_count": 12,
   "id": "national-finger",
   "metadata": {},
   "outputs": [
    {
     "data": {
      "text/plain": [
       "TestResults(failed=0, attempted=4)"
      ]
     },
     "execution_count": 12,
     "metadata": {},
     "output_type": "execute_result"
    }
   ],
   "source": [
    "from doctest import testmod \n",
    "testmod()"
   ]
  },
  {
   "cell_type": "code",
   "execution_count": null,
   "id": "integral-brother",
   "metadata": {},
   "outputs": [],
   "source": []
  }
 ],
 "metadata": {
  "kernelspec": {
   "display_name": "Python 3",
   "language": "python",
   "name": "python3"
  },
  "language_info": {
   "codemirror_mode": {
    "name": "ipython",
    "version": 3
   },
   "file_extension": ".py",
   "mimetype": "text/x-python",
   "name": "python",
   "nbconvert_exporter": "python",
   "pygments_lexer": "ipython3",
   "version": "3.9.1"
  }
 },
 "nbformat": 4,
 "nbformat_minor": 5
}
