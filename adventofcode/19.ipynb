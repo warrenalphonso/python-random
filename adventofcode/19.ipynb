{
 "cells": [
  {
   "cell_type": "code",
   "execution_count": 1,
   "id": "focused-america",
   "metadata": {},
   "outputs": [],
   "source": [
    "import re\n",
    "from itertools import chain, product\n",
    "from helpers import data"
   ]
  },
  {
   "cell_type": "code",
   "execution_count": 2,
   "id": "massive-vacuum",
   "metadata": {},
   "outputs": [],
   "source": [
    "rules_arr, messages = data(19, parser=lambda s: s.split(\"\\n\"), sep=\"\\n\\n\")"
   ]
  },
  {
   "cell_type": "code",
   "execution_count": 3,
   "id": "functioning-oasis",
   "metadata": {},
   "outputs": [
    {
     "data": {
      "text/plain": [
       "['bbbbbbbbbaaaabbaababbabbaaabbbabbbbaaabb',\n",
       " 'babaabbaabbbbaababbaabbabaababba',\n",
       " 'baabbaaabbabbbbaaabababb']"
      ]
     },
     "execution_count": 3,
     "metadata": {},
     "output_type": "execute_result"
    }
   ],
   "source": [
    "messages[:3]"
   ]
  },
  {
   "cell_type": "code",
   "execution_count": 4,
   "id": "sacred-income",
   "metadata": {},
   "outputs": [],
   "source": [
    "# This task is probably made much easier by setting up the rules as nicely \n",
    "# as possible. I'll make a dictionary of them, where each value is an array \n",
    "# of the possible matches (separated by \"|\"). The matches within each array \n",
    "# will be an array themselves of ints. \n",
    "\n",
    "# Each rule is either a single character, or a list of sub-rules which are \n",
    "# sequences of rule numbers, with each sequence separated by a pipe \"|\". \n",
    "# Each value in parsed_rules is a list of sub-rules (list) or a single character. \n",
    "parsed_rules = {}\n",
    "for rule in rules_arr: \n",
    "    # Find rule number\n",
    "    key = int(re.match(\"\\d+\", rule).group())\n",
    "    parsed_rules[key] = []\n",
    "    # Remove rule number \n",
    "    rule = re.sub(\"\\d+: \", \"\", rule)\n",
    "    # Get each allowed sub-rule \n",
    "    sub_rules = rule.split(\" | \")\n",
    "    # Get ints in each sub-rule \n",
    "    for sub_rule in sub_rules:\n",
    "        rule_numbers = re.findall(\"\\d+\", sub_rule)\n",
    "        if not rule_numbers: \n",
    "            # Must be a character \n",
    "            parsed_rules[key] = sub_rule[1]\n",
    "        else: \n",
    "            parsed_rules[key].append([int(d) for d in rule_numbers])"
   ]
  },
  {
   "cell_type": "code",
   "execution_count": 5,
   "id": "rural-candidate",
   "metadata": {},
   "outputs": [
    {
     "data": {
      "text/plain": [
       "[[45, 47], [44, 18]]"
      ]
     },
     "execution_count": 5,
     "metadata": {},
     "output_type": "execute_result"
    }
   ],
   "source": [
    "parsed_rules[5]"
   ]
  },
  {
   "cell_type": "code",
   "execution_count": 6,
   "id": "weird-distinction",
   "metadata": {},
   "outputs": [],
   "source": [
    "# Now I'll go through parsed_rules to find rules with only a character and \n",
    "# add the string to rules. Then I'll repeat for values in parsed_rules \n",
    "# that are already in rules, etc. \n",
    "# rules is a dictionary of int: str or list[str]\n",
    "rules = {}\n",
    "\n",
    "# Get rules that are just one character \n",
    "for k, v in parsed_rules.items():\n",
    "    if isinstance(v, str):\n",
    "        rules[k] = v \n",
    "\n",
    "# Get rules that are based on already-processed rules \n",
    "while len(rules) != len(parsed_rules):\n",
    "    for k, v in parsed_rules.items():\n",
    "        # Check that sub-rule numbers are already processed\n",
    "        if all((r in rules) for r in chain.from_iterable(v)):\n",
    "            # Convert subrules to strings \n",
    "            # Sub-rule are potentially nested, so to get a list of strings we \n",
    "            # need to get all Cartesian products. \n",
    "            rules[k] = []\n",
    "            for sub_rule in v:\n",
    "                sub_rule_strings = [\"\".join(p) \n",
    "                                    for p in product(*[rules[sub_rule_number] \n",
    "                                                       for sub_rule_number in sub_rule])]\n",
    "                # Not append; want a 1-deep array\n",
    "                rules[k] += sub_rule_strings                "
   ]
  },
  {
   "cell_type": "markdown",
   "id": "acceptable-continuity",
   "metadata": {},
   "source": [
    "**Task 1:** Find messages that match rule 0."
   ]
  },
  {
   "cell_type": "code",
   "execution_count": 7,
   "id": "educational-malawi",
   "metadata": {},
   "outputs": [
    {
     "data": {
      "text/plain": [
       "2097152"
      ]
     },
     "execution_count": 7,
     "metadata": {},
     "output_type": "execute_result"
    }
   ],
   "source": [
    "rule = rules[0]\n",
    "len(rule) # LOTS of subrules..."
   ]
  },
  {
   "cell_type": "code",
   "execution_count": 8,
   "id": "vocational-cooperation",
   "metadata": {},
   "outputs": [
    {
     "data": {
      "text/plain": [
       "120"
      ]
     },
     "execution_count": 8,
     "metadata": {},
     "output_type": "execute_result"
    }
   ],
   "source": [
    "valid_messages = []\n",
    "for message in messages:\n",
    "    if isinstance(rule, str): \n",
    "        if rule == message: \n",
    "            valid_messages.append(message)\n",
    "    else: \n",
    "        for sub_rule in rule: \n",
    "            if sub_rule == message: \n",
    "                valid_messages.append(message)\n",
    "                break\n",
    "                \n",
    "len(valid_messages)"
   ]
  },
  {
   "cell_type": "markdown",
   "id": "undefined-specialist",
   "metadata": {},
   "source": [
    "Okay, that was really slow. I can speed this up a lot by tracking which rules pass and only checking the rules that contain them if at least one passes. "
   ]
  },
  {
   "cell_type": "markdown",
   "id": "consolidated-tribune",
   "metadata": {},
   "source": [
    "**Part 2:** Change rule 8 to \"42 | 42 8\" and rule 11 to \"42 31 | 42 11 31\". This means we add loops, but they're very confined. How many messages match rule 0 now? "
   ]
  },
  {
   "cell_type": "code",
   "execution_count": 9,
   "id": "massive-freeze",
   "metadata": {},
   "outputs": [
    {
     "data": {
      "text/plain": [
       "[[8, 11]]"
      ]
     },
     "execution_count": 9,
     "metadata": {},
     "output_type": "execute_result"
    }
   ],
   "source": [
    "parsed_rules[0]"
   ]
  },
  {
   "cell_type": "code",
   "execution_count": 10,
   "id": "furnished-pavilion",
   "metadata": {},
   "outputs": [
    {
     "data": {
      "text/plain": [
       "[[42]]"
      ]
     },
     "execution_count": 10,
     "metadata": {},
     "output_type": "execute_result"
    }
   ],
   "source": [
    "parsed_rules[8]"
   ]
  },
  {
   "cell_type": "code",
   "execution_count": 11,
   "id": "blocked-class",
   "metadata": {},
   "outputs": [
    {
     "data": {
      "text/plain": [
       "[[42, 31]]"
      ]
     },
     "execution_count": 11,
     "metadata": {},
     "output_type": "execute_result"
    }
   ],
   "source": [
    "parsed_rules[11]"
   ]
  },
  {
   "cell_type": "markdown",
   "id": "african-champagne",
   "metadata": {},
   "source": [
    "Okay, so since there weren't any loops before and rule 0 is made up explicitly of rules 8 and 11, we know **no other rules** subrule 8 or 11. Looking at the change to rules 8 and 11 makes it clear that: \n",
    "- Rule 8 becomes: 42 | 42 42 | 42 42 42 | 42 42 42 42 | ... \n",
    "- Rule 11 becomes: 42 31 | 42 42 31 31 | 42 42 42 | 31 31 31 | ...\n",
    "\n",
    "Since rule 0 is 8 followed by 11, we know it matches strings of the form: x\\*42 + y\\*42 + y\\*31, where x,y $\\geq$ 1. Our strategy will be to check if rule 31 exists as a suffix and rule 42 exists as a prefix, and then shave them off. Continue until no more rule 31s on the back. Then ensure all remaining blocks are rule 42. "
   ]
  },
  {
   "cell_type": "code",
   "execution_count": 12,
   "id": "facial-rough",
   "metadata": {},
   "outputs": [],
   "source": [
    "# We only need to check messages that weren't valid before \n",
    "invalid_messages = [message for message in messages \n",
    "                    if message not in valid_messages]\n",
    "\n",
    "assert len(invalid_messages) + len(valid_messages) == len(messages)"
   ]
  },
  {
   "cell_type": "code",
   "execution_count": 13,
   "id": "otherwise-jungle",
   "metadata": {},
   "outputs": [],
   "source": [
    "def prefix_42(message):\n",
    "    \"\"\"Return remaining substring if rule 42 is a prefix, else Error.\"\"\"\n",
    "    for subrule in rules[42]:\n",
    "        if message.startswith(subrule):\n",
    "            return message[len(subrule):]\n",
    "    raise ValueError(\"42 wasn't prefix\")\n",
    "\n",
    "def suffix_31(message):\n",
    "    \"\"\"Return remaining substring if rule 31 is a suffix, else Error.\"\"\"\n",
    "    for subrule in rules[31]:\n",
    "        if message.endswith(subrule):\n",
    "            return message[:-len(subrule)]\n",
    "    raise ValueError(\"31 wasn't suffix\")"
   ]
  },
  {
   "cell_type": "code",
   "execution_count": 15,
   "id": "lesbian-mechanics",
   "metadata": {},
   "outputs": [
    {
     "data": {
      "text/plain": [
       "350"
      ]
     },
     "execution_count": 15,
     "metadata": {},
     "output_type": "execute_result"
    }
   ],
   "source": [
    "for message in invalid_messages:\n",
    "    msg = message[:]\n",
    "    check_31 = True\n",
    "    x = 0\n",
    "    y = 0\n",
    "    while True: \n",
    "        try: \n",
    "            if check_31:\n",
    "                msg = suffix_31(msg)\n",
    "            msg = prefix_42(msg)\n",
    "            if check_31: \n",
    "                y += 1\n",
    "            else:\n",
    "                x += 1\n",
    "        except ValueError as e: \n",
    "            if str(e) == \"42 wasn't prefix\": \n",
    "                if not check_31 and not msg and x and y:\n",
    "                    # Matched suffix 31 and prefix 42s, now empty string, so we're good \n",
    "                    valid_messages.append(message)\n",
    "                break\n",
    "            elif str(e) == \"31 wasn't suffix\":\n",
    "                # Didn't have suffix 31, check if remaining are 42 prefix \n",
    "                check_31 = False\n",
    "            else: \n",
    "                print(\"ERROR: didn't expect e\", str(e))\n",
    "                break\n",
    "                \n",
    "len(valid_messages)"
   ]
  },
  {
   "cell_type": "markdown",
   "id": "brave-welding",
   "metadata": {},
   "source": [
    "**Norvig's solution is amazing.** I'll copy it and try to think about how I could have come up with something like that..."
   ]
  },
  {
   "cell_type": "code",
   "execution_count": null,
   "id": "suffering-warehouse",
   "metadata": {},
   "outputs": [],
   "source": []
  }
 ],
 "metadata": {
  "kernelspec": {
   "display_name": "Python 3",
   "language": "python",
   "name": "python3"
  },
  "language_info": {
   "codemirror_mode": {
    "name": "ipython",
    "version": 3
   },
   "file_extension": ".py",
   "mimetype": "text/x-python",
   "name": "python",
   "nbconvert_exporter": "python",
   "pygments_lexer": "ipython3",
   "version": "3.9.1"
  }
 },
 "nbformat": 4,
 "nbformat_minor": 5
}
