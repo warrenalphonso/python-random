{
 "cells": [
  {
   "cell_type": "code",
   "execution_count": 1,
   "id": "focused-america",
   "metadata": {},
   "outputs": [],
   "source": [
    "import re\n",
    "from itertools import chain, product\n",
    "from helpers import data"
   ]
  },
  {
   "cell_type": "code",
   "execution_count": 2,
   "id": "massive-vacuum",
   "metadata": {},
   "outputs": [],
   "source": [
    "rules_arr, messages = data(19, parser=lambda s: s.split(\"\\n\"), sep=\"\\n\\n\")"
   ]
  },
  {
   "cell_type": "code",
   "execution_count": 3,
   "id": "functioning-oasis",
   "metadata": {},
   "outputs": [
    {
     "data": {
      "text/plain": [
       "['bbbbbbbbbaaaabbaababbabbaaabbbabbbbaaabb',\n",
       " 'babaabbaabbbbaababbaabbabaababba',\n",
       " 'baabbaaabbabbbbaaabababb']"
      ]
     },
     "execution_count": 3,
     "metadata": {},
     "output_type": "execute_result"
    }
   ],
   "source": [
    "messages[:3]"
   ]
  },
  {
   "cell_type": "code",
   "execution_count": 4,
   "id": "sacred-income",
   "metadata": {},
   "outputs": [],
   "source": [
    "# This task is probably made much easier by setting up the rules as nicely \n",
    "# as possible. I'll make a dictionary of them, where each value is an array \n",
    "# of the possible matches (separated by \"|\"). The matches within each array \n",
    "# will be an array themselves of ints. \n",
    "\n",
    "# Each rule is either a single character, or a list of sub-rules which are \n",
    "# sequences of rule numbers, with each sequence separated by a pipe \"|\". \n",
    "# Each value in parsed_rules is a list of sub-rules (list) or a single character. \n",
    "parsed_rules = {}\n",
    "for rule in rules_arr: \n",
    "    # Find rule number\n",
    "    key = int(re.match(\"\\d+\", rule).group())\n",
    "    parsed_rules[key] = []\n",
    "    # Remove rule number \n",
    "    rule = re.sub(\"\\d+: \", \"\", rule)\n",
    "    # Get each allowed sub-rule \n",
    "    sub_rules = rule.split(\" | \")\n",
    "    # Get ints in each sub-rule \n",
    "    for sub_rule in sub_rules:\n",
    "        rule_numbers = re.findall(\"\\d+\", sub_rule)\n",
    "        if not rule_numbers: \n",
    "            # Must be a character \n",
    "            parsed_rules[key] = sub_rule[1]\n",
    "        else: \n",
    "            parsed_rules[key].append([int(d) for d in rule_numbers])"
   ]
  },
  {
   "cell_type": "code",
   "execution_count": 5,
   "id": "rural-candidate",
   "metadata": {},
   "outputs": [
    {
     "data": {
      "text/plain": [
       "[[45, 47], [44, 18]]"
      ]
     },
     "execution_count": 5,
     "metadata": {},
     "output_type": "execute_result"
    }
   ],
   "source": [
    "parsed_rules[5]"
   ]
  },
  {
   "cell_type": "code",
   "execution_count": 6,
   "id": "weird-distinction",
   "metadata": {},
   "outputs": [],
   "source": [
    "# Now I'll go through parsed_rules to find rules with only a character and \n",
    "# add the string to rules. Then I'll repeat for values in parsed_rules \n",
    "# that are already in rules, etc. \n",
    "# rules is a dictionary of int: str or list[str]\n",
    "rules = {}\n",
    "\n",
    "# Get rules that are just one character \n",
    "for k, v in parsed_rules.items():\n",
    "    if isinstance(v, str):\n",
    "        rules[k] = v \n",
    "\n",
    "# Get rules that are based on already-processed rules \n",
    "while len(rules) != len(parsed_rules):\n",
    "    for k, v in parsed_rules.items():\n",
    "        # Check that sub-rule numbers are already processed\n",
    "        if all((r in rules) for r in chain.from_iterable(v)):\n",
    "            # Convert subrules to strings \n",
    "            # Sub-rule are potentially nested, so to get a list of strings we \n",
    "            # need to get all Cartesian products. \n",
    "            rules[k] = []\n",
    "            for sub_rule in v:\n",
    "                sub_rule_strings = [\"\".join(p) \n",
    "                                    for p in product(*[rules[sub_rule_number] \n",
    "                                                       for sub_rule_number in sub_rule])]\n",
    "                # Not append; want a 1-deep array\n",
    "                rules[k] += sub_rule_strings                "
   ]
  },
  {
   "cell_type": "markdown",
   "id": "acceptable-continuity",
   "metadata": {},
   "source": [
    "**Task 1:** Find messages that match rule 0."
   ]
  },
  {
   "cell_type": "code",
   "execution_count": 7,
   "id": "educational-malawi",
   "metadata": {},
   "outputs": [
    {
     "data": {
      "text/plain": [
       "2097152"
      ]
     },
     "execution_count": 7,
     "metadata": {},
     "output_type": "execute_result"
    }
   ],
   "source": [
    "rule = rules[0]\n",
    "len(rule) # LOTS of subrules..."
   ]
  },
  {
   "cell_type": "code",
   "execution_count": 8,
   "id": "vocational-cooperation",
   "metadata": {},
   "outputs": [
    {
     "data": {
      "text/plain": [
       "120"
      ]
     },
     "execution_count": 8,
     "metadata": {},
     "output_type": "execute_result"
    }
   ],
   "source": [
    "valid_messages = []\n",
    "for message in messages:\n",
    "    if isinstance(rule, str): \n",
    "        if rule == message: \n",
    "            valid_messages.append(message)\n",
    "    else: \n",
    "        for sub_rule in rule: \n",
    "            if sub_rule == message: \n",
    "                valid_messages.append(message)\n",
    "                break\n",
    "                \n",
    "len(valid_messages)"
   ]
  },
  {
   "cell_type": "markdown",
   "id": "undefined-specialist",
   "metadata": {},
   "source": [
    "Okay, that was really slow. I can speed this up a lot by tracking which rules pass and only checking the rules that contain them if at least one passes. "
   ]
  },
  {
   "cell_type": "markdown",
   "id": "consolidated-tribune",
   "metadata": {},
   "source": [
    "**Part 2:** Change rule 8 to \"42 | 42 8\" and rule 11 to \"42 31 | 42 11 31\". This means we add loops, but they're very confined. How many messages match rule 0 now? "
   ]
  },
  {
   "cell_type": "code",
   "execution_count": 9,
   "id": "massive-freeze",
   "metadata": {},
   "outputs": [
    {
     "data": {
      "text/plain": [
       "[[8, 11]]"
      ]
     },
     "execution_count": 9,
     "metadata": {},
     "output_type": "execute_result"
    }
   ],
   "source": [
    "parsed_rules[0]"
   ]
  },
  {
   "cell_type": "code",
   "execution_count": 10,
   "id": "furnished-pavilion",
   "metadata": {},
   "outputs": [
    {
     "data": {
      "text/plain": [
       "[[42]]"
      ]
     },
     "execution_count": 10,
     "metadata": {},
     "output_type": "execute_result"
    }
   ],
   "source": [
    "parsed_rules[8]"
   ]
  },
  {
   "cell_type": "code",
   "execution_count": 11,
   "id": "blocked-class",
   "metadata": {},
   "outputs": [
    {
     "data": {
      "text/plain": [
       "[[42, 31]]"
      ]
     },
     "execution_count": 11,
     "metadata": {},
     "output_type": "execute_result"
    }
   ],
   "source": [
    "parsed_rules[11]"
   ]
  },
  {
   "cell_type": "markdown",
   "id": "african-champagne",
   "metadata": {},
   "source": [
    "Okay, so since there weren't any loops before and rule 0 is made up explicitly of rules 8 and 11, we know **no other rules** subrule 8 or 11. Looking at the change to rules 8 and 11 makes it clear that: \n",
    "- Rule 8 becomes: 42 | 42 42 | 42 42 42 | 42 42 42 42 | ... \n",
    "- Rule 11 becomes: 42 31 | 42 42 31 31 | 42 42 42 | 31 31 31 | ...\n",
    "\n",
    "Since rule 0 is 8 followed by 11, we know it matches strings of the form: x\\*42 + y\\*42 + y\\*31, where x,y $\\geq$ 1. Our strategy will be to check if rule 31 exists as a suffix and rule 42 exists as a prefix, and then shave them off. Continue until no more rule 31s on the back. Then ensure all remaining blocks are rule 42. "
   ]
  },
  {
   "cell_type": "code",
   "execution_count": 12,
   "id": "facial-rough",
   "metadata": {},
   "outputs": [],
   "source": [
    "# We only need to check messages that weren't valid before \n",
    "invalid_messages = [message for message in messages \n",
    "                    if message not in valid_messages]\n",
    "\n",
    "assert len(invalid_messages) + len(valid_messages) == len(messages)"
   ]
  },
  {
   "cell_type": "code",
   "execution_count": 13,
   "id": "otherwise-jungle",
   "metadata": {},
   "outputs": [],
   "source": [
    "def prefix_42(message):\n",
    "    \"\"\"Return remaining substring if rule 42 is a prefix, else Error.\"\"\"\n",
    "    for subrule in rules[42]:\n",
    "        if message.startswith(subrule):\n",
    "            return message[len(subrule):]\n",
    "    raise ValueError(\"42 wasn't prefix\")\n",
    "\n",
    "def suffix_31(message):\n",
    "    \"\"\"Return remaining substring if rule 31 is a suffix, else Error.\"\"\"\n",
    "    for subrule in rules[31]:\n",
    "        if message.endswith(subrule):\n",
    "            return message[:-len(subrule)]\n",
    "    raise ValueError(\"31 wasn't suffix\")"
   ]
  },
  {
   "cell_type": "code",
   "execution_count": 14,
   "id": "lesbian-mechanics",
   "metadata": {},
   "outputs": [
    {
     "data": {
      "text/plain": [
       "350"
      ]
     },
     "execution_count": 14,
     "metadata": {},
     "output_type": "execute_result"
    }
   ],
   "source": [
    "for message in invalid_messages:\n",
    "    msg = message[:]\n",
    "    check_31 = True\n",
    "    x = 0\n",
    "    y = 0\n",
    "    while True: \n",
    "        try: \n",
    "            if check_31:\n",
    "                msg = suffix_31(msg)\n",
    "            msg = prefix_42(msg)\n",
    "            if check_31: \n",
    "                y += 1\n",
    "            else:\n",
    "                x += 1\n",
    "        except ValueError as e: \n",
    "            if str(e) == \"42 wasn't prefix\": \n",
    "                if not check_31 and not msg and x and y:\n",
    "                    # Matched suffix 31 and prefix 42s, now empty string, so we're good \n",
    "                    valid_messages.append(message)\n",
    "                break\n",
    "            elif str(e) == \"31 wasn't suffix\":\n",
    "                # Didn't have suffix 31, check if remaining are 42 prefix \n",
    "                check_31 = False\n",
    "            else: \n",
    "                print(\"ERROR: didn't expect e\", str(e))\n",
    "                break\n",
    "                \n",
    "len(valid_messages)"
   ]
  },
  {
   "cell_type": "markdown",
   "id": "brave-welding",
   "metadata": {},
   "source": [
    "**Norvig's solution is amazing.** I'll copy it and try to think about how I could have come up with something like that..."
   ]
  },
  {
   "cell_type": "code",
   "execution_count": 15,
   "id": "ready-story",
   "metadata": {},
   "outputs": [],
   "source": [
    "from typing  import List, Tuple, Union, Optional\n",
    "from helpers import data"
   ]
  },
  {
   "cell_type": "code",
   "execution_count": 16,
   "id": "developing-conviction",
   "metadata": {},
   "outputs": [],
   "source": [
    "rules, messages = data(19, parser=lambda s: s.split(\"\\n\"), sep=\"\\n\\n\")"
   ]
  },
  {
   "cell_type": "code",
   "execution_count": 17,
   "id": "suffering-warehouse",
   "metadata": {},
   "outputs": [],
   "source": [
    "# Norvig doesn't immediately evaluate the rules, like I did. He just \n",
    "# creates a flat ordering of the numbers in each rule. \n",
    "\n",
    "Message = str                           # \"abbaaaa\", for example\n",
    "Choice = tuple                          # tuple of patterns; at least one should match\n",
    "Pattern = List[Union[str, int, Choice]] # list of letters, rule numbers, or choices; all should match in-order\n",
    "\n",
    "def parse_rule(rule: str) -> Tuple[int, Pattern]:\n",
    "    \"\"\"\n",
    "    >>> parse_rule('18: \"b\"')\n",
    "    (18, ['b'])\n",
    "    >>> parse_rule('21: 45 47 | 110 18')\n",
    "    (21, [([45, 47], [110, 18])])\n",
    "    \"\"\"\n",
    "    rule = rule.replace(':', '').replace('\"', '').split()\n",
    "    for i, x in enumerate(rule): \n",
    "        try: \n",
    "            rule[i] = int(x)\n",
    "        except: \n",
    "            pass \n",
    "    \n",
    "    n, *rest = rule \n",
    "    # Ugh, I didn't realize there was at most one | per rule\n",
    "    if '|' in rest: \n",
    "        i = rest.index('|')\n",
    "        rest = [Choice((rest[:i], rest[i+1:]))]\n",
    "    \n",
    "    return n, rest\n",
    "\n",
    "rules = dict([parse_rule(rule) for rule in rules])"
   ]
  },
  {
   "cell_type": "code",
   "execution_count": 18,
   "id": "improved-radio",
   "metadata": {},
   "outputs": [
    {
     "data": {
      "text/plain": [
       "{107: [([18], [47])],\n",
       " 116: [([1, 18], [111, 47])],\n",
       " 21: [([45, 47], [110, 18])],\n",
       " 20: [([2, 47], [76, 18])],\n",
       " 44: [([47, 47], [18, 107])],\n",
       " 2: [([47, 18], [107, 47])],\n",
       " 113: [([51, 47], [35, 18])],\n",
       " 80: [([18, 22], [47, 44])],\n",
       " 110: [([18, 18], [47, 107])],\n",
       " 1: [([22, 18], [112, 47])],\n",
       " 77: [([47, 7], [18, 113])],\n",
       " 16: [([121, 47], [2, 18])],\n",
       " 66: [([91, 18], [58, 47])],\n",
       " 86: [([12, 18], [78, 47])],\n",
       " 72: [([18, 76], [47, 121])],\n",
       " 46: [([47, 68], [18, 82])],\n",
       " 131: [([66, 18], [75, 47])],\n",
       " 108: [([84, 18], [24, 47])],\n",
       " 27: [([22, 47], [110, 18])],\n",
       " 53: [([108, 18], [122, 47])],\n",
       " 90: [([77, 47], [37, 18])],\n",
       " 6: [([18, 29], [47, 52])],\n",
       " 10: [([76, 18], [44, 47])],\n",
       " 43: [([47, 39], [18, 130])],\n",
       " 106: [([18, 112], [47, 110])],\n",
       " 89: [([97, 47], [51, 18])],\n",
       " 84: [112, 18],\n",
       " 91: [([74, 47], [110, 18])],\n",
       " 114: [([18, 47], [107, 18])],\n",
       " 105: [([26, 18], [118, 47])],\n",
       " 18: ['b'],\n",
       " 19: [([2, 47], [22, 18])],\n",
       " 15: [([34, 47], [2, 18])],\n",
       " 111: [([110, 47], [22, 18])],\n",
       " 94: [([47, 95], [18, 57])],\n",
       " 34: [107, 107],\n",
       " 60: [([47, 114], [18, 121])],\n",
       " 62: [([44, 47], [45, 18])],\n",
       " 50: [([38, 47], [103, 18])],\n",
       " 61: [([18, 44], [47, 110])],\n",
       " 87: [112, 107],\n",
       " 8: [42],\n",
       " 31: [([18, 49], [47, 25])],\n",
       " 57: [([18, 20], [47, 60])],\n",
       " 103: [([18, 67], [47, 40])],\n",
       " 39: [([18, 45], [47, 22])],\n",
       " 128: [([112, 18], [13, 47])],\n",
       " 5: [([45, 47], [44, 18])],\n",
       " 13: [18, 18],\n",
       " 3: [([47, 10], [18, 80])],\n",
       " 11: [42, 31],\n",
       " 124: [22, 18],\n",
       " 88: [([18, 18], [47, 18])],\n",
       " 54: [([32, 18], [129, 47])],\n",
       " 63: [([81, 18], [86, 47])],\n",
       " 49: [([18, 132], [47, 105])],\n",
       " 102: [([10, 18], [120, 47])],\n",
       " 93: [([18, 44], [47, 34])],\n",
       " 65: [107, 2],\n",
       " 132: [([83, 47], [14, 18])],\n",
       " 125: [([18, 43], [47, 71])],\n",
       " 109: [([47, 22], [18, 76])],\n",
       " 117: [([18, 112], [47, 22])],\n",
       " 59: [([47, 22], [18, 13])],\n",
       " 75: [([18, 109], [47, 27])],\n",
       " 4: [([47, 90], [18, 69])],\n",
       " 48: [([18, 65], [47, 115])],\n",
       " 24: [([18, 2], [47, 44])],\n",
       " 42: [([47, 50], [18, 4])],\n",
       " 96: [([106, 47], [16, 18])],\n",
       " 101: [([111, 47], [91, 18])],\n",
       " 58: [([47, 76], [18, 73])],\n",
       " 79: [([47, 73], [18, 22])],\n",
       " 12: [([47, 34], [18, 88])],\n",
       " 25: [([33, 47], [55, 18])],\n",
       " 130: [([18, 114], [47, 44])],\n",
       " 83: [([126, 18], [102, 47])],\n",
       " 45: [47, 18],\n",
       " 9: [([41, 18], [62, 47])],\n",
       " 78: [([112, 18], [45, 47])],\n",
       " 14: [([3, 47], [85, 18])],\n",
       " 97: [([47, 45], [18, 22])],\n",
       " 22: [18, 47],\n",
       " 41: [([18, 22], [47, 112])],\n",
       " 112: [([18, 47], [18, 18])],\n",
       " 68: [([21, 18], [19, 47])],\n",
       " 121: [([47, 47], [18, 18])],\n",
       " 119: [22, 47],\n",
       " 129: [([47, 5], [18, 39])],\n",
       " 30: [([73, 18], [2, 47])],\n",
       " 98: [([34, 18], [45, 47])],\n",
       " 40: [([18, 70], [47, 9])],\n",
       " 7: [([64, 47], [79, 18])],\n",
       " 115: [([121, 47], [44, 18])],\n",
       " 32: [([19, 47], [30, 18])],\n",
       " 73: [([18, 47], [47, 18])],\n",
       " 35: [([18, 76], [47, 45])],\n",
       " 95: [([93, 18], [72, 47])],\n",
       " 52: [([28, 47], [124, 18])],\n",
       " 126: [([59, 18], [92, 47])],\n",
       " 26: [([104, 18], [89, 47])],\n",
       " 81: [([47, 98], [18, 127])],\n",
       " 0: [8, 11],\n",
       " 64: [112, 47],\n",
       " 71: [([47, 119], [18, 117])],\n",
       " 74: [47, 47],\n",
       " 82: [([47, 120], [18, 17])],\n",
       " 56: [([74, 47], [88, 18])],\n",
       " 123: [([88, 47], [76, 18])],\n",
       " 33: [([6, 18], [63, 47])],\n",
       " 104: [([80, 18], [128, 47])],\n",
       " 99: [([98, 18], [23, 47])],\n",
       " 38: [([94, 18], [53, 47])],\n",
       " 36: [([47, 110], [18, 74])],\n",
       " 37: [([47, 48], [18, 101])],\n",
       " 70: [([61, 47], [87, 18])],\n",
       " 55: [([47, 54], [18, 131])],\n",
       " 23: [([2, 47], [112, 18])],\n",
       " 122: [([10, 47], [64, 18])],\n",
       " 120: [([88, 18], [112, 47])],\n",
       " 28: [([18, 112], [47, 73])],\n",
       " 51: [([47, 74], [18, 110])],\n",
       " 17: [([47, 88], [18, 22])],\n",
       " 127: [([18, 73], [47, 45])],\n",
       " 69: [([125, 18], [46, 47])],\n",
       " 92: [([2, 47], [114, 18])],\n",
       " 29: [([117, 18], [56, 47])],\n",
       " 67: [([18, 96], [47, 116])],\n",
       " 85: [([18, 36], [47, 15])],\n",
       " 100: [([18, 123], [47, 12])],\n",
       " 47: ['a'],\n",
       " 118: [([100, 47], [99, 18])],\n",
       " 76: [([47, 47], [47, 18])]}"
      ]
     },
     "execution_count": 18,
     "metadata": {},
     "output_type": "execute_result"
    }
   ],
   "source": [
    "rules"
   ]
  },
  {
   "cell_type": "code",
   "execution_count": 19,
   "id": "unauthorized-platform",
   "metadata": {},
   "outputs": [],
   "source": [
    "def match(pat, msg, rules) -> Optional[Message]: \n",
    "    \"\"\"If pat matches a prefix of msg, return remainder of msg.\"\"\"\n",
    "    if pat and not msg:\n",
    "        return None \n",
    "    elif not pat:\n",
    "        return msg\n",
    "    elif pat[0] == msg[0]:\n",
    "        return match(pat[1:], msg[1:], rules)\n",
    "    elif isinstance(pat[0], int):\n",
    "        # Look up subrule number \n",
    "        return match(rules[pat[0]] + pat[1:], msg, rules)\n",
    "    elif isinstance(pat[0], Choice): \n",
    "        # Match first one \n",
    "        for choice in pat[0]:\n",
    "            m = match(choice + pat[1:], msg, rules)\n",
    "            if m is not None:\n",
    "                return m\n",
    "    return None"
   ]
  },
  {
   "cell_type": "code",
   "execution_count": 20,
   "id": "moral-bathroom",
   "metadata": {},
   "outputs": [
    {
     "data": {
      "text/plain": [
       "120"
      ]
     },
     "execution_count": 20,
     "metadata": {},
     "output_type": "execute_result"
    }
   ],
   "source": [
    "sum(match(rules[0], msg, rules) == '' for msg in messages)"
   ]
  },
  {
   "cell_type": "markdown",
   "id": "destroyed-instrumentation",
   "metadata": {},
   "source": [
    "**Part 2, Norvig:** Literally just have a recursive Rule 8 and 11 since `match` short-circuits. "
   ]
  },
  {
   "cell_type": "code",
   "execution_count": 21,
   "id": "multiple-grass",
   "metadata": {},
   "outputs": [],
   "source": [
    "rules[8] = [Choice(([42], [42, 8]))]\n",
    "rules[11] = [Choice(([42, 31], [42, 11, 31]))]"
   ]
  },
  {
   "cell_type": "code",
   "execution_count": 22,
   "id": "hungarian-medline",
   "metadata": {},
   "outputs": [
    {
     "data": {
      "text/plain": [
       "350"
      ]
     },
     "execution_count": 22,
     "metadata": {},
     "output_type": "execute_result"
    }
   ],
   "source": [
    "sum(match(rules[0], msg, rules) == '' for msg in messages)"
   ]
  },
  {
   "cell_type": "code",
   "execution_count": null,
   "id": "progressive-rocket",
   "metadata": {},
   "outputs": [],
   "source": []
  }
 ],
 "metadata": {
  "kernelspec": {
   "display_name": "Python 3",
   "language": "python",
   "name": "python3"
  },
  "language_info": {
   "codemirror_mode": {
    "name": "ipython",
    "version": 3
   },
   "file_extension": ".py",
   "mimetype": "text/x-python",
   "name": "python",
   "nbconvert_exporter": "python",
   "pygments_lexer": "ipython3",
   "version": "3.9.1"
  }
 },
 "nbformat": 4,
 "nbformat_minor": 5
}
