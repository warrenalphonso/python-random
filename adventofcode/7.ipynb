{
 "cells": [
  {
   "cell_type": "code",
   "execution_count": 1,
   "id": "accredited-compound",
   "metadata": {},
   "outputs": [],
   "source": [
    "import re \n",
    "from collections import defaultdict, deque\n",
    "from functools   import lru_cache\n",
    "from typing      import Dict, Tuple\n",
    "\n",
    "from helpers     import data "
   ]
  },
  {
   "cell_type": "code",
   "execution_count": 2,
   "id": "palestinian-interaction",
   "metadata": {},
   "outputs": [
    {
     "data": {
      "text/plain": [
       "['shiny purple bags contain 2 pale blue bags, 1 wavy fuchsia bag, 5 pale salmon bags.',\n",
       " 'bright gray bags contain 4 dotted coral bags.',\n",
       " 'clear chartreuse bags contain 3 dark magenta bags, 3 dull gray bags, 4 dark silver bags.']"
      ]
     },
     "execution_count": 2,
     "metadata": {},
     "output_type": "execute_result"
    }
   ],
   "source": [
    "rules = data(7)\n",
    "rules[:3]"
   ]
  },
  {
   "cell_type": "markdown",
   "id": "suited-hazard",
   "metadata": {},
   "source": [
    "**Part 1:** Count the number of bags that can ultimately contain a gold bag. Find all bags that directly contain gold bag, then repeat for those bags to find other deeper ancestors of a gold bag. All ancestors are valid. "
   ]
  },
  {
   "cell_type": "code",
   "execution_count": 3,
   "id": "synthetic-timing",
   "metadata": {},
   "outputs": [],
   "source": [
    "# First two words are holder bag name\n",
    "# Then search for \"2 shiny gold bag[s]\": digit, space, name, space, bags?\n",
    "get_holder = re.compile(r\"^([^\\s]*\\s[^\\s]*)\")\n",
    "def holds(name):\n",
    "    return re.compile(r\"\\d+\\s[^\\s]*\" + name + r\"\\s(bag)s?\")"
   ]
  },
  {
   "cell_type": "code",
   "execution_count": 4,
   "id": "cloudy-liver",
   "metadata": {},
   "outputs": [
    {
     "data": {
      "text/plain": [
       "'shiny purple'"
      ]
     },
     "execution_count": 4,
     "metadata": {},
     "output_type": "execute_result"
    }
   ],
   "source": [
    "get_holder.search(\"shiny purple bags contain 2 pale blue bags, 1 wavy fuchsia bag, 5 pale salmon bags\").group()"
   ]
  },
  {
   "cell_type": "code",
   "execution_count": 5,
   "id": "korean-charger",
   "metadata": {},
   "outputs": [
    {
     "data": {
      "text/plain": [
       "179"
      ]
     },
     "execution_count": 5,
     "metadata": {},
     "output_type": "execute_result"
    }
   ],
   "source": [
    "holders = set()\n",
    "can_hold = [\"shiny gold\"]\n",
    "while can_hold: \n",
    "    child = re.compile(can_hold.pop())\n",
    "    for rule in rules: \n",
    "        if child.search(rule): \n",
    "            holder = get_holder.search(rule).group()\n",
    "            if holder not in holders and holder != \"shiny gold\": \n",
    "                holders.add(holder)\n",
    "                can_hold.append(holder)\n",
    "len(holders)"
   ]
  },
  {
   "cell_type": "markdown",
   "id": "light-measurement",
   "metadata": {},
   "source": [
    "**Part 1, Take 2:** "
   ]
  },
  {
   "cell_type": "code",
   "execution_count": 6,
   "id": "planned-bracket",
   "metadata": {},
   "outputs": [
    {
     "data": {
      "text/plain": [
       "179"
      ]
     },
     "execution_count": 6,
     "metadata": {},
     "output_type": "execute_result"
    }
   ],
   "source": [
    "# First two words are holder bag name\n",
    "GET_HOLDER = re.compile(r\"^([^\\s]*\\s[^\\s]*)\")\n",
    "\n",
    "# Held bag is found as 12 shiny gold bags, ie digits, space, name, space, bag(s)\n",
    "holds = lambda name: re.compile(f\"\\d*\\s({name})\\sbags?\")\n",
    "\n",
    "possible_holders = set()\n",
    "possible_children = deque([\"shiny gold\"])\n",
    "\n",
    "while possible_children: \n",
    "    child = possible_children.pop()\n",
    "    HOLDS_CHILD = holds(child)\n",
    "    for rule in rules: \n",
    "        if HOLDS_CHILD.search(rule):\n",
    "            holder = GET_HOLDER.search(rule).group(1)\n",
    "            if holder not in possible_holders and holder != \"shiny_gold\":\n",
    "                possible_holders.add(holder)\n",
    "                possible_children.append(holder)\n",
    "len(possible_holders)"
   ]
  },
  {
   "cell_type": "markdown",
   "id": "shared-microwave",
   "metadata": {},
   "source": [
    "**Norvig:** Norvig's solution is way better. Also, I forgot to use `assert`s to do simple tests!"
   ]
  },
  {
   "cell_type": "code",
   "execution_count": 7,
   "id": "finnish-suffering",
   "metadata": {},
   "outputs": [
    {
     "data": {
      "text/plain": [
       "179"
      ]
     },
     "execution_count": 7,
     "metadata": {},
     "output_type": "execute_result"
    }
   ],
   "source": [
    "Bag = str \n",
    "BagRules = Dict[Bag, Dict[Bag, int]] # {outer: {inner: count, ...}, ...} since can hold multiple types of bags \n",
    "\n",
    "def parse_inner(text: str) -> Tuple[Bag, int]:\n",
    "    \"\"\"\n",
    "    Get (bag: count) for a single bag\n",
    "    \n",
    "    >>> parse_inner(\"3 muted gray\")\n",
    "    ('muted gray', 3)\n",
    "    \n",
    "    >>> parse_inner(\"no other\")\n",
    "    ('other', 0)\n",
    "    \"\"\"\n",
    "    n, bag = text.split(maxsplit=1) # Split only one first space \n",
    "    return bag, 0 if n == \"no\" else int(n)\n",
    "\n",
    "def parse_bag_rule(line: str) -> Tuple[Bag, Dict[Bag, int]]: \n",
    "    \"\"\"\n",
    "    Return a single rule: (outer, {inner: count, ...})\n",
    "    \n",
    "    >>> parse_bag_rule(\"shiny plum bags contain 4 pale blue bags, 5 dull brown bags, 5 mirrored black bags.\")\n",
    "    ('shiny plum', {'pale blue': 4, 'dull brown': 5, 'mirrored black': 5})\n",
    "    \n",
    "    >>> parse_bag_rule(\"dull bronze bags contain no other bags.\")\n",
    "    ('dull bronze', {'other': 0})\n",
    "    \"\"\"\n",
    "    line = re.sub(\" bags?|[.]\", \"\", line) # Remove unnecessary info \n",
    "    outer, inner = line.split(\" contain \")\n",
    "    return outer, dict(map(parse_inner, inner.split(\", \")))\n",
    "\n",
    "bag_rules: BagRules = dict(map(parse_bag_rule, rules))\n",
    "\n",
    "@lru_cache(maxsize=None)\n",
    "def contains(bag, target) -> bool: \n",
    "    \"\"\"Does this bag contain the target, perhaps recursively?\"\"\"\n",
    "    contents = bag_rules.get(bag, {})\n",
    "    return target in contents or any(contains(inner, target) for inner in contents)\n",
    "\n",
    "sum(contains(bag, \"shiny gold\") for bag in bag_rules)"
   ]
  },
  {
   "cell_type": "markdown",
   "id": "knowing-examination",
   "metadata": {},
   "source": [
    "**Part 2:** How many individual bags are required inside a shiny gold bag?"
   ]
  },
  {
   "cell_type": "code",
   "execution_count": 8,
   "id": "level-point",
   "metadata": {},
   "outputs": [],
   "source": [
    "get_bags_held = re.compile(r\"\\d+\\s([^\\s]*\\s[^\\s]*)\\s\")\n",
    "\n",
    "def get_num_bags(name):\n",
    "    return re.compile(f\"(\\d+)\\s{name}\\s(bag)s?\")"
   ]
  },
  {
   "cell_type": "code",
   "execution_count": 9,
   "id": "respiratory-plenty",
   "metadata": {},
   "outputs": [
    {
     "data": {
      "text/plain": [
       "18925"
      ]
     },
     "execution_count": 9,
     "metadata": {},
     "output_type": "execute_result"
    }
   ],
   "source": [
    "def count_total(name): \n",
    "    total = 0\n",
    "    for rule in rules: \n",
    "        if get_holder.search(rule).group() == name: \n",
    "            for held_bag in get_bags_held.findall(rule):\n",
    "                times = int(get_num_bags(held_bag).search(rule).group(1))\n",
    "                total += times \n",
    "                total += times * count_total(held_bag)\n",
    "    return total \n",
    "            \n",
    "count_total(\"shiny gold\")        "
   ]
  },
  {
   "cell_type": "markdown",
   "id": "worse-viewer",
   "metadata": {},
   "source": [
    "**Norvig:**"
   ]
  },
  {
   "cell_type": "code",
   "execution_count": 10,
   "id": "married-dragon",
   "metadata": {},
   "outputs": [
    {
     "data": {
      "text/plain": [
       "18925"
      ]
     },
     "execution_count": 10,
     "metadata": {},
     "output_type": "execute_result"
    }
   ],
   "source": [
    "def num_contained_in(target, rules) -> int: \n",
    "    \"\"\"How many bags are contained (recursively) in target?\"\"\"\n",
    "    return sum(n + n * num_contained_in(bag, rules)\n",
    "               for (bag, n) in rules[target].items() if n > 0)\n",
    "\n",
    "num_contained_in(\"shiny gold\", bag_rules)"
   ]
  },
  {
   "cell_type": "code",
   "execution_count": null,
   "id": "digital-bacteria",
   "metadata": {},
   "outputs": [],
   "source": []
  }
 ],
 "metadata": {
  "kernelspec": {
   "display_name": "Python 3",
   "language": "python",
   "name": "python3"
  },
  "language_info": {
   "codemirror_mode": {
    "name": "ipython",
    "version": 3
   },
   "file_extension": ".py",
   "mimetype": "text/x-python",
   "name": "python",
   "nbconvert_exporter": "python",
   "pygments_lexer": "ipython3",
   "version": "3.9.1"
  }
 },
 "nbformat": 4,
 "nbformat_minor": 5
}
