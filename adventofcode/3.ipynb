{
 "cells": [
  {
   "cell_type": "code",
   "execution_count": 1,
   "id": "incredible-massage",
   "metadata": {},
   "outputs": [],
   "source": [
    "from collections import namedtuple \n",
    "from helpers import data"
   ]
  },
  {
   "cell_type": "code",
   "execution_count": 2,
   "id": "floating-congress",
   "metadata": {},
   "outputs": [
    {
     "data": {
      "text/plain": [
       "'.....#............#....#####.##'"
      ]
     },
     "execution_count": 2,
     "metadata": {},
     "output_type": "execute_result"
    }
   ],
   "source": [
    "layers = data(3)\n",
    "layers[0]"
   ]
  },
  {
   "cell_type": "code",
   "execution_count": 3,
   "id": "adaptive-pierce",
   "metadata": {},
   "outputs": [],
   "source": [
    "def square(d: int, r: int) -> str:\n",
    "    \"Return position down d tiles and right r tiles from (0, 0)\"\n",
    "    if d >= len(layers):\n",
    "        raise \"d is too high\"\n",
    "    r = r % len(layers[0])\n",
    "    return layers[d][r]"
   ]
  },
  {
   "cell_type": "markdown",
   "id": "differential-belarus",
   "metadata": {},
   "source": [
    "**Part 1:** Count all trees encountered on slope right 3, down 1. "
   ]
  },
  {
   "cell_type": "code",
   "execution_count": 4,
   "id": "thrown-tension",
   "metadata": {},
   "outputs": [
    {
     "data": {
      "text/plain": [
       "278"
      ]
     },
     "execution_count": 4,
     "metadata": {},
     "output_type": "execute_result"
    }
   ],
   "source": [
    "# Attempt 1\n",
    "sum(square(d, 3 * d) == \"#\" for d in range(len(layers)))"
   ]
  },
  {
   "cell_type": "code",
   "execution_count": 5,
   "id": "protected-belief",
   "metadata": {},
   "outputs": [
    {
     "data": {
      "text/plain": [
       "278"
      ]
     },
     "execution_count": 5,
     "metadata": {},
     "output_type": "execute_result"
    }
   ],
   "source": [
    "# Attempt 2\n",
    "trees = 0 \n",
    "for d, layer in enumerate(layers):\n",
    "    r = 3 * d \n",
    "    trees += square(d, r) == \"#\"\n",
    "    \n",
    "trees"
   ]
  },
  {
   "cell_type": "code",
   "execution_count": 6,
   "id": "electric-coupon",
   "metadata": {},
   "outputs": [
    {
     "data": {
      "text/plain": [
       "278"
      ]
     },
     "execution_count": 6,
     "metadata": {},
     "output_type": "execute_result"
    }
   ],
   "source": [
    "# Norvig \n",
    "sum(row[(3 * y) % len(row)] == \"#\" # Avoids out-of-bounds like a pro\n",
    "        for y, row in enumerate(layers))"
   ]
  },
  {
   "cell_type": "markdown",
   "id": "excited-extraction",
   "metadata": {},
   "source": [
    "**Part 2:** For 5 specified slopes [(1, 1), (3, 1), (5, 1), (7, 1), (1, 2)], find the product of the number of trees. "
   ]
  },
  {
   "cell_type": "code",
   "execution_count": 7,
   "id": "experimental-transparency",
   "metadata": {},
   "outputs": [],
   "source": [
    "slope = namedtuple(\"slope\", [\"dx\", \"dy\"])\n",
    "slopes = [slope(x, y) for x, y in [(1, 1), (3, 1), (5, 1), (7, 1), (1, 2)]]"
   ]
  },
  {
   "cell_type": "code",
   "execution_count": 8,
   "id": "assigned-boost",
   "metadata": {},
   "outputs": [
    {
     "data": {
      "text/plain": [
       "9709761600"
      ]
     },
     "execution_count": 8,
     "metadata": {},
     "output_type": "execute_result"
    }
   ],
   "source": [
    "# Attempt 1 \n",
    "p = 1 \n",
    "for s in slopes:\n",
    "    p *= sum(layer[(s.dx * d) % len(layer)] == \"#\"\n",
    "                for d, layer in enumerate(layers[::s.dy]))\n",
    "\n",
    "p"
   ]
  }
 ],
 "metadata": {
  "kernelspec": {
   "display_name": "Python 3",
   "language": "python",
   "name": "python3"
  },
  "language_info": {
   "codemirror_mode": {
    "name": "ipython",
    "version": 3
   },
   "file_extension": ".py",
   "mimetype": "text/x-python",
   "name": "python",
   "nbconvert_exporter": "python",
   "pygments_lexer": "ipython3",
   "version": "3.9.1"
  }
 },
 "nbformat": 4,
 "nbformat_minor": 5
}
