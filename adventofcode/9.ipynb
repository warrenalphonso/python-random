{
 "cells": [
  {
   "cell_type": "code",
   "execution_count": 1,
   "id": "electrical-killer",
   "metadata": {},
   "outputs": [],
   "source": [
    "from itertools import combinations # Doesn't use repeated elements \n",
    "from helpers import data"
   ]
  },
  {
   "cell_type": "code",
   "execution_count": 2,
   "id": "pediatric-collect",
   "metadata": {},
   "outputs": [
    {
     "data": {
      "text/plain": [
       "[14, 39, 44, 32, 47]"
      ]
     },
     "execution_count": 2,
     "metadata": {},
     "output_type": "execute_result"
    }
   ],
   "source": [
    "numbers = data(9, int)\n",
    "numbers[:5]"
   ]
  },
  {
   "cell_type": "markdown",
   "id": "corporate-manner",
   "metadata": {},
   "source": [
    "**Part 1:** After a 25-number preamble, each number is a sum of two of the 25 numbers before it (where the numbers must be distinct). Find the first number that doesn't have this property. "
   ]
  },
  {
   "cell_type": "code",
   "execution_count": 3,
   "id": "angry-prime",
   "metadata": {},
   "outputs": [
    {
     "name": "stdout",
     "output_type": "stream",
     "text": [
      "22477624\n"
     ]
    }
   ],
   "source": [
    "preceding = numbers[:25]\n",
    "for n in numbers[26:]:\n",
    "    overlap = set(preceding) & {n - p for p in set(preceding)}\n",
    "    if not overlap: \n",
    "        print(n)\n",
    "        break\n",
    "    preceding.pop(0)\n",
    "    preceding.append(n)"
   ]
  },
  {
   "cell_type": "markdown",
   "id": "foster-chinese",
   "metadata": {},
   "source": [
    "**Norvig:** It's definitely more readable than mine. "
   ]
  },
  {
   "cell_type": "code",
   "execution_count": 4,
   "id": "formed-salem",
   "metadata": {},
   "outputs": [
    {
     "data": {
      "text/plain": [
       "22477624"
      ]
     },
     "execution_count": 4,
     "metadata": {},
     "output_type": "execute_result"
    }
   ],
   "source": [
    "def two_sums(nums): \n",
    "    return (sum(comb) for comb in combinations(nums, 2))\n",
    "\n",
    "next(n for i, n in enumerate(numbers) \n",
    "     if i > 25 \n",
    "     and n not in two_sums(numbers[i-25:]))"
   ]
  },
  {
   "cell_type": "markdown",
   "id": "decreased-working",
   "metadata": {},
   "source": [
    "**Part 2:** Find a contiguous range of numbers that sum to the number found in Part 1. Submit sum of smallest and largest in the range. "
   ]
  },
  {
   "cell_type": "code",
   "execution_count": 5,
   "id": "lucky-password",
   "metadata": {},
   "outputs": [
    {
     "data": {
      "text/plain": [
       "2980044"
      ]
     },
     "execution_count": 5,
     "metadata": {},
     "output_type": "execute_result"
    }
   ],
   "source": [
    "# Sliding window sum \n",
    "i = 0 \n",
    "j = 2 # Range must be at least 2 \n",
    "n = 22477624\n",
    "\n",
    "while True: \n",
    "    s = sum(numbers[i:j]) \n",
    "    if s == n: break \n",
    "    if s < n: \n",
    "        j += 1\n",
    "    else: \n",
    "        i += 1\n",
    "\n",
    "min(numbers[i:j]) + max(numbers[i:j])"
   ]
  },
  {
   "cell_type": "code",
   "execution_count": 6,
   "id": "institutional-yahoo",
   "metadata": {},
   "outputs": [],
   "source": [
    "# Norvig's solution isn't much better here imo"
   ]
  },
  {
   "cell_type": "code",
   "execution_count": null,
   "id": "tired-culture",
   "metadata": {},
   "outputs": [],
   "source": []
  }
 ],
 "metadata": {
  "kernelspec": {
   "display_name": "Python 3",
   "language": "python",
   "name": "python3"
  },
  "language_info": {
   "codemirror_mode": {
    "name": "ipython",
    "version": 3
   },
   "file_extension": ".py",
   "mimetype": "text/x-python",
   "name": "python",
   "nbconvert_exporter": "python",
   "pygments_lexer": "ipython3",
   "version": "3.9.1"
  }
 },
 "nbformat": 4,
 "nbformat_minor": 5
}
