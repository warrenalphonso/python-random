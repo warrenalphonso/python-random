{
 "cells": [
  {
   "cell_type": "code",
   "execution_count": 1,
   "id": "approved-offer",
   "metadata": {},
   "outputs": [],
   "source": [
    "from collections import Counter\n",
    "from functools   import cache\n",
    "from itertools   import tee\n",
    "from helpers     import data"
   ]
  },
  {
   "cell_type": "code",
   "execution_count": 2,
   "id": "frequent-horizon",
   "metadata": {},
   "outputs": [],
   "source": [
    "adapter_joltages = data(10, parser=int)"
   ]
  },
  {
   "cell_type": "code",
   "execution_count": 3,
   "id": "associate-survivor",
   "metadata": {},
   "outputs": [
    {
     "data": {
      "text/plain": [
       "[118, 14, 98, 154, 71]"
      ]
     },
     "execution_count": 3,
     "metadata": {},
     "output_type": "execute_result"
    }
   ],
   "source": [
    "adapter_joltages[:5]"
   ]
  },
  {
   "cell_type": "markdown",
   "id": "composed-admission",
   "metadata": {},
   "source": [
    "**Part 1:** Multiply number of 1-jolt differences by number of 3-jolt differences. Any adapter can have input of 1,2,or 3 jolts lower than its output joltage. Our device has ouput joltage 3 jolts higher than maximum of adapter. The charging outlet has joltage 0. \n",
    "\n",
    "I assume there's only one way to order the adapters. \n",
    "\n",
    "This seems very simple: since an adapter can only take as input another adapter with input at least 1 and at most 3 joltages below it, we can just sort the list and use that order. "
   ]
  },
  {
   "cell_type": "code",
   "execution_count": 4,
   "id": "everyday-ambassador",
   "metadata": {},
   "outputs": [],
   "source": [
    "device_joltage = max(adapter_joltages) + 3\n",
    "input_joltage = 0"
   ]
  },
  {
   "cell_type": "code",
   "execution_count": 5,
   "id": "confirmed-confidentiality",
   "metadata": {},
   "outputs": [
    {
     "data": {
      "text/plain": [
       "[0, 1, 2, 5, 8, 9, 10, 11, 14, 15]"
      ]
     },
     "execution_count": 5,
     "metadata": {},
     "output_type": "execute_result"
    }
   ],
   "source": [
    "order = [input_joltage, *sorted(adapter_joltages), device_joltage]\n",
    "order[:10]"
   ]
  },
  {
   "cell_type": "code",
   "execution_count": 6,
   "id": "valuable-fairy",
   "metadata": {},
   "outputs": [],
   "source": [
    "def pairwise(iterable):\n",
    "    \"\"\"s -> (s0, s1), (s1, s2), ...\"\"\"\n",
    "    a, b = tee(iterable)\n",
    "    next(b, None)\n",
    "    return zip(a, b)"
   ]
  },
  {
   "cell_type": "code",
   "execution_count": 7,
   "id": "classified-wound",
   "metadata": {},
   "outputs": [],
   "source": [
    "diffs = [output_joltage - input_joltage for input_joltage, output_joltage in pairwise(order)]\n",
    "if not all(1 <= d <= 3 for d in diffs):\n",
    "    raise ValueError(\"Order is impossible!\")"
   ]
  },
  {
   "cell_type": "code",
   "execution_count": 8,
   "id": "worst-content",
   "metadata": {},
   "outputs": [
    {
     "data": {
      "text/plain": [
       "2070"
      ]
     },
     "execution_count": 8,
     "metadata": {},
     "output_type": "execute_result"
    }
   ],
   "source": [
    "totals = Counter(diffs)\n",
    "totals[1] * totals[3]"
   ]
  },
  {
   "cell_type": "markdown",
   "id": "absent-shift",
   "metadata": {},
   "source": [
    "I'm really happy with this solution! It didn't take me too long, and I think using `pairwise` makes it much easier. Of course, I didn't really do much since `sorted` just solves the problem. "
   ]
  },
  {
   "cell_type": "markdown",
   "id": "qualified-window",
   "metadata": {},
   "source": [
    "**Part 2:** Find distinct ways to arrange the adapters to charge your device. Now, we don't have to include them all.\n",
    "\n",
    "\n",
    "This is still pretty simple, I think. It's got to still be in sorted order, so we can sort, then try removing one adapter, check if diff works, then try removing another one, and repeat until it no longer works. Then start again by removing another adapter. \n",
    "\n",
    "Actually, what we should do is try removing just one adapter. We'll have a list of all the adapters that, when removed individually, still allowed for a valid ordering. Now when we do multiple removals at a time, we can only remove those ones. \n",
    "\n",
    "Nah, this is just a simple \"use the first one or don't\". "
   ]
  },
  {
   "cell_type": "code",
   "execution_count": 9,
   "id": "likely-palestine",
   "metadata": {},
   "outputs": [],
   "source": [
    "@cache\n",
    "def arrangements(jolts, prev=0):\n",
    "    \"\"\"jolts must be a tuple so it can be cached.\"\"\"\n",
    "    first, rest = jolts[0], jolts[1:]\n",
    "    if first - prev > 3:\n",
    "        return 0 \n",
    "    elif not rest:\n",
    "        return 1 \n",
    "    return arrangements(rest, first) + arrangements(rest, prev)"
   ]
  },
  {
   "cell_type": "code",
   "execution_count": 10,
   "id": "photographic-opportunity",
   "metadata": {},
   "outputs": [
    {
     "data": {
      "text/plain": [
       "24179327893504"
      ]
     },
     "execution_count": 10,
     "metadata": {},
     "output_type": "execute_result"
    }
   ],
   "source": [
    "arrangements(tuple( sorted(adapter_joltages) + [device_joltage] ))"
   ]
  },
  {
   "cell_type": "code",
   "execution_count": 11,
   "id": "recovered-montreal",
   "metadata": {},
   "outputs": [
    {
     "data": {
      "text/plain": [
       "CacheInfo(hits=72, misses=269, maxsize=None, currsize=269)"
      ]
     },
     "execution_count": 11,
     "metadata": {},
     "output_type": "execute_result"
    }
   ],
   "source": [
    "arrangements.cache_info()"
   ]
  },
  {
   "cell_type": "code",
   "execution_count": null,
   "id": "upset-three",
   "metadata": {},
   "outputs": [],
   "source": []
  }
 ],
 "metadata": {
  "kernelspec": {
   "display_name": "Python 3",
   "language": "python",
   "name": "python3"
  },
  "language_info": {
   "codemirror_mode": {
    "name": "ipython",
    "version": 3
   },
   "file_extension": ".py",
   "mimetype": "text/x-python",
   "name": "python",
   "nbconvert_exporter": "python",
   "pygments_lexer": "ipython3",
   "version": "3.9.1"
  }
 },
 "nbformat": 4,
 "nbformat_minor": 5
}
