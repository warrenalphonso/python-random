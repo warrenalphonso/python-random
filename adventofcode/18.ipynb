{
 "cells": [
  {
   "cell_type": "code",
   "execution_count": 42,
   "id": "laughing-independence",
   "metadata": {},
   "outputs": [],
   "source": [
    "from operator import add, mul\n",
    "from typing   import Union\n",
    "from helpers import data\n",
    "import ast\n",
    "import re"
   ]
  },
  {
   "cell_type": "code",
   "execution_count": 2,
   "id": "disturbed-portrait",
   "metadata": {},
   "outputs": [
    {
     "data": {
      "text/plain": [
       "['5+3+(7*9+8+8)+9', '4+2*((2+8*7*9)*7*(2+4)+(7+9+5+6*2*6))', '5+8*5*(6+8*7)*5']"
      ]
     },
     "execution_count": 2,
     "metadata": {},
     "output_type": "execute_result"
    }
   ],
   "source": [
    "expressions = data(18, parser=lambda s: s.replace(\" \", \"\"))\n",
    "expressions[:3]"
   ]
  },
  {
   "cell_type": "markdown",
   "id": "incomplete-edward",
   "metadata": {},
   "source": [
    "**Part 1:** Evaluate the expression in each line. The operators have no precedence, except for parentheses. Calculate the sum of all the expressions. \n",
    "\n",
    "This is probably best done recursively. Process a line left to right, until I hit a parentheses and then recurse to evaluate the expression inside it."
   ]
  },
  {
   "cell_type": "code",
   "execution_count": 34,
   "id": "grand-interim",
   "metadata": {},
   "outputs": [],
   "source": [
    "def evaluate(expression: Iterator[chr]):\n",
    "    \"\"\"Evaluate expression, which should yield each atom (operation, \n",
    "    parentheses, or one-digit number) one at a time.\n",
    "    \"\"\"\n",
    "    if iter(expression) is not expression:\n",
    "        raise TypeError(\"expression must be an Iter\")\n",
    "    result = 0 \n",
    "    operation = add # First operation is to add the first number to 0\n",
    "    while atom := next(expression, None):\n",
    "        if atom == \")\":\n",
    "            break \n",
    "\n",
    "        if atom == \"+\":\n",
    "            operation = add \n",
    "        elif atom == \"*\":\n",
    "            operation = mul \n",
    "        elif atom == \"(\":\n",
    "            result = operation(result, evaluate(expression))\n",
    "        else: \n",
    "            result = operation(result, int(atom))\n",
    "            \n",
    "    return result\n",
    "\n",
    "assert evaluate(iter(\"2*3+(4*5)\")) == 26\n",
    "assert evaluate(iter(\"((2+4*9)*(6+9*8+6)+6)+2+4*2\")) == 13632"
   ]
  },
  {
   "cell_type": "code",
   "execution_count": 35,
   "id": "understood-intersection",
   "metadata": {},
   "outputs": [],
   "source": [
    "iterator_expressions = [iter(expression) for expression in expressions]"
   ]
  },
  {
   "cell_type": "code",
   "execution_count": 36,
   "id": "figured-porcelain",
   "metadata": {},
   "outputs": [
    {
     "data": {
      "text/plain": [
       "8929569623593"
      ]
     },
     "execution_count": 36,
     "metadata": {},
     "output_type": "execute_result"
    }
   ],
   "source": [
    "sum(evaluate(iterator_expression) for iterator_expression in iterator_expressions)"
   ]
  },
  {
   "cell_type": "markdown",
   "id": "roman-addiction",
   "metadata": {},
   "source": [
    "**Part 1, Norvig:** Avoid using an iterator. Notice we need a way to recurse and evaluate a parenthetical section, but then have the parent continue executing *after* the parenthetical section. Okay, I couldn't figure out a nice way to do this, so I looked at Norvig's solution, which is perfect. "
   ]
  },
  {
   "cell_type": "code",
   "execution_count": 56,
   "id": "twelve-instruction",
   "metadata": {},
   "outputs": [
    {
     "data": {
      "text/plain": [
       "(5, '+', 3, '+', (7, '*', 9, '+', 8, '+', 8), '+', 9)"
      ]
     },
     "execution_count": 56,
     "metadata": {},
     "output_type": "execute_result"
    }
   ],
   "source": [
    "# Ugh, again I'm reminded that getting the data in the proper \n",
    "# format is half the battle. Norvig has it in tuples which \n",
    "# treates parenthetical expressions as one expression. This \n",
    "# way his solution also deals with numbers that are more than \n",
    "# one digit. \n",
    "\n",
    "def parse_expression(line: str) -> tuple:\n",
    "    \"\"\"Parse each expression into a tuple where each element \n",
    "    is a valid atom or expression. \n",
    "    \"1 + 2 * (3 * 4)\" -> (1, \"+\", (3, \"*\", 4))\n",
    "    \"\"\"\n",
    "    # Convert all +, * to '+', '*'\n",
    "    # \\1 copies the string we matched\n",
    "    line_string_operators = re.sub(\"([+*])\", r\", '\\1', \", line)\n",
    "    # Convert into a tuple by evaluating the string\n",
    "    return ast.literal_eval(line_string_operators)\n",
    "\n",
    "assert parse_expression(\"123 + 9\") == (123, \"+\", 9)\n",
    "assert parse_expression(\"123 + 9 * (1 * 3 + 4)\") == (123, \"+\", 9, \"*\", (1, \"*\", 3, \"+\", 4))\n",
    "\n",
    "ops = {\"+\": add, \"*\": mul}\n",
    "\n",
    "expressions = data(18, parser=parse_expression)\n",
    "expressions[0]"
   ]
  },
  {
   "cell_type": "code",
   "execution_count": 59,
   "id": "bizarre-estimate",
   "metadata": {},
   "outputs": [],
   "source": [
    "def evaluate(expression: Union[int, tuple]) -> int: \n",
    "    \"\"\"Evaluate the expression one operation at a time, giving all \n",
    "    operators the same precedence. \n",
    "    \"\"\"\n",
    "    if isinstance(expression, int):\n",
    "        return expression \n",
    "    else: \n",
    "        a, op, b, *rest = expression\n",
    "        result = ops[op]( evaluate(a), evaluate(b) )\n",
    "        return evaluate((result, *rest)) if rest else result"
   ]
  },
  {
   "cell_type": "code",
   "execution_count": 60,
   "id": "boring-compensation",
   "metadata": {},
   "outputs": [
    {
     "data": {
      "text/plain": [
       "8929569623593"
      ]
     },
     "execution_count": 60,
     "metadata": {},
     "output_type": "execute_result"
    }
   ],
   "source": [
    "sum(evaluate(expression) for expression in expressions)"
   ]
  },
  {
   "cell_type": "markdown",
   "id": "governing-bulletin",
   "metadata": {},
   "source": [
    "**Part 2:** Now addition has higher precedence than multiplication. Find the sum of all the expressions. \n",
    "\n",
    "I can't even think of a way to do this with my iterator solution because to do it in one pass, I need to peek ahead to see if the next operation would have higher preference. It's easy enough to do with Norvig's parsed data though. "
   ]
  },
  {
   "cell_type": "code",
   "execution_count": 63,
   "id": "approved-loading",
   "metadata": {},
   "outputs": [],
   "source": [
    "def evaluate(expression: Union[int, tuple]) -> int:\n",
    "    \"\"\"Evaluate the expression one operation at a time, with + \n",
    "    having higher precedence than *. We can satisfy this \n",
    "    requirement by peeking at the next operation: \n",
    "        a op1 b op2 *rest \n",
    "    if op2 is higher precedence, evaluate b op2 *rest first. \n",
    "    \"\"\"\n",
    "    if isinstance(expression, int):\n",
    "        return expression\n",
    "    else: \n",
    "        a, op, b, *rest = expression \n",
    "        if rest: \n",
    "            # Get next operator and operand\n",
    "            next_op, c, *rest = rest\n",
    "            if next_op == \"+\" and op == \"*\":\n",
    "                # Do next operation first \n",
    "                result = ops[next_op]( evaluate(b), evaluate(c) )\n",
    "                return evaluate((a, op, result, *rest))\n",
    "            else: \n",
    "                # Continue left-to-right \n",
    "                result = ops[op]( evaluate(a), evaluate(b) )\n",
    "                return evaluate((result, next_op, c, *rest))\n",
    "        else: \n",
    "            return ops[op]( evaluate(a), evaluate(b) )\n",
    "        \n",
    "assert evaluate((2, \"*\", 3, \"+\", (4, \"*\", 5))) == 46"
   ]
  },
  {
   "cell_type": "code",
   "execution_count": 64,
   "id": "fourth-small",
   "metadata": {},
   "outputs": [
    {
     "data": {
      "text/plain": [
       "231235959382961"
      ]
     },
     "execution_count": 64,
     "metadata": {},
     "output_type": "execute_result"
    }
   ],
   "source": [
    "sum(evaluate(expression) for expression in expressions)"
   ]
  },
  {
   "cell_type": "markdown",
   "id": "accessible-noise",
   "metadata": {},
   "source": [
    "**Part 2, Norvig:** This solution is much shorter than mine, but I'm not sure I like it better. Going left-to-right is intuitive for me. "
   ]
  },
  {
   "cell_type": "code",
   "execution_count": 67,
   "id": "secret-biotechnology",
   "metadata": {},
   "outputs": [],
   "source": [
    "def evaluate(expression: Union[int, tuple]) -> int:\n",
    "    if isinstance(expression, int):\n",
    "        return expression\n",
    "    elif \"*\" in expression: \n",
    "        # Evaluate this after everything else \n",
    "        pos = expression.index(\"*\")\n",
    "        return evaluate(expression[:pos]) * evaluate(expression[pos + 1:])\n",
    "    else: \n",
    "        # It's just sums left \n",
    "        return sum(evaluate(atom) for atom in expression if atom != \"+\")\n",
    "        \n",
    "assert evaluate((2, \"*\", 3, \"+\", (4, \"*\", 5))) == 46"
   ]
  },
  {
   "cell_type": "code",
   "execution_count": 68,
   "id": "korean-mistake",
   "metadata": {},
   "outputs": [
    {
     "data": {
      "text/plain": [
       "231235959382961"
      ]
     },
     "execution_count": 68,
     "metadata": {},
     "output_type": "execute_result"
    }
   ],
   "source": [
    "sum(evaluate(expression) for expression in expressions)"
   ]
  },
  {
   "cell_type": "code",
   "execution_count": null,
   "id": "mental-auckland",
   "metadata": {},
   "outputs": [],
   "source": []
  }
 ],
 "metadata": {
  "kernelspec": {
   "display_name": "Python 3",
   "language": "python",
   "name": "python3"
  },
  "language_info": {
   "codemirror_mode": {
    "name": "ipython",
    "version": 3
   },
   "file_extension": ".py",
   "mimetype": "text/x-python",
   "name": "python",
   "nbconvert_exporter": "python",
   "pygments_lexer": "ipython3",
   "version": "3.9.1"
  }
 },
 "nbformat": 4,
 "nbformat_minor": 5
}
