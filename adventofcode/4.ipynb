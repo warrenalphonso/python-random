{
 "cells": [
  {
   "cell_type": "code",
   "execution_count": 1,
   "id": "violent-doctor",
   "metadata": {},
   "outputs": [],
   "source": [
    "import re\n",
    "from helpers import data"
   ]
  },
  {
   "cell_type": "code",
   "execution_count": 2,
   "id": "wicked-faculty",
   "metadata": {},
   "outputs": [],
   "source": [
    "def parse(block):\n",
    "    # Convert \\n to spaces within block \n",
    "    passport = block.replace(\"\\n\", \" \").split()\n",
    "    return {s[:3]: s[4:] for s in passport}"
   ]
  },
  {
   "cell_type": "code",
   "execution_count": 3,
   "id": "cognitive-craft",
   "metadata": {},
   "outputs": [
    {
     "data": {
      "text/plain": [
       "{'byr': '1971',\n",
       " 'ecl': 'hzl',\n",
       " 'pid': '112040163',\n",
       " 'eyr': '2023',\n",
       " 'iyr': '2019',\n",
       " 'hcl': '#b6652a',\n",
       " 'hgt': '167cm'}"
      ]
     },
     "execution_count": 3,
     "metadata": {},
     "output_type": "execute_result"
    }
   ],
   "source": [
    "passports = data(4, parser=parse, sep=\"\\n\\n\")\n",
    "passports[0]"
   ]
  },
  {
   "cell_type": "markdown",
   "id": "handed-gazette",
   "metadata": {},
   "source": [
    "**Part 1:** Report number of passports with fields byr, iyr, eyr, hgt, hcl, ecl, pid (don't care about cid). "
   ]
  },
  {
   "cell_type": "code",
   "execution_count": 4,
   "id": "spare-numbers",
   "metadata": {},
   "outputs": [],
   "source": [
    "required = { \"byr\", \"iyr\", \"eyr\", \"hgt\", \"hcl\", \"ecl\", \"pid\" }"
   ]
  },
  {
   "cell_type": "code",
   "execution_count": 5,
   "id": "stupid-journey",
   "metadata": {},
   "outputs": [
    {
     "data": {
      "text/plain": [
       "192"
      ]
     },
     "execution_count": 5,
     "metadata": {},
     "output_type": "execute_result"
    }
   ],
   "source": [
    "# Attempt 1 \n",
    "valid = 0 \n",
    "for passport in passports:\n",
    "    fields = set(passport.keys())\n",
    "    valid += required.issubset(fields)\n",
    "\n",
    "valid"
   ]
  },
  {
   "cell_type": "code",
   "execution_count": 6,
   "id": "satellite-zoning",
   "metadata": {},
   "outputs": [
    {
     "data": {
      "text/plain": [
       "192"
      ]
     },
     "execution_count": 6,
     "metadata": {},
     "output_type": "execute_result"
    }
   ],
   "source": [
    "# Attempt 2: Nevermind, way less readable\n",
    "valid = 0 \n",
    "for passport in passports: \n",
    "    fields = set(passport.keys())\n",
    "    valid += fields | required == fields \n",
    "    \n",
    "valid"
   ]
  },
  {
   "cell_type": "code",
   "execution_count": 7,
   "id": "located-incident",
   "metadata": {},
   "outputs": [
    {
     "data": {
      "text/plain": [
       "192"
      ]
     },
     "execution_count": 7,
     "metadata": {},
     "output_type": "execute_result"
    }
   ],
   "source": [
    "# Norvig \n",
    "def parse_passport(passport: str) -> dict: \n",
    "    \"\"\"Make a dict with all key: value entries in passport.\"\"\"\n",
    "    return dict(re.findall(r\"([a-z]+):([^\\s]+)\", passport))\n",
    "\n",
    "passports = data(4, parser=parse_passport, sep=\"\\n\\n\")\n",
    "sum(required.issubset(passport) for passport in passports)"
   ]
  },
  {
   "cell_type": "markdown",
   "id": "satellite-petroleum",
   "metadata": {},
   "source": [
    "**Part 2:** Validate field values now. "
   ]
  },
  {
   "cell_type": "code",
   "execution_count": 8,
   "id": "respected-possibility",
   "metadata": {},
   "outputs": [],
   "source": [
    "in_between = lambda a, b: lambda x: a <= int(x) <= b\n",
    "\n",
    "def in_between(a: int, b: int): \n",
    "    \"\"\"HOF to check if x is in (a,b).\"\"\"\n",
    "    def x_between(x: str) -> bool:\n",
    "        return a <= int(x) <= b\n",
    "    return x_between\n",
    "\n",
    "def hgt(s: str) -> bool:\n",
    "    if s[-2:] == \"cm\": \n",
    "        return in_between(150, 193)(s[:-2])\n",
    "    elif s[-2:] == \"in\":\n",
    "        return in_between(59, 76)(s[:-2])\n",
    "    else: \n",
    "        return False\n",
    "        \n",
    "def hcl(s: str) -> bool:\n",
    "    if s[0] != \"#\": \n",
    "        return False \n",
    "    if re.fullmatch(\"[0-9a-f]{6}$\", s[1:]):\n",
    "        return True \n",
    "    return False \n",
    "\n",
    "\n",
    "checks = {\n",
    "    \"byr\": in_between(1920, 2002), \n",
    "    \"iyr\": in_between(2010, 2020), \n",
    "    \"eyr\": in_between(2020, 2030), \n",
    "    \"hgt\": hgt, \n",
    "    \"hcl\": hcl, \n",
    "    \"ecl\": lambda s: s in {\"amb\", \"blu\", \"brn\", \"gry\", \"grn\", \"hzl\", \"oth\"}, \n",
    "    \"pid\": lambda s: re.fullmatch(\"[0-9]{9}#\", s)\n",
    "}\n",
    "\n",
    "# Cleaner method \n",
    "checks = dict(\n",
    "    byr=in_between(1920, 2002), \n",
    "    iyr=in_between(2010, 2020), \n",
    "    eyr=in_between(2020, 2030), \n",
    "    hgt=hgt, \n",
    "    hcl=hcl, \n",
    "    ecl=lambda s: s in {\"amb\", \"blu\", \"brn\", \"gry\", \"grn\", \"hzl\", \"oth\"}, \n",
    "    pid=lambda s: re.fullmatch(\"[0-9]{9}$\", s)\n",
    ")"
   ]
  },
  {
   "cell_type": "code",
   "execution_count": 9,
   "id": "increasing-cooler",
   "metadata": {},
   "outputs": [
    {
     "data": {
      "text/plain": [
       "101"
      ]
     },
     "execution_count": 9,
     "metadata": {},
     "output_type": "execute_result"
    }
   ],
   "source": [
    "# Attempt 1\n",
    "valid = 0 \n",
    "for passport in passports:\n",
    "    fields = set(passport.keys())\n",
    "    # Fields should have all required \n",
    "    if not required.issubset(fields):\n",
    "        continue \n",
    "    for field, func in checks.items():\n",
    "        if not func(passport[field]):\n",
    "            break \n",
    "    else:\n",
    "        valid += 1\n",
    "\n",
    "valid"
   ]
  },
  {
   "cell_type": "code",
   "execution_count": 10,
   "id": "maritime-entrepreneur",
   "metadata": {},
   "outputs": [
    {
     "data": {
      "text/plain": [
       "101"
      ]
     },
     "execution_count": 10,
     "metadata": {},
     "output_type": "execute_result"
    }
   ],
   "source": [
    "# Norvig \n",
    "valid_passports = (all(field in passport \n",
    "                    and checks[field](passport[field])\n",
    "                    for field in required\n",
    "                   ) for passport in passports)\n",
    "sum(valid_passports)"
   ]
  },
  {
   "cell_type": "code",
   "execution_count": null,
   "id": "sitting-highlight",
   "metadata": {},
   "outputs": [],
   "source": []
  }
 ],
 "metadata": {
  "kernelspec": {
   "display_name": "Python 3",
   "language": "python",
   "name": "python3"
  },
  "language_info": {
   "codemirror_mode": {
    "name": "ipython",
    "version": 3
   },
   "file_extension": ".py",
   "mimetype": "text/x-python",
   "name": "python",
   "nbconvert_exporter": "python",
   "pygments_lexer": "ipython3",
   "version": "3.9.1"
  }
 },
 "nbformat": 4,
 "nbformat_minor": 5
}
