{
 "cells": [
  {
   "cell_type": "code",
   "execution_count": 108,
   "id": "available-rocket",
   "metadata": {},
   "outputs": [],
   "source": [
    "from collections     import defaultdict, Counter\n",
    "from collections.abc import Mapping\n",
    "from itertools       import product\n",
    "from operator        import add\n",
    "from typing          import Generator, List\n",
    "from helpers         import data"
   ]
  },
  {
   "cell_type": "code",
   "execution_count": 75,
   "id": "excess-suspect",
   "metadata": {},
   "outputs": [
    {
     "data": {
      "text/plain": [
       "['#.#####.',\n",
       " '#..##...',\n",
       " '.##..#..',\n",
       " '#.##.###',\n",
       " '.#.#.#..',\n",
       " '#.##..#.',\n",
       " '#####..#',\n",
       " '..#.#.##']"
      ]
     },
     "execution_count": 75,
     "metadata": {},
     "output_type": "execute_result"
    }
   ],
   "source": [
    "start = data(17)\n",
    "start"
   ]
  },
  {
   "cell_type": "code",
   "execution_count": 76,
   "id": "original-indianapolis",
   "metadata": {},
   "outputs": [
    {
     "data": {
      "text/plain": [
       "(8, 8)"
      ]
     },
     "execution_count": 76,
     "metadata": {},
     "output_type": "execute_result"
    }
   ],
   "source": [
    "len(start), len(start[0])"
   ]
  },
  {
   "cell_type": "markdown",
   "id": "purple-syria",
   "metadata": {},
   "source": [
    "A **neighbor** is any cube where **any coordinate differs by at most 1**. \n",
    "\n",
    "Active cubes are denoted with \\#, and inactive cubes are denoted with \\. \n",
    "\n",
    "The boot process consists of six cycles. During each cycle: \n",
    "- If a cube is **active** and exactly **2 or 3 neighbors are active**, it stays active. Otherwise it becomes inactive. \n",
    "- If a cube is **inactive** and exactly **3 neighors are active**, it becomes active. Otherwise it stays inactive. "
   ]
  },
  {
   "cell_type": "markdown",
   "id": "vulnerable-garage",
   "metadata": {},
   "source": [
    "**Part 1:** How many cubes are left in the active state after the sixth cycle?"
   ]
  },
  {
   "cell_type": "markdown",
   "id": "female-cornwall",
   "metadata": {},
   "source": [
    "**IGNORE THIS!** Scroll down to see an actual working solution. "
   ]
  },
  {
   "cell_type": "code",
   "execution_count": 77,
   "id": "isolated-empty",
   "metadata": {},
   "outputs": [],
   "source": [
    "def nested_get(d, *keys):\n",
    "    if isinstance(d, Mapping):\n",
    "        first, *rest = keys\n",
    "        return nested_get(d[first], *rest)\n",
    "    return d"
   ]
  },
  {
   "cell_type": "code",
   "execution_count": 78,
   "id": "married-discretion",
   "metadata": {},
   "outputs": [],
   "source": [
    "class MutableBool:\n",
    "    def __init__(self, val=False):\n",
    "        self.val = val \n",
    "        self.next = False\n",
    "        \n",
    "    def __bool__(self):\n",
    "        return self.val\n",
    "    \n",
    "    def __repr__(self):\n",
    "        return str(self.val)\n",
    "    \n",
    "    def update(self):\n",
    "        self.val, self.next = self.next, False"
   ]
  },
  {
   "cell_type": "code",
   "execution_count": 79,
   "id": "dated-dictionary",
   "metadata": {},
   "outputs": [],
   "source": [
    "# At each time step, update each entry based on the rule and its neighbors \n",
    "class NGrid(dict):\n",
    "    \"\"\"NGrid will choose default values for missing keys and is nested n deep.\"\"\"\n",
    "\n",
    "    # Tracks minimum and maximum range for each level \n",
    "    ranges: dict[int, List[int]] = {}\n",
    "\n",
    "    def __init__(self, n):\n",
    "        self.n = n\n",
    "        self.ranges[self.n] = [0, 0] # Will always be overridden \n",
    "        \n",
    "    def __missing__(self, key): \n",
    "        if self.n == 1:\n",
    "            val = MutableBool()\n",
    "        else: \n",
    "            val = NGrid(self.n - 1)\n",
    "        self[key] = val\n",
    "            \n",
    "        # Update minimum or maximum \n",
    "        if self.ranges[self.n][0] > key:\n",
    "            self.ranges[self.n][0] = key\n",
    "        if self.ranges[self.n][1] <= key: \n",
    "            self.ranges[self.n][1] = key + 1\n",
    "        \n",
    "        return val\n",
    "            \n",
    "    def life(self, steps): \n",
    "        \"\"\"Simulate steps iterations of Conway's Game of Life.\"\"\"\n",
    "        for i in range(steps): \n",
    "            self.step()\n",
    "    \n",
    "    def step(self):\n",
    "        \"\"\"Simulate one iteration of Conway's Game of Life.\"\"\"\n",
    "        periods = list(map(lambda r: (r[0] - 1, r[1] + 1), self.ranges.values()))\n",
    "        for coords in product(*[range(*period) for period in periods]):\n",
    "            neighbors_on = sum(map(bool, self.neighbors(*coords)))\n",
    "            if neighbors_on == 3: \n",
    "                nested_get(self, *coords).next = True \n",
    "            elif neighbors_on == 2 and not nested_get(self, *coords):\n",
    "                nested_get(self, *coords).next = True \n",
    "            else: \n",
    "                nested_get(self, *coords).next = False \n",
    "        \n",
    "        for coords in product(*[range(*period) for period in periods]):\n",
    "            nested_get(self, *coords).update()\n",
    "    \n",
    "    def neighbors(self, *args, center=True) -> Generator[bool, None, None]:\n",
    "        \"\"\"Yield neighbors of coordinate at self[args[0]][args[1]][...]\n",
    "        \n",
    "        `center` tracks whether we've offset at least once during recursion. We \n",
    "        need to know this so we can ensure we never print out the element whose \n",
    "        neighbors we're searching for. \n",
    "        \"\"\"\n",
    "        if len(args) != self.n: \n",
    "            raise ValueError(f\"Expected {self.n} integer coordinates, got {len(args)}.\")\n",
    "        if any(type(arg) != int for arg in args):\n",
    "            raise ValueError(\"Expected integer coordinates.\")\n",
    "            \n",
    "        first, *rest = args\n",
    "        if self.n == 1:\n",
    "            yield self[first - 1]\n",
    "            yield self[first + 1]\n",
    "            if not center:\n",
    "                yield self[first]\n",
    "        else: \n",
    "            yield from self[first - 1].neighbors(*rest, center=False)\n",
    "            yield from self[first].neighbors(*rest, center=center)\n",
    "            yield from self[first + 1].neighbors(*rest, center=False)"
   ]
  },
  {
   "cell_type": "code",
   "execution_count": 80,
   "id": "artistic-arrow",
   "metadata": {},
   "outputs": [],
   "source": [
    "g = NGrid(3)"
   ]
  },
  {
   "cell_type": "code",
   "execution_count": 67,
   "id": "frozen-nursing",
   "metadata": {},
   "outputs": [],
   "source": [
    "for y, l in enumerate(start): \n",
    "    for x, c in enumerate(l):\n",
    "        if c == \"#\":\n",
    "            g[0][y][x] = MutableBool(True)"
   ]
  },
  {
   "cell_type": "code",
   "execution_count": 68,
   "id": "electrical-lambda",
   "metadata": {},
   "outputs": [],
   "source": [
    "g.life(6)"
   ]
  },
  {
   "cell_type": "code",
   "execution_count": 39,
   "id": "featured-chapter",
   "metadata": {},
   "outputs": [],
   "source": [
    "def count(d): \n",
    "    if isinstance(d, Mapping):\n",
    "        return sum(count(v) for k, v in d.items())\n",
    "    else:\n",
    "        if bool(d):\n",
    "            return 1\n",
    "        return 0"
   ]
  },
  {
   "cell_type": "code",
   "execution_count": 40,
   "id": "completed-invalid",
   "metadata": {},
   "outputs": [
    {
     "data": {
      "text/plain": [
       "16"
      ]
     },
     "execution_count": 40,
     "metadata": {},
     "output_type": "execute_result"
    }
   ],
   "source": [
    "count(g)"
   ]
  },
  {
   "cell_type": "markdown",
   "id": "crucial-communist",
   "metadata": {},
   "source": [
    "My code is getting too complex and is wrong. I peeked at Norvig's solution and I see he's using `set`s, so I'll try starting with that and see where it goes. "
   ]
  },
  {
   "cell_type": "code",
   "execution_count": 106,
   "id": "chicken-ordinance",
   "metadata": {},
   "outputs": [],
   "source": [
    "Cube = tuple\n",
    "\n",
    "def parse_image(image: List[str], active=\"#\", d=3) -> set[Cube]:\n",
    "    \"\"\"Parse image as a starting point for d-dimensional Conway game.\"\"\"\n",
    "    return {(x, y, *(0,) * (d-2)) \n",
    "             for y in range(len(image))\n",
    "             for x, c in enumerate(image[y]) \n",
    "             if c == active}"
   ]
  },
  {
   "cell_type": "code",
   "execution_count": 115,
   "id": "cardiac-stockholm",
   "metadata": {},
   "outputs": [],
   "source": [
    "def simulate(cubes: set[Cube]) -> set[Cube]:\n",
    "    \"\"\"Simulate a time step according to set rules.\n",
    "    TODO: Rules should be changeable!\n",
    "    \"\"\"\n",
    "    n_neighbors = count_neighbors(cubes)\n",
    "    return {neighbor \n",
    "            for neighbor, n in n_neighbors.items()\n",
    "            if n == 3 \n",
    "            or n == 2 and neighbor in cubes}\n",
    "\n",
    "\n",
    "def offsets(d: int) -> Generator[tuple, None, None]:\n",
    "    \"\"\"Generate offsets to apply to each cell.\"\"\"\n",
    "    # I had to peek at Norvig's code again because I remembered he did something \n",
    "    # similar, and I was having a bug. The problem was I forgot to exclude the \n",
    "    # (0, 0, 0) offset via any. \n",
    "    yield from filter(any, product((-1, 0, 1), repeat=d))\n",
    "\n",
    "def count_neighbors(cubes: set[Cube]) -> dict[Cube, int]:\n",
    "    \"\"\"Generate mapping from Cube to number of neighbors.\"\"\"       \n",
    "    n_neighbors = defaultdict(int)\n",
    "    for cube in cubes: \n",
    "        # Add each active cube's neighbors \n",
    "        for offset in offsets(len(cube)):\n",
    "            neighbor = tuple( map(add, cube, offset) ) # Add elements of tuple \n",
    "            n_neighbors[neighbor] += 1\n",
    "    return n_neighbors"
   ]
  },
  {
   "cell_type": "code",
   "execution_count": 116,
   "id": "coupled-pioneer",
   "metadata": {},
   "outputs": [],
   "source": [
    "def life(cubes: set[Cube], steps: int) -> set[Cube]:\n",
    "    \"\"\"Simulate for `steps` iterations.\"\"\"\n",
    "    for step in range(steps): \n",
    "        cubes = simulate(cubes)\n",
    "    return cubes\n",
    "\n",
    "def count_active(cubes: set[Cube]) -> int: \n",
    "    return len(cubes)"
   ]
  },
  {
   "cell_type": "code",
   "execution_count": 117,
   "id": "entire-crawford",
   "metadata": {},
   "outputs": [
    {
     "data": {
      "text/plain": [
       "353"
      ]
     },
     "execution_count": 117,
     "metadata": {},
     "output_type": "execute_result"
    }
   ],
   "source": [
    "# Active cubes\n",
    "cubes = parse_image(start)\n",
    "assert (0, 0, 0) in cubes\n",
    "\n",
    "count_active(life(cubes, steps=6))"
   ]
  },
  {
   "cell_type": "markdown",
   "id": "domestic-emission",
   "metadata": {},
   "source": [
    "**Part 2:** Simulate 6 steps in a 4D space. "
   ]
  },
  {
   "cell_type": "code",
   "execution_count": 118,
   "id": "running-expression",
   "metadata": {},
   "outputs": [
    {
     "data": {
      "text/plain": [
       "2472"
      ]
     },
     "execution_count": 118,
     "metadata": {},
     "output_type": "execute_result"
    }
   ],
   "source": [
    "cubes = parse_image(start, d=4)\n",
    "\n",
    "count_active(life(cubes, steps=6))"
   ]
  },
  {
   "cell_type": "markdown",
   "id": "suspected-sweet",
   "metadata": {},
   "source": [
    "**Norvig:** The biggest thing I'm taking away is that there's always a simpler way to set up a problem... I'm also surprised at how well he knows `itertools`. Another small trick is to use `Counter` instead of a `defaultdict` that I increment."
   ]
  },
  {
   "cell_type": "code",
   "execution_count": 113,
   "id": "incorporated-device",
   "metadata": {},
   "outputs": [],
   "source": [
    "def count_neighbors(cubes: set[Cube]) -> dict[Cube, int]:\n",
    "    \"\"\"Generate mapping from Cube to number of neighbors.\"\"\"       \n",
    "    return Counter(tuple( map(add, cube, offset) )\n",
    "                   for cube in cubes\n",
    "                   for offset in offsets(len(cube)))"
   ]
  },
  {
   "cell_type": "code",
   "execution_count": null,
   "id": "paperback-drunk",
   "metadata": {},
   "outputs": [],
   "source": []
  }
 ],
 "metadata": {
  "kernelspec": {
   "display_name": "Python 3",
   "language": "python",
   "name": "python3"
  },
  "language_info": {
   "codemirror_mode": {
    "name": "ipython",
    "version": 3
   },
   "file_extension": ".py",
   "mimetype": "text/x-python",
   "name": "python",
   "nbconvert_exporter": "python",
   "pygments_lexer": "ipython3",
   "version": "3.9.1"
  }
 },
 "nbformat": 4,
 "nbformat_minor": 5
}
