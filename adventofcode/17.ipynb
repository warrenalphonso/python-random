{
 "cells": [
  {
   "cell_type": "code",
   "execution_count": 1,
   "id": "available-rocket",
   "metadata": {},
   "outputs": [],
   "source": [
    "from collections     import  Counter\n",
    "from itertools       import product\n",
    "from typing          import List, Generator\n",
    "from helpers         import data"
   ]
  },
  {
   "cell_type": "code",
   "execution_count": 2,
   "id": "excess-suspect",
   "metadata": {},
   "outputs": [
    {
     "data": {
      "text/plain": [
       "['#.#####.',\n",
       " '#..##...',\n",
       " '.##..#..',\n",
       " '#.##.###',\n",
       " '.#.#.#..',\n",
       " '#.##..#.',\n",
       " '#####..#',\n",
       " '..#.#.##']"
      ]
     },
     "execution_count": 2,
     "metadata": {},
     "output_type": "execute_result"
    }
   ],
   "source": [
    "start = data(17)\n",
    "start"
   ]
  },
  {
   "cell_type": "code",
   "execution_count": 3,
   "id": "original-indianapolis",
   "metadata": {},
   "outputs": [
    {
     "data": {
      "text/plain": [
       "(8, 8)"
      ]
     },
     "execution_count": 3,
     "metadata": {},
     "output_type": "execute_result"
    }
   ],
   "source": [
    "len(start), len(start[0])"
   ]
  },
  {
   "cell_type": "markdown",
   "id": "purple-syria",
   "metadata": {},
   "source": [
    "A **neighbor** is any cube where **any coordinate differs by at most 1**. \n",
    "\n",
    "Active cubes are denoted with \\#, and inactive cubes are denoted with \\. \n",
    "\n",
    "The boot process consists of six cycles. During each cycle: \n",
    "- If a cube is **active** and exactly **2 or 3 neighbors are active**, it stays active. Otherwise it becomes inactive. \n",
    "- If a cube is **inactive** and exactly **3 neighors are active**, it becomes active. Otherwise it stays inactive. "
   ]
  },
  {
   "cell_type": "markdown",
   "id": "vulnerable-garage",
   "metadata": {},
   "source": [
    "**Part 1:** How many cubes are left in the active state after the sixth cycle?"
   ]
  },
  {
   "cell_type": "code",
   "execution_count": 4,
   "id": "chicken-ordinance",
   "metadata": {},
   "outputs": [],
   "source": [
    "Cube = tuple\n",
    "\n",
    "def parse_image(image: List[str], active=\"#\", d=3) -> set[Cube]:\n",
    "    \"\"\"Parse image as a starting point for d-dimensional Conway game.\"\"\"\n",
    "    return {(x, y, *(0,) * (d-2)) \n",
    "             for y in range(len(image))\n",
    "             for x, c in enumerate(image[y]) \n",
    "             if c == active}"
   ]
  },
  {
   "cell_type": "code",
   "execution_count": 5,
   "id": "cardiac-stockholm",
   "metadata": {},
   "outputs": [],
   "source": [
    "def simulate(cubes: set[Cube]) -> set[Cube]:\n",
    "    \"\"\"Simulate a time step according to set rules.\n",
    "    TODO: Rules should be changeable!\n",
    "    \"\"\"\n",
    "    n_neighbors = count_neighbors(cubes)\n",
    "    return {neighbor \n",
    "            for neighbor, n in n_neighbors.items()\n",
    "            if n == 3 \n",
    "            or n == 2 and neighbor in cubes}\n",
    "\n",
    "def offsets(d: int) -> Generator[tuple, None, None]:\n",
    "    \"\"\"Generate offsets to apply to each cell.\"\"\"\n",
    "    # I had to peek at Norvig's code again because I remembered he did something \n",
    "    # similar, and I was having a bug. The problem was I forgot to exclude the \n",
    "    # (0, 0, 0) offset via any. \n",
    "    yield from filter(any, product((-1, 0, 1), repeat=d))\n",
    "\n",
    "def count_neighbors(cubes: set[Cube]) -> dict[Cube, int]:\n",
    "    \"\"\"Generate mapping from Cube to number of neighbors.\"\"\"       \n",
    "    n_neighbors = Counter()\n",
    "    for cube in cubes: \n",
    "        # Add each active cube's neighbors \n",
    "        for offset in offsets(len(cube)):\n",
    "            neighbor = tuple(cube[i] + offset[i] for i in range(len(cube)))\n",
    "            n_neighbors[neighbor] += 1\n",
    "    return n_neighbors"
   ]
  },
  {
   "cell_type": "code",
   "execution_count": 6,
   "id": "coupled-pioneer",
   "metadata": {},
   "outputs": [],
   "source": [
    "def life(cubes: set[Cube], steps: int) -> set[Cube]:\n",
    "    \"\"\"Simulate for `steps` iterations.\"\"\"\n",
    "    for step in range(steps): \n",
    "        cubes = simulate(cubes)\n",
    "    return cubes\n",
    "\n",
    "def count_active(cubes: set[Cube]) -> int: \n",
    "    return len(cubes)"
   ]
  },
  {
   "cell_type": "code",
   "execution_count": 7,
   "id": "entire-crawford",
   "metadata": {},
   "outputs": [
    {
     "data": {
      "text/plain": [
       "353"
      ]
     },
     "execution_count": 7,
     "metadata": {},
     "output_type": "execute_result"
    }
   ],
   "source": [
    "# Active cubes\n",
    "cubes = parse_image(start)\n",
    "assert (0, 0, 0) in cubes\n",
    "\n",
    "count_active(life(cubes, steps=6))"
   ]
  },
  {
   "cell_type": "markdown",
   "id": "domestic-emission",
   "metadata": {},
   "source": [
    "**Part 2:** Simulate 6 steps in a 4D space. "
   ]
  },
  {
   "cell_type": "code",
   "execution_count": 8,
   "id": "running-expression",
   "metadata": {},
   "outputs": [
    {
     "data": {
      "text/plain": [
       "2472"
      ]
     },
     "execution_count": 8,
     "metadata": {},
     "output_type": "execute_result"
    }
   ],
   "source": [
    "cubes = parse_image(start, d=4)\n",
    "\n",
    "count_active(life(cubes, steps=6))"
   ]
  },
  {
   "cell_type": "markdown",
   "id": "suspected-sweet",
   "metadata": {},
   "source": [
    "**Norvig:** The biggest thing I'm taking away is that there's always a simpler way to set up a problem... I'm also surprised at how well he knows `itertools`. Another small trick is to use `Counter` instead of a `defaultdict` that I increment."
   ]
  },
  {
   "cell_type": "code",
   "execution_count": 9,
   "id": "incorporated-device",
   "metadata": {},
   "outputs": [],
   "source": [
    "def count_neighbors(cubes: set[Cube]) -> dict[Cube, int]:\n",
    "    \"\"\"Generate mapping from Cube to number of neighbors.\"\"\"       \n",
    "    return Counter(tuple( map(add, cube, offset) )\n",
    "                   for cube in cubes\n",
    "                   for offset in offsets(len(cube)))"
   ]
  }
 ],
 "metadata": {
  "kernelspec": {
   "display_name": "Python 3",
   "language": "python",
   "name": "python3"
  },
  "language_info": {
   "codemirror_mode": {
    "name": "ipython",
    "version": 3
   },
   "file_extension": ".py",
   "mimetype": "text/x-python",
   "name": "python",
   "nbconvert_exporter": "python",
   "pygments_lexer": "ipython3",
   "version": "3.9.1"
  }
 },
 "nbformat": 4,
 "nbformat_minor": 5
}
