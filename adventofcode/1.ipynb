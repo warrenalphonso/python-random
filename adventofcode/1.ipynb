{
 "cells": [
  {
   "cell_type": "code",
   "execution_count": 1,
   "id": "objective-elements",
   "metadata": {},
   "outputs": [],
   "source": [
    "from collections import Counter \n",
    "from itertools   import combinations\n",
    "from helpers     import data"
   ]
  },
  {
   "cell_type": "code",
   "execution_count": 2,
   "id": "abroad-navigation",
   "metadata": {},
   "outputs": [
    {
     "data": {
      "text/plain": [
       "[1544, 1560, 1947, 1659, 1972]"
      ]
     },
     "execution_count": 2,
     "metadata": {},
     "output_type": "execute_result"
    }
   ],
   "source": [
    "nums = data(1, int)\n",
    "unique_nums = set(nums)\n",
    "nums[:5]"
   ]
  },
  {
   "cell_type": "code",
   "execution_count": 3,
   "id": "realistic-manitoba",
   "metadata": {},
   "outputs": [
    {
     "data": {
      "text/plain": [
       "200"
      ]
     },
     "execution_count": 3,
     "metadata": {},
     "output_type": "execute_result"
    }
   ],
   "source": [
    "len(nums)"
   ]
  },
  {
   "cell_type": "markdown",
   "id": "stupid-phrase",
   "metadata": {},
   "source": [
    "**Part 1:** Find product of two entries that sum to 2020. "
   ]
  },
  {
   "cell_type": "code",
   "execution_count": 4,
   "id": "convinced-trust",
   "metadata": {},
   "outputs": [
    {
     "name": "stdout",
     "output_type": "stream",
     "text": [
      "926464\n"
     ]
    }
   ],
   "source": [
    "# Attempt 1 \n",
    "for n in nums: \n",
    "    if 2020 - n in unique_nums and n != 2020 - n:\n",
    "        print(n * (2020 - n))\n",
    "        break"
   ]
  },
  {
   "cell_type": "code",
   "execution_count": 5,
   "id": "satisfied-court",
   "metadata": {},
   "outputs": [
    {
     "data": {
      "text/plain": [
       "926464"
      ]
     },
     "execution_count": 5,
     "metadata": {},
     "output_type": "execute_result"
    }
   ],
   "source": [
    "# Attempt 2: Norvig \n",
    "next((x * y \n",
    "        for x in unique_nums \n",
    "        for y in unique_nums & {2020 - x} \n",
    "        if x != y), None)"
   ]
  },
  {
   "cell_type": "code",
   "execution_count": 6,
   "id": "dense-needle",
   "metadata": {},
   "outputs": [
    {
     "name": "stdout",
     "output_type": "stream",
     "text": [
      "926464\n"
     ]
    }
   ],
   "source": [
    "# Attempt 3\n",
    "counts = Counter()\n",
    "\n",
    "for n in nums: \n",
    "    counts[n] += 1\n",
    "    \n",
    "for n in unique_nums:\n",
    "    if 2020 - n == n and counts[2020-n] >= 2:\n",
    "        print(n ** 2)\n",
    "        break\n",
    "    elif counts[2020 - n]:\n",
    "        print(n * (2020 - n))\n",
    "        break"
   ]
  },
  {
   "cell_type": "markdown",
   "id": "third-bridge",
   "metadata": {},
   "source": [
    "**Part 2:** Find product of three entries that sum to 2020"
   ]
  },
  {
   "cell_type": "code",
   "execution_count": 7,
   "id": "greater-technique",
   "metadata": {},
   "outputs": [
    {
     "name": "stdout",
     "output_type": "stream",
     "text": [
      "65656536\n",
      "65656536\n",
      "65656536\n",
      "65656536\n",
      "65656536\n",
      "65656536\n"
     ]
    }
   ],
   "source": [
    "# Attempt 1\n",
    "for x in unique_nums:\n",
    "    for y in unique_nums:\n",
    "        for z in unique_nums & {2020 - x - y}:\n",
    "            if x != y != z:\n",
    "                print(x * y * z)\n",
    "                break"
   ]
  },
  {
   "cell_type": "code",
   "execution_count": 8,
   "id": "functioning-banana",
   "metadata": {},
   "outputs": [
    {
     "data": {
      "text/plain": [
       "65656536"
      ]
     },
     "execution_count": 8,
     "metadata": {},
     "output_type": "execute_result"
    }
   ],
   "source": [
    "# Norvig \n",
    "next((x * y * z \n",
    "                 for x, y in combinations(unique_nums, 2)\n",
    "                 for z in unique_nums & {2020 - x - y}\n",
    "                 if x != y != z), None)"
   ]
  },
  {
   "cell_type": "code",
   "execution_count": null,
   "id": "considered-inspiration",
   "metadata": {},
   "outputs": [],
   "source": []
  }
 ],
 "metadata": {
  "kernelspec": {
   "display_name": "Python 3",
   "language": "python",
   "name": "python3"
  },
  "language_info": {
   "codemirror_mode": {
    "name": "ipython",
    "version": 3
   },
   "file_extension": ".py",
   "mimetype": "text/x-python",
   "name": "python",
   "nbconvert_exporter": "python",
   "pygments_lexer": "ipython3",
   "version": "3.9.1"
  }
 },
 "nbformat": 4,
 "nbformat_minor": 5
}
