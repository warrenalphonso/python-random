{
 "cells": [
  {
   "cell_type": "code",
   "execution_count": 1,
   "id": "answering-above",
   "metadata": {},
   "outputs": [],
   "source": [
    "starting = [1,17,0,10,18,11,6]"
   ]
  },
  {
   "cell_type": "markdown",
   "id": "south-rates",
   "metadata": {},
   "source": [
    "**Part 1:** What's the 2020th number in the game? Wow, I straight up couldn't think of a straightforward solution because I kept thinking the difference between last occurence and previous occurence of same variable, and then that affecting the next variable was too much information. Like we cared about 3 difference indices at the same time. I looked at Norvig's solution and it was so simple. "
   ]
  },
  {
   "cell_type": "code",
   "execution_count": 2,
   "id": "broad-cisco",
   "metadata": {},
   "outputs": [
    {
     "data": {
      "text/plain": [
       "595"
      ]
     },
     "execution_count": 2,
     "metadata": {},
     "output_type": "execute_result"
    }
   ],
   "source": [
    "curr = starting[-1]\n",
    "occurences = dict((elem, i) for i, elem in enumerate(starting[:-1]))\n",
    "for i in range(len(starting[:-1]), 2020 - 1):\n",
    "    after = 0 if curr not in occurences else i - occurences[curr]\n",
    "    occurences[curr] = i \n",
    "    curr = after \n",
    "    \n",
    "curr"
   ]
  },
  {
   "cell_type": "markdown",
   "id": "ruled-dining",
   "metadata": {},
   "source": [
    "**Part 2:** What's the 30000000th number? Looks like they're just checking that we don't store all indices. "
   ]
  },
  {
   "cell_type": "code",
   "execution_count": 3,
   "id": "demographic-blair",
   "metadata": {},
   "outputs": [
    {
     "data": {
      "text/plain": [
       "1708310"
      ]
     },
     "execution_count": 3,
     "metadata": {},
     "output_type": "execute_result"
    }
   ],
   "source": [
    "curr = starting[-1]\n",
    "occurences = dict((elem, i) for i, elem in enumerate(starting[:-1]))\n",
    "for i in range(len(starting[:-1]), 30_000_000 - 1):\n",
    "    after = 0 if curr not in occurences else i - occurences[curr]\n",
    "    occurences[curr] = i \n",
    "    curr = after \n",
    "    \n",
    "curr"
   ]
  },
  {
   "cell_type": "code",
   "execution_count": null,
   "id": "overhead-thinking",
   "metadata": {},
   "outputs": [],
   "source": []
  }
 ],
 "metadata": {
  "kernelspec": {
   "display_name": "Python 3",
   "language": "python",
   "name": "python3"
  },
  "language_info": {
   "codemirror_mode": {
    "name": "ipython",
    "version": 3
   },
   "file_extension": ".py",
   "mimetype": "text/x-python",
   "name": "python",
   "nbconvert_exporter": "python",
   "pygments_lexer": "ipython3",
   "version": "3.9.1"
  }
 },
 "nbformat": 4,
 "nbformat_minor": 5
}
