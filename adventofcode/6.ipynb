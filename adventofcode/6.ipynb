{
 "cells": [
  {
   "cell_type": "code",
   "execution_count": 1,
   "id": "pediatric-venue",
   "metadata": {},
   "outputs": [],
   "source": [
    "from helpers import data"
   ]
  },
  {
   "cell_type": "code",
   "execution_count": 2,
   "id": "understanding-middle",
   "metadata": {},
   "outputs": [
    {
     "data": {
      "text/plain": [
       "[['gsvdkufnoawjmhp',\n",
       "  'wvhusojpnikgfadb',\n",
       "  'vshnpfedgwajkou',\n",
       "  'aujodhskfvnpgw',\n",
       "  'okpdnwhsfvjguqa'],\n",
       " ['juedvq', 'vqeduj', 'veqdju', 'eqduvj'],\n",
       " ['cdajbuernxm', 'mnucjearxbd', 'axrmdejuncb', 'jrebucmdxna']]"
      ]
     },
     "execution_count": 2,
     "metadata": {},
     "output_type": "execute_result"
    }
   ],
   "source": [
    "group_responses = data(6, parser=lambda s: s.split(\"\\n\"), sep=\"\\n\\n\")\n",
    "group_responses[:3]"
   ]
  },
  {
   "cell_type": "markdown",
   "id": "julian-religious",
   "metadata": {},
   "source": [
    "**Part 1:** Count the number of questions to which anyone in a group answered yes, then sum those counts. "
   ]
  },
  {
   "cell_type": "code",
   "execution_count": 3,
   "id": "casual-wyoming",
   "metadata": {},
   "outputs": [],
   "source": [
    "def count_yes(group) -> int: \n",
    "    \"\"\"Count the number of questions a group answer yes to.\"\"\"\n",
    "    return len(set(\"\".join(group)))"
   ]
  },
  {
   "cell_type": "code",
   "execution_count": 4,
   "id": "established-involvement",
   "metadata": {},
   "outputs": [
    {
     "data": {
      "text/plain": [
       "6335"
      ]
     },
     "execution_count": 4,
     "metadata": {},
     "output_type": "execute_result"
    }
   ],
   "source": [
    "sum(count_yes(response) for response in group_responses)"
   ]
  },
  {
   "cell_type": "markdown",
   "id": "early-november",
   "metadata": {},
   "source": [
    "Norvig did pretty much the same thing, except he defined a `cat` function for `\"\".join`. "
   ]
  },
  {
   "cell_type": "markdown",
   "id": "looking-queensland",
   "metadata": {},
   "source": [
    "**Part 2:** Count the number of questions to which everyone answered yes,and sum those counts. "
   ]
  },
  {
   "cell_type": "code",
   "execution_count": 5,
   "id": "cleared-mixer",
   "metadata": {},
   "outputs": [],
   "source": [
    "def count_all_yes(group) -> int: \n",
    "    \"\"\"\n",
    "    Count the number of questions *everyone* in a group\n",
    "    answers yes to. \n",
    "    \"\"\"\n",
    "    member_responses = [set(response) for response in group]\n",
    "    unanimous_questions = member_responses[0]\n",
    "    for response in member_responses:\n",
    "        unanimous_questions &= response\n",
    "    return len(unanimous_questions)"
   ]
  },
  {
   "cell_type": "code",
   "execution_count": 6,
   "id": "proud-looking",
   "metadata": {},
   "outputs": [
    {
     "data": {
      "text/plain": [
       "3392"
      ]
     },
     "execution_count": 6,
     "metadata": {},
     "output_type": "execute_result"
    }
   ],
   "source": [
    "sum(count_all_yes(group) for group in group_responses)"
   ]
  },
  {
   "cell_type": "code",
   "execution_count": 7,
   "id": "civilian-carpet",
   "metadata": {},
   "outputs": [
    {
     "data": {
      "text/plain": [
       "3392"
      ]
     },
     "execution_count": 7,
     "metadata": {},
     "output_type": "execute_result"
    }
   ],
   "source": [
    "# Norvig: Gross\n",
    "sum(len(set.intersection(*map(set, group))) for group in group_responses)"
   ]
  },
  {
   "cell_type": "code",
   "execution_count": null,
   "id": "proper-majority",
   "metadata": {},
   "outputs": [],
   "source": []
  }
 ],
 "metadata": {
  "kernelspec": {
   "display_name": "Python 3",
   "language": "python",
   "name": "python3"
  },
  "language_info": {
   "codemirror_mode": {
    "name": "ipython",
    "version": 3
   },
   "file_extension": ".py",
   "mimetype": "text/x-python",
   "name": "python",
   "nbconvert_exporter": "python",
   "pygments_lexer": "ipython3",
   "version": "3.9.1"
  }
 },
 "nbformat": 4,
 "nbformat_minor": 5
}
