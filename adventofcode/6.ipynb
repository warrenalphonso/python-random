{
 "cells": [
  {
   "cell_type": "code",
   "execution_count": 29,
   "id": "pediatric-venue",
   "metadata": {},
   "outputs": [],
   "source": [
    "from functools import reduce\n",
    "from operator  import and_\n",
    "from helpers   import data"
   ]
  },
  {
   "cell_type": "code",
   "execution_count": 8,
   "id": "understanding-middle",
   "metadata": {},
   "outputs": [
    {
     "data": {
      "text/plain": [
       "[['gsvdkufnoawjmhp',\n",
       "  'wvhusojpnikgfadb',\n",
       "  'vshnpfedgwajkou',\n",
       "  'aujodhskfvnpgw',\n",
       "  'okpdnwhsfvjguqa'],\n",
       " ['juedvq', 'vqeduj', 'veqdju', 'eqduvj'],\n",
       " ['cdajbuernxm', 'mnucjearxbd', 'axrmdejuncb', 'jrebucmdxna']]"
      ]
     },
     "execution_count": 8,
     "metadata": {},
     "output_type": "execute_result"
    }
   ],
   "source": [
    "group_responses = data(6, parser=lambda s: s.split(\"\\n\"), sep=\"\\n\\n\")\n",
    "group_responses[:3]"
   ]
  },
  {
   "cell_type": "markdown",
   "id": "julian-religious",
   "metadata": {},
   "source": [
    "**Part 1:** Count the number of questions to which anyone in a group answered yes, then sum those counts. "
   ]
  },
  {
   "cell_type": "code",
   "execution_count": 14,
   "id": "casual-wyoming",
   "metadata": {},
   "outputs": [],
   "source": [
    "def count_yes(group) -> int: \n",
    "    \"\"\"Count the number of questions a group answer yes to.\"\"\"\n",
    "    return len(set(\"\".join(group)))"
   ]
  },
  {
   "cell_type": "code",
   "execution_count": 15,
   "id": "handy-weekly",
   "metadata": {},
   "outputs": [
    {
     "data": {
      "text/plain": [
       "6335"
      ]
     },
     "execution_count": 15,
     "metadata": {},
     "output_type": "execute_result"
    }
   ],
   "source": [
    "def attempt_one():\n",
    "    return sum(map(count_yes, group_responses))\n",
    "attempt_one()"
   ]
  },
  {
   "cell_type": "markdown",
   "id": "early-november",
   "metadata": {},
   "source": [
    "Norvig did pretty much the same thing, except he defined a `cat` function for `\"\".join`. "
   ]
  },
  {
   "cell_type": "markdown",
   "id": "looking-queensland",
   "metadata": {},
   "source": [
    "**Part 2:** Count the number of questions to which everyone answered yes,and sum those counts. "
   ]
  },
  {
   "cell_type": "code",
   "execution_count": 39,
   "id": "cleared-mixer",
   "metadata": {},
   "outputs": [],
   "source": [
    "def count_all_yes(group) -> int: \n",
    "    \"\"\"\n",
    "    Count the number of questions *everyone* in a group\n",
    "    answers yes to. \n",
    "    \"\"\"\n",
    "    member_answers_sets = map(set, group)\n",
    "    intersection = and_\n",
    "    return len(reduce(intersection, member_answers_sets))"
   ]
  },
  {
   "cell_type": "code",
   "execution_count": 40,
   "id": "skilled-riverside",
   "metadata": {},
   "outputs": [
    {
     "data": {
      "text/plain": [
       "3392"
      ]
     },
     "execution_count": 40,
     "metadata": {},
     "output_type": "execute_result"
    }
   ],
   "source": [
    "def attempt_one(): \n",
    "    return sum(map(count_all_yes, group_responses))\n",
    "attempt_one()"
   ]
  },
  {
   "cell_type": "code",
   "execution_count": 44,
   "id": "civilian-carpet",
   "metadata": {},
   "outputs": [
    {
     "data": {
      "text/plain": [
       "3392"
      ]
     },
     "execution_count": 44,
     "metadata": {},
     "output_type": "execute_result"
    }
   ],
   "source": [
    "# Norvig\n",
    "def attempt_two():\n",
    "    return sum(len(set.intersection(*map(set, group))) \n",
    "                   for group in group_responses)\n",
    "attempt_two()"
   ]
  },
  {
   "cell_type": "code",
   "execution_count": null,
   "id": "proper-majority",
   "metadata": {},
   "outputs": [],
   "source": []
  }
 ],
 "metadata": {
  "kernelspec": {
   "display_name": "Python 3",
   "language": "python",
   "name": "python3"
  },
  "language_info": {
   "codemirror_mode": {
    "name": "ipython",
    "version": 3
   },
   "file_extension": ".py",
   "mimetype": "text/x-python",
   "name": "python",
   "nbconvert_exporter": "python",
   "pygments_lexer": "ipython3",
   "version": "3.9.1"
  }
 },
 "nbformat": 4,
 "nbformat_minor": 5
}
