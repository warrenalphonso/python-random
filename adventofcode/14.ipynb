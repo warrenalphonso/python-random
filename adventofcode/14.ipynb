{
 "cells": [
  {
   "cell_type": "code",
   "execution_count": 1,
   "id": "piano-hours",
   "metadata": {},
   "outputs": [],
   "source": [
    "import re\n",
    "from itertools import combinations\n",
    "from typing    import Union\n",
    "from helpers   import data"
   ]
  },
  {
   "cell_type": "code",
   "execution_count": 2,
   "id": "connected-paradise",
   "metadata": {},
   "outputs": [
    {
     "data": {
      "text/plain": [
       "['111101X010011110100100110100101X0X0X',\n",
       " (37049, 1010356),\n",
       " (5632, 28913),\n",
       " (9384, 7522),\n",
       " '00X1011X11X0000010100X011X10X10X10XX']"
      ]
     },
     "execution_count": 2,
     "metadata": {},
     "output_type": "execute_result"
    }
   ],
   "source": [
    "def get_mask(line) -> str:\n",
    "    \"\"\"\n",
    "    >>> get_mask('mask = 010011101XX1111X100000000000XX10110X')\n",
    "    '010011101XX1111X100000000000XX10110X'\n",
    "    \"\"\"\n",
    "    m = re.match(\"mask = (.*)\", line)\n",
    "    if not m:\n",
    "        raise ValueError(f'Expected line of the form \"mask = ...\", but instead got {line}')\n",
    "    return m.group(1)\n",
    "\n",
    "def get_memory_store(line) -> tuple[int]:\n",
    "    \"\"\"\n",
    "    >>> get_memory_store('mem[6391] = 812')\n",
    "    (6391, 812)\n",
    "    >>> get_memory_store('mem[55972] = 5779')\n",
    "    (55972, 5779)\n",
    "    \"\"\"\n",
    "    m = re.match(\"mem\\[(\\d*)\\] = (\\d*)\", line)\n",
    "    if not m: \n",
    "        raise ValueError(f'Expected line of the form \"mem[address] = value\", but instead got {line}')\n",
    "    return int(m.group(1)), int(m.group(2))\n",
    "\n",
    "instructions = [get_mask(line) if line[:4] == \"mask\"\n",
    "                else get_memory_store(line)\n",
    "                for line in data(14)]\n",
    "\n",
    "instructions[:5]"
   ]
  },
  {
   "cell_type": "code",
   "execution_count": 3,
   "id": "working-watson",
   "metadata": {},
   "outputs": [],
   "source": [
    "def apply_mask(mask: str, n: int) -> int:\n",
    "    \"\"\"\n",
    "    Mask is a string of 0, 1, or X: \n",
    "    - 0: force bit to be 0 \n",
    "    - 1: force bit to be 1 \n",
    "    - X: don't change bit\n",
    "    \n",
    "    >>> apply_mask('XXXXXXXXXXXXXXXXXXXXXXXXXXXXX1XXXX0X', 11)\n",
    "    73\n",
    "    >>> apply_mask('XXXXXXXXXXXXXXXXXXXXXXXXXXXXX1XXXX0X', 101)\n",
    "    101\n",
    "    >>> apply_mask('XXXXXXXXXXXXXXXXXXXXXXXXXXXXX1XXXX0X', 0)\n",
    "    64\n",
    "    \"\"\"\n",
    "    # AND with this to set to 0 \n",
    "    and_mask = 2**len(mask) - 1 # All 1s, then subtract if need to 0 out\n",
    "    # OR with this to set to 1 \n",
    "    or_mask = 0 \n",
    "    \n",
    "    for i, bit in enumerate(reversed(mask)):\n",
    "        if bit == '0':\n",
    "            and_mask -= 2**i \n",
    "        elif bit == '1':\n",
    "            or_mask += 2**i \n",
    "            \n",
    "    return and_mask & n | or_mask "
   ]
  },
  {
   "cell_type": "markdown",
   "id": "later-captain",
   "metadata": {},
   "source": [
    "**Part 1:** Sum of all values in memory after applying bit mask to each one and storing it. (There might be overrides.)"
   ]
  },
  {
   "cell_type": "code",
   "execution_count": 4,
   "id": "elementary-blame",
   "metadata": {},
   "outputs": [
    {
     "data": {
      "text/plain": [
       "8471403462063"
      ]
     },
     "execution_count": 4,
     "metadata": {},
     "output_type": "execute_result"
    }
   ],
   "source": [
    "mask = None \n",
    "memory = {}\n",
    "for inst in instructions: \n",
    "    if isinstance(inst, str):\n",
    "        mask = inst \n",
    "    else: \n",
    "        addr, value = inst \n",
    "        memory[addr] = apply_mask(mask, value)\n",
    "        \n",
    "sum(memory.values())"
   ]
  },
  {
   "cell_type": "markdown",
   "id": "clinical-black",
   "metadata": {},
   "source": [
    "**Part 2:** Now the mask applies to the *memory address* with different rules: 0 is unchanged, 1 overwrites with 1, X is a \"floating\" bit. We write to all memory addresses where the floating bits are any possible bit. For 3 floating bits, that's 2^3 = 8 addresses. Get sum of all values in memory. "
   ]
  },
  {
   "cell_type": "code",
   "execution_count": 5,
   "id": "unusual-factory",
   "metadata": {},
   "outputs": [],
   "source": [
    "def apply_floating_mask(mask: str, addr: int): \n",
    "    \"\"\"\n",
    "    Mask is a string of 0, 1, or X: \n",
    "    - 0: leave bit unchanged \n",
    "    - 1: force bit to be 1 \n",
    "    - X: floating bit \n",
    "    \n",
    "    The floating bits should be all possible values. For n floating bits, \n",
    "    we have 2**n results of applying the mask. \n",
    "    \n",
    "    >>> list(apply_floating_mask('000000000000000000000000000000X1001X', 42))\n",
    "    [26, 27, 58, 59]\n",
    "    >>> list(apply_floating_mask('00000000000000000000000000000000X0XX', 26))\n",
    "    [16, 17, 18, 24, 19, 25, 26, 27]\n",
    "    \"\"\"\n",
    "    # Floating bits (OR with one of these to turn on)\n",
    "    floating = []\n",
    "    # AND with this to set to 0 (set all floating bits to 0 initially, then turn on)\n",
    "    and_mask = 2**len(mask) - 1\n",
    "\n",
    "    # OR with this to set to 1 \n",
    "    or_mask = 0 \n",
    "    \n",
    "    for i, bit in enumerate(reversed(mask)):\n",
    "        if bit == '1':\n",
    "            or_mask += 2**i \n",
    "        elif bit == 'X':\n",
    "            floating.append(2**i)\n",
    "            and_mask -= 2**i \n",
    "            \n",
    "    addr_without_floating = and_mask & addr | or_mask \n",
    "    \n",
    "    for n in range(len(floating) + 1):\n",
    "        for floating_comb in combinations(floating, n):\n",
    "            addr_with_floating = addr_without_floating\n",
    "            for bit in floating_comb: \n",
    "                addr_with_floating |= bit\n",
    "            yield addr_with_floating"
   ]
  },
  {
   "cell_type": "code",
   "execution_count": 6,
   "id": "instructional-ontario",
   "metadata": {},
   "outputs": [
    {
     "data": {
      "text/plain": [
       "2667858637669"
      ]
     },
     "execution_count": 6,
     "metadata": {},
     "output_type": "execute_result"
    }
   ],
   "source": [
    "mask = None \n",
    "memory = {} \n",
    "for inst in instructions: \n",
    "    if isinstance(inst, str):\n",
    "        mask = inst \n",
    "    else: \n",
    "        initial_addr, value = inst \n",
    "        for addr in apply_floating_mask(mask, initial_addr):\n",
    "            memory[addr] = value \n",
    "            \n",
    "sum(memory.values())"
   ]
  },
  {
   "cell_type": "code",
   "execution_count": 7,
   "id": "political-tuning",
   "metadata": {},
   "outputs": [
    {
     "data": {
      "text/plain": [
       "TestResults(failed=0, attempted=8)"
      ]
     },
     "execution_count": 7,
     "metadata": {},
     "output_type": "execute_result"
    }
   ],
   "source": [
    "from doctest import testmod\n",
    "testmod()"
   ]
  },
  {
   "cell_type": "code",
   "execution_count": null,
   "id": "functional-horror",
   "metadata": {},
   "outputs": [],
   "source": []
  }
 ],
 "metadata": {
  "kernelspec": {
   "display_name": "Python 3",
   "language": "python",
   "name": "python3"
  },
  "language_info": {
   "codemirror_mode": {
    "name": "ipython",
    "version": 3
   },
   "file_extension": ".py",
   "mimetype": "text/x-python",
   "name": "python",
   "nbconvert_exporter": "python",
   "pygments_lexer": "ipython3",
   "version": "3.9.1"
  }
 },
 "nbformat": 4,
 "nbformat_minor": 5
}
