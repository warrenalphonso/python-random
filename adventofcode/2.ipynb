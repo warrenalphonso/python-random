{
 "cells": [
  {
   "cell_type": "code",
   "execution_count": 1,
   "id": "material-hughes",
   "metadata": {},
   "outputs": [],
   "source": [
    "from helpers import data"
   ]
  },
  {
   "cell_type": "code",
   "execution_count": 2,
   "id": "color-skating",
   "metadata": {},
   "outputs": [],
   "source": [
    "def parse(s: str) -> tuple[int, int, str, str]:\n",
    "    nums, char, password = s.split()\n",
    "    l, r = map(int, nums.split(\"-\"))\n",
    "    char = char[0]\n",
    "    return (l, r, char, password)"
   ]
  },
  {
   "cell_type": "code",
   "execution_count": 3,
   "id": "oriental-arlington",
   "metadata": {},
   "outputs": [
    {
     "data": {
      "text/plain": [
       "[(6, 7, 'z', 'dqzzzjbzz'),\n",
       " (13, 16, 'j', 'jjjvjmjjkjjjjjjj'),\n",
       " (5, 6, 'm', 'mmbmmlvmbmmgmmf'),\n",
       " (2, 4, 'k', 'pkkl'),\n",
       " (16, 17, 'k', 'kkkkkkkkkkkkkkkqf')]"
      ]
     },
     "execution_count": 3,
     "metadata": {},
     "output_type": "execute_result"
    }
   ],
   "source": [
    "passwords = data(2, parser=parse)\n",
    "passwords[:5]"
   ]
  },
  {
   "cell_type": "markdown",
   "id": "national-acoustic",
   "metadata": {},
   "source": [
    "**Part 1:** First int is minimum number of character appearances, second int is maximum. How many passwords are valid?"
   ]
  },
  {
   "cell_type": "code",
   "execution_count": 4,
   "id": "lyric-landscape",
   "metadata": {},
   "outputs": [
    {
     "data": {
      "text/plain": [
       "542"
      ]
     },
     "execution_count": 4,
     "metadata": {},
     "output_type": "execute_result"
    }
   ],
   "source": [
    "# Attempt 1 \n",
    "valid = 0 \n",
    "for l, r, char, pw in passwords:\n",
    "    count = 0 \n",
    "    for c in pw:\n",
    "        if c == char: \n",
    "            count += 1\n",
    "    valid += l <= count <= r\n",
    "\n",
    "valid"
   ]
  },
  {
   "cell_type": "code",
   "execution_count": 5,
   "id": "forbidden-cambridge",
   "metadata": {},
   "outputs": [
    {
     "data": {
      "text/plain": [
       "542"
      ]
     },
     "execution_count": 5,
     "metadata": {},
     "output_type": "execute_result"
    }
   ],
   "source": [
    "# Attempt 2\n",
    "valid = 0 \n",
    "for l, r, char, pw in passwords:\n",
    "    count = pw.count(char)\n",
    "    valid += l <= count <= r\n",
    "\n",
    "valid"
   ]
  },
  {
   "cell_type": "code",
   "execution_count": 6,
   "id": "rocky-clearing",
   "metadata": {},
   "outputs": [
    {
     "data": {
      "text/plain": [
       "542"
      ]
     },
     "execution_count": 6,
     "metadata": {},
     "output_type": "execute_result"
    }
   ],
   "source": [
    "# Norvig: Pretty much the same as Attempt 2\n",
    "def policy(password) -> bool:\n",
    "    l, r, char, pw = password \n",
    "    return l <= pw.count(char) <= r\n",
    "\n",
    "sum(policy(password) for password in passwords)"
   ]
  },
  {
   "cell_type": "markdown",
   "id": "former-liberal",
   "metadata": {},
   "source": [
    "**Part 2:** Integers are indices (not zero indexed), only one must contain character. "
   ]
  },
  {
   "cell_type": "code",
   "execution_count": 7,
   "id": "discrete-lodging",
   "metadata": {},
   "outputs": [
    {
     "data": {
      "text/plain": [
       "360"
      ]
     },
     "execution_count": 7,
     "metadata": {},
     "output_type": "execute_result"
    }
   ],
   "source": [
    "# Attempt 1 \n",
    "def policy(password) -> bool:\n",
    "    l, r, c, pw = password \n",
    "    if l > len(pw) or r > len(pw):\n",
    "        return False \n",
    "    return (pw[l-1] == c or pw[r-1] == c) and not (pw[l-1] == c and pw[r-1] == c)\n",
    "\n",
    "sum(policy(password) for password in passwords)"
   ]
  },
  {
   "cell_type": "code",
   "execution_count": 8,
   "id": "after-tongue",
   "metadata": {},
   "outputs": [
    {
     "data": {
      "text/plain": [
       "360"
      ]
     },
     "execution_count": 8,
     "metadata": {},
     "output_type": "execute_result"
    }
   ],
   "source": [
    "# Norvig dammit \n",
    "def policy(password):\n",
    "    a, b, c, pw = password \n",
    "    if a > len(pw) or b > len(pw): return False \n",
    "    return (pw[a-1] == c) ^ (pw[b-1] == c) # So clean \n",
    "\n",
    "sum(policy(password) for password in passwords)"
   ]
  }
 ],
 "metadata": {
  "kernelspec": {
   "display_name": "Python 3",
   "language": "python",
   "name": "python3"
  },
  "language_info": {
   "codemirror_mode": {
    "name": "ipython",
    "version": 3
   },
   "file_extension": ".py",
   "mimetype": "text/x-python",
   "name": "python",
   "nbconvert_exporter": "python",
   "pygments_lexer": "ipython3",
   "version": "3.9.1"
  }
 },
 "nbformat": 4,
 "nbformat_minor": 5
}
