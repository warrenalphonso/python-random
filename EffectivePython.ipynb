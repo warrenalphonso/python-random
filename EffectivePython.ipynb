{
 "cells": [
  {
   "cell_type": "code",
   "execution_count": 12,
   "id": "restricted-malta",
   "metadata": {},
   "outputs": [
    {
     "name": "stdout",
     "output_type": "stream",
     "text": [
      "None\n"
     ]
    }
   ],
   "source": [
    "if yo := None:\n",
    "    print(\"H\")\n",
    "else: \n",
    "    print(yo)"
   ]
  },
  {
   "cell_type": "code",
   "execution_count": 64,
   "id": "promising-portland",
   "metadata": {},
   "outputs": [],
   "source": [
    "def yo():\n",
    "    while True: \n",
    "        x = yield \n",
    "        yield x * 2\n",
    "        \n",
    "def ins(it):\n",
    "    x = 1\n",
    "    while True:\n",
    "        x = next(it) or x\n",
    "        yield it.send(x)"
   ]
  },
  {
   "cell_type": "code",
   "execution_count": 65,
   "id": "transparent-pipeline",
   "metadata": {},
   "outputs": [],
   "source": [
    "i = ins(yo())"
   ]
  },
  {
   "cell_type": "code",
   "execution_count": 69,
   "id": "welcome-problem",
   "metadata": {},
   "outputs": [
    {
     "data": {
      "text/plain": [
       "2"
      ]
     },
     "execution_count": 69,
     "metadata": {},
     "output_type": "execute_result"
    }
   ],
   "source": [
    "next(i)"
   ]
  },
  {
   "cell_type": "code",
   "execution_count": 71,
   "id": "lined-passing",
   "metadata": {},
   "outputs": [],
   "source": [
    "class YO:\n",
    "    a = 3"
   ]
  },
  {
   "cell_type": "code",
   "execution_count": 73,
   "id": "conservative-thanks",
   "metadata": {},
   "outputs": [
    {
     "data": {
      "text/plain": [
       "mappingproxy({'__module__': '__main__',\n",
       "              'a': 3,\n",
       "              '__dict__': <attribute '__dict__' of 'YO' objects>,\n",
       "              '__weakref__': <attribute '__weakref__' of 'YO' objects>,\n",
       "              '__doc__': None})"
      ]
     },
     "execution_count": 73,
     "metadata": {},
     "output_type": "execute_result"
    }
   ],
   "source": [
    "YO.__dict__"
   ]
  },
  {
   "cell_type": "code",
   "execution_count": 96,
   "id": "laden-prophet",
   "metadata": {},
   "outputs": [],
   "source": [
    "from collections.abc import Sequence, Container\n",
    "import collections.abc\n",
    "\n",
    "class Foo(Sequence, Container): \n",
    "    def __getitem__(self, key): \n",
    "        return 5 \n",
    "    def __len__(self): \n",
    "        return 1000\n",
    "    def __contains__(self, key): \n",
    "        return key % 2"
   ]
  },
  {
   "cell_type": "code",
   "execution_count": 92,
   "id": "corrected-contact",
   "metadata": {},
   "outputs": [],
   "source": [
    "f = Foo()"
   ]
  },
  {
   "cell_type": "code",
   "execution_count": 94,
   "id": "beginning-drama",
   "metadata": {},
   "outputs": [
    {
     "data": {
      "text/plain": [
       "False"
      ]
     },
     "execution_count": 94,
     "metadata": {},
     "output_type": "execute_result"
    }
   ],
   "source": [
    "2 in f"
   ]
  },
  {
   "cell_type": "code",
   "execution_count": 99,
   "id": "through-federal",
   "metadata": {},
   "outputs": [],
   "source": [
    "class ValidatePolygon(type):\n",
    "    def __new__(meta, name, bases, class_dict):\n",
    "        if bases: \n",
    "            if class_dict['sides'] < 3:\n",
    "                raise ValueError('Polygon needs 3+ sides')\n",
    "        return type.__new__(meta, name, bases, class_dict)"
   ]
  },
  {
   "cell_type": "code",
   "execution_count": 100,
   "id": "internal-combination",
   "metadata": {},
   "outputs": [],
   "source": [
    "class Polygon(metaclass=ValidatePolygon):\n",
    "    sides = None # Must be specified by subclass \n",
    "    \n",
    "    @classmethod \n",
    "    def interior_angles(cls):\n",
    "        return (cls.sides - 2) * 180"
   ]
  },
  {
   "cell_type": "code",
   "execution_count": 101,
   "id": "intimate-health",
   "metadata": {},
   "outputs": [],
   "source": [
    "class Triangle(Polygon):\n",
    "    sides = 3\n",
    "    \n",
    "class Rectangle(Polygon):\n",
    "    sides = 4\n",
    "    \n",
    "class Nonagon(Polygon):\n",
    "    sides = 9"
   ]
  },
  {
   "cell_type": "code",
   "execution_count": 103,
   "id": "about-verse",
   "metadata": {},
   "outputs": [],
   "source": [
    "assert Triangle.interior_angles() == 180\n",
    "assert Rectangle.interior_angles() == 360 \n",
    "assert Nonagon.interior_angles() == 1260"
   ]
  },
  {
   "cell_type": "code",
   "execution_count": 104,
   "id": "advised-meeting",
   "metadata": {},
   "outputs": [],
   "source": [
    "# Simpler method in Python 3.6+ \n",
    "class BetterPolygon:\n",
    "    sides = None \n",
    "    test = None\n",
    "    \n",
    "    def __init_subclass__(cls):\n",
    "        super().__init_subclass__()\n",
    "        if cls.sides < 3:\n",
    "            raise ValueError('Polygon needs 3+ sides'\n",
    "            \n",
    "    @classmethod \n",
    "    def interior_angles(cls):\n",
    "        return (cls.sides - 2) * 180"
   ]
  },
  {
   "cell_type": "code",
   "execution_count": 105,
   "id": "careful-moment",
   "metadata": {},
   "outputs": [],
   "source": [
    "class Hexagon(BetterPolygon):\n",
    "    sides = 6"
   ]
  },
  {
   "cell_type": "code",
   "execution_count": 108,
   "id": "arctic-diving",
   "metadata": {},
   "outputs": [
    {
     "ename": "TypeError",
     "evalue": "'<' not supported between instances of 'NoneType' and 'int'",
     "output_type": "error",
     "traceback": [
      "\u001b[0;31m---------------------------------------------------------------------------\u001b[0m",
      "\u001b[0;31mTypeError\u001b[0m                                 Traceback (most recent call last)",
      "\u001b[0;32m<ipython-input-108-fc0f0933a231>\u001b[0m in \u001b[0;36m<module>\u001b[0;34m\u001b[0m\n\u001b[0;32m----> 1\u001b[0;31m \u001b[0;32mclass\u001b[0m \u001b[0mNotYo\u001b[0m\u001b[0;34m(\u001b[0m\u001b[0mBetterPolygon\u001b[0m\u001b[0;34m)\u001b[0m\u001b[0;34m:\u001b[0m\u001b[0;34m\u001b[0m\u001b[0;34m\u001b[0m\u001b[0m\n\u001b[0m\u001b[1;32m      2\u001b[0m     \u001b[0;32mdef\u001b[0m \u001b[0m__init__\u001b[0m\u001b[0;34m(\u001b[0m\u001b[0mself\u001b[0m\u001b[0;34m)\u001b[0m\u001b[0;34m:\u001b[0m\u001b[0;34m\u001b[0m\u001b[0;34m\u001b[0m\u001b[0m\n\u001b[1;32m      3\u001b[0m         \u001b[0mself\u001b[0m\u001b[0;34m.\u001b[0m\u001b[0msides\u001b[0m \u001b[0;34m=\u001b[0m \u001b[0;36m5\u001b[0m\u001b[0;34m\u001b[0m\u001b[0;34m\u001b[0m\u001b[0m\n",
      "\u001b[0;32m<ipython-input-104-6f6cda6967ae>\u001b[0m in \u001b[0;36m__init_subclass__\u001b[0;34m(cls)\u001b[0m\n\u001b[1;32m      5\u001b[0m     \u001b[0;32mdef\u001b[0m \u001b[0m__init_subclass__\u001b[0m\u001b[0;34m(\u001b[0m\u001b[0mcls\u001b[0m\u001b[0;34m)\u001b[0m\u001b[0;34m:\u001b[0m\u001b[0;34m\u001b[0m\u001b[0;34m\u001b[0m\u001b[0m\n\u001b[1;32m      6\u001b[0m         \u001b[0msuper\u001b[0m\u001b[0;34m(\u001b[0m\u001b[0;34m)\u001b[0m\u001b[0;34m.\u001b[0m\u001b[0m__init_subclass__\u001b[0m\u001b[0;34m(\u001b[0m\u001b[0;34m)\u001b[0m\u001b[0;34m\u001b[0m\u001b[0;34m\u001b[0m\u001b[0m\n\u001b[0;32m----> 7\u001b[0;31m         \u001b[0;32mif\u001b[0m \u001b[0mcls\u001b[0m\u001b[0;34m.\u001b[0m\u001b[0msides\u001b[0m \u001b[0;34m<\u001b[0m \u001b[0;36m3\u001b[0m\u001b[0;34m:\u001b[0m\u001b[0;34m\u001b[0m\u001b[0;34m\u001b[0m\u001b[0m\n\u001b[0m\u001b[1;32m      8\u001b[0m             \u001b[0;32mraise\u001b[0m \u001b[0mValueError\u001b[0m\u001b[0;34m(\u001b[0m\u001b[0;34m'Polygon needs 3+ sides'\u001b[0m\u001b[0;34m)\u001b[0m\u001b[0;34m\u001b[0m\u001b[0;34m\u001b[0m\u001b[0m\n\u001b[1;32m      9\u001b[0m \u001b[0;34m\u001b[0m\u001b[0m\n",
      "\u001b[0;31mTypeError\u001b[0m: '<' not supported between instances of 'NoneType' and 'int'"
     ]
    }
   ],
   "source": [
    "class NotYo(BetterPolygon):\n",
    "    def __init__(self):\n",
    "        self.sides = 5"
   ]
  },
  {
   "cell_type": "code",
   "execution_count": 106,
   "id": "exposed-baseline",
   "metadata": {},
   "outputs": [],
   "source": [
    "assert Hexagon.interior_angles() == 720"
   ]
  },
  {
   "cell_type": "code",
   "execution_count": 116,
   "id": "intermediate-victim",
   "metadata": {},
   "outputs": [
    {
     "name": "stdout",
     "output_type": "stream",
     "text": [
      "Hello from the child!\n",
      "\n"
     ]
    }
   ],
   "source": [
    "import subprocess\n",
    "\n",
    "try:\n",
    "    result = subprocess.run(['echo', \"Hello from the child!\"], capture_output=True, encoding='utf-8')\n",
    "    result.check_returncode()\n",
    "    print(result.stdout)\n",
    "except:\n",
    "    pass"
   ]
  },
  {
   "cell_type": "code",
   "execution_count": 122,
   "id": "assumed-perth",
   "metadata": {},
   "outputs": [
    {
     "name": "stdout",
     "output_type": "stream",
     "text": [
      "723688\n",
      "Done\n"
     ]
    }
   ],
   "source": [
    "proc = subprocess.Popen(['sleep', '1'])\n",
    "i = 0\n",
    "while proc.poll() is None:\n",
    "    i += 1\n",
    "print(i)\n",
    "print('Done')"
   ]
  },
  {
   "cell_type": "code",
   "execution_count": 125,
   "id": "laden-reducing",
   "metadata": {},
   "outputs": [
    {
     "name": "stdout",
     "output_type": "stream",
     "text": [
      "Total time for 10 one-second sleeps: 1.025933027267456\n"
     ]
    }
   ],
   "source": [
    "# Proof of parallelizing \n",
    "from time import time \n",
    "start = time() \n",
    "sleep_procs = [] \n",
    "for _ in range(10):\n",
    "    sleep_procs.append(subprocess.Popen(['sleep', '1']))\n",
    "for proc in sleep_procs:\n",
    "    proc.communicate()\n",
    "\n",
    "end = time()\n",
    "print(f\"Total time for 10 one-second sleeps: {end - start}\")"
   ]
  },
  {
   "cell_type": "code",
   "execution_count": 141,
   "id": "characteristic-powell",
   "metadata": {},
   "outputs": [],
   "source": [
    "def yo():\n",
    "    return 1\n",
    "    raise ValueError(\"Hey!\")"
   ]
  },
  {
   "cell_type": "code",
   "execution_count": 142,
   "id": "lonely-sphere",
   "metadata": {},
   "outputs": [
    {
     "name": "stdout",
     "output_type": "stream",
     "text": [
      "fail\n"
     ]
    },
    {
     "data": {
      "text/plain": [
       "1"
      ]
     },
     "execution_count": 142,
     "metadata": {},
     "output_type": "execute_result"
    }
   ],
   "source": [
    "def hey():\n",
    "    try: \n",
    "        return yo()\n",
    "    finally:\n",
    "        print(\"fail\")\n",
    "hey()"
   ]
  },
  {
   "cell_type": "code",
   "execution_count": 143,
   "id": "lucky-bones",
   "metadata": {},
   "outputs": [],
   "source": [
    "def insertion_sort(data):\n",
    "    result = [] \n",
    "    for value in data:\n",
    "        insert_value(result, value)\n",
    "    return result "
   ]
  },
  {
   "cell_type": "code",
   "execution_count": 159,
   "id": "vanilla-hierarchy",
   "metadata": {},
   "outputs": [],
   "source": [
    "from bisect import insort\n",
    "def insert_value(array, value):\n",
    "    \"\"\"\n",
    "    for i, existing in enumerate(array):\n",
    "        if existing > value: \n",
    "            array.insert(i, value)\n",
    "            return \n",
    "    array.append(value)\n",
    "    \"\"\"\n",
    "    insort(array, value)"
   ]
  },
  {
   "cell_type": "code",
   "execution_count": 160,
   "id": "registered-salvation",
   "metadata": {},
   "outputs": [],
   "source": [
    "from random import randint\n",
    "max_size = 10**4\n",
    "data = [randint(0, max_size) for _ in range(max_size)]\n",
    "test = lambda: insertion_sort(data) # For profiling "
   ]
  },
  {
   "cell_type": "code",
   "execution_count": 161,
   "id": "suspended-substance",
   "metadata": {},
   "outputs": [],
   "source": [
    "from cProfile import Profile \n",
    "profiler = Profile()\n",
    "profiler.runcall(test);"
   ]
  },
  {
   "cell_type": "code",
   "execution_count": 162,
   "id": "funny-testing",
   "metadata": {},
   "outputs": [
    {
     "name": "stdout",
     "output_type": "stream",
     "text": [
      "         20003 function calls in 0.026 seconds\n",
      "\n",
      "   Ordered by: cumulative time\n",
      "\n",
      "   ncalls  tottime  percall  cumtime  percall filename:lineno(function)\n",
      "        1    0.000    0.000    0.026    0.026 <ipython-input-160-fabdc5eea067>:4(<lambda>)\n",
      "        1    0.002    0.002    0.026    0.026 <ipython-input-143-a12b93d953d2>:1(insertion_sort)\n",
      "    10000    0.002    0.000    0.024    0.000 <ipython-input-159-75e6d2df0baf>:2(insert_value)\n",
      "    10000    0.021    0.000    0.021    0.000 {built-in method _bisect.insort_right}\n",
      "        1    0.000    0.000    0.000    0.000 {method 'disable' of '_lsprof.Profiler' objects}\n",
      "\n",
      "\n"
     ]
    },
    {
     "data": {
      "text/plain": [
       "<pstats.Stats at 0x10e8b8d00>"
      ]
     },
     "execution_count": 162,
     "metadata": {},
     "output_type": "execute_result"
    }
   ],
   "source": [
    "from pstats import Stats \n",
    "stats = Stats(profiler)\n",
    "stats.strip_dirs()\n",
    "stats.sort_stats('cumulative')\n",
    "stats.print_stats()"
   ]
  },
  {
   "cell_type": "code",
   "execution_count": null,
   "id": "sunset-oriental",
   "metadata": {},
   "outputs": [],
   "source": []
  }
 ],
 "metadata": {
  "kernelspec": {
   "display_name": "Python 3",
   "language": "python",
   "name": "python3"
  },
  "language_info": {
   "codemirror_mode": {
    "name": "ipython",
    "version": 3
   },
   "file_extension": ".py",
   "mimetype": "text/x-python",
   "name": "python",
   "nbconvert_exporter": "python",
   "pygments_lexer": "ipython3",
   "version": "3.9.1"
  }
 },
 "nbformat": 4,
 "nbformat_minor": 5
}
