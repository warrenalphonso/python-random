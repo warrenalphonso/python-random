{
 "cells": [
  {
   "cell_type": "code",
   "execution_count": 9,
   "id": "incredible-massage",
   "metadata": {},
   "outputs": [],
   "source": [
    "from helpers import data, quantify"
   ]
  },
  {
   "cell_type": "code",
   "execution_count": 2,
   "id": "floating-congress",
   "metadata": {},
   "outputs": [
    {
     "data": {
      "text/plain": [
       "'.....#............#....#####.##'"
      ]
     },
     "execution_count": 2,
     "metadata": {},
     "output_type": "execute_result"
    }
   ],
   "source": [
    "layers = data(3)\n",
    "layers[0]"
   ]
  },
  {
   "cell_type": "code",
   "execution_count": 5,
   "id": "adaptive-pierce",
   "metadata": {},
   "outputs": [],
   "source": [
    "def square(d, r):\n",
    "    \"Return string of position down d tiles and right r tiles from (0, 0)\"\n",
    "    if d >= len(layers):\n",
    "        raise \"Yo what\"\n",
    "    r = r % len(layers[0])\n",
    "    return layers[d][r]"
   ]
  },
  {
   "cell_type": "markdown",
   "id": "differential-belarus",
   "metadata": {},
   "source": [
    "**Part 1:** Count all trees encountered on slope right 3, down 1. "
   ]
  },
  {
   "cell_type": "code",
   "execution_count": 6,
   "id": "satellite-exchange",
   "metadata": {},
   "outputs": [
    {
     "data": {
      "text/plain": [
       "278"
      ]
     },
     "execution_count": 6,
     "metadata": {},
     "output_type": "execute_result"
    }
   ],
   "source": [
    "def attempt_one():\n",
    "    return sum(square(d, 3 * d) == \"#\" for d in range(len(layers)))\n",
    "\n",
    "attempt_one()"
   ]
  },
  {
   "cell_type": "code",
   "execution_count": 7,
   "id": "brazilian-priest",
   "metadata": {},
   "outputs": [
    {
     "data": {
      "text/plain": [
       "278"
      ]
     },
     "execution_count": 7,
     "metadata": {},
     "output_type": "execute_result"
    }
   ],
   "source": [
    "def attempt_two():\n",
    "    trees = 0 \n",
    "    for d, layer in enumerate(layers):\n",
    "        r = 3 * d \n",
    "        trees += square(d, r) == \"#\"\n",
    "    return trees \n",
    "\n",
    "attempt_two()"
   ]
  },
  {
   "cell_type": "code",
   "execution_count": 10,
   "id": "fixed-celebrity",
   "metadata": {},
   "outputs": [
    {
     "data": {
      "text/plain": [
       "278"
      ]
     },
     "execution_count": 10,
     "metadata": {},
     "output_type": "execute_result"
    }
   ],
   "source": [
    "def attempt_three():\n",
    "    # Norvig \n",
    "    return quantify(row[(3 * y) % len(row)] == \"#\" # Cleaner because we avoid out-of-bounds if len(row) changes \n",
    "                       for y, row in enumerate(layers))\n",
    "\n",
    "attempt_three()"
   ]
  },
  {
   "cell_type": "markdown",
   "id": "excited-extraction",
   "metadata": {},
   "source": [
    "**Part 2:** For 5 specified slopes [(1, 1), (3, 1), (5, 1), (7, 1), (1, 2)], find the product of the number of trees. "
   ]
  },
  {
   "cell_type": "code",
   "execution_count": 15,
   "id": "breathing-scale",
   "metadata": {},
   "outputs": [],
   "source": [
    "from collections import namedtuple \n",
    "slope = namedtuple(\"slope\", [\"dx\", \"dy\"])\n",
    "slopes = list(map(lambda dxdy: slope(*dxdy), # Messy destructuring because lambda don't destructure\n",
    "                  [(1, 1), (3, 1), (5, 1), (7, 1), (1, 2)]))"
   ]
  },
  {
   "cell_type": "code",
   "execution_count": 18,
   "id": "lonely-matrix",
   "metadata": {},
   "outputs": [
    {
     "data": {
      "text/plain": [
       "9709761600"
      ]
     },
     "execution_count": 18,
     "metadata": {},
     "output_type": "execute_result"
    }
   ],
   "source": [
    "def attempt_one():\n",
    "    p = 1 \n",
    "    for s in slopes:\n",
    "        p *= quantify([layer[(s.dx * d) % len(layer)] == \"#\"\n",
    "                        for d, layer in enumerate(layers[::s.dy])])\n",
    "    return p \n",
    "\n",
    "attempt_one()"
   ]
  }
 ],
 "metadata": {
  "kernelspec": {
   "display_name": "Python 3",
   "language": "python",
   "name": "python3"
  },
  "language_info": {
   "codemirror_mode": {
    "name": "ipython",
    "version": 3
   },
   "file_extension": ".py",
   "mimetype": "text/x-python",
   "name": "python",
   "nbconvert_exporter": "python",
   "pygments_lexer": "ipython3",
   "version": "3.9.1"
  }
 },
 "nbformat": 4,
 "nbformat_minor": 5
}
