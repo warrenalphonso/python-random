{
 "cells": [
  {
   "cell_type": "code",
   "execution_count": 50,
   "id": "mineral-brass",
   "metadata": {},
   "outputs": [],
   "source": [
    "from collections import deque\n",
    "from typing      import Iterator, List, Tuple\n",
    "from helpers     import data"
   ]
  },
  {
   "cell_type": "code",
   "execution_count": 51,
   "id": "square-condition",
   "metadata": {},
   "outputs": [
    {
     "data": {
      "text/plain": [
       "[['jmp', 149], ['acc', -11], ['nop', 95], ['acc', -6], ['jmp', 196]]"
      ]
     },
     "execution_count": 51,
     "metadata": {},
     "output_type": "execute_result"
    }
   ],
   "source": [
    "Instruction = Tuple[str, int] # ('jmp', 4)\n",
    "Program = List[Instruction]\n",
    "\n",
    "def parser(line: str) -> [str, int]:\n",
    "    instr, n = line.split()\n",
    "    return [instr, int(n)]\n",
    "\n",
    "instructions = data(8, parser=parser)\n",
    "instructions[:5]"
   ]
  },
  {
   "cell_type": "markdown",
   "id": "prerequisite-kenya",
   "metadata": {},
   "source": [
    "**Part 1:** The accumulator starts at 0. What's its value right before an instruction is run for the second time? "
   ]
  },
  {
   "cell_type": "code",
   "execution_count": 52,
   "id": "desirable-reservation",
   "metadata": {},
   "outputs": [],
   "source": [
    "def run(fn=lambda instr, n, instr_index: None) -> Tuple[int, bool]:\n",
    "    \"\"\"Return accumulator and status before infinite loop starts.\n",
    "    Status is False if infinite loop was detected. \n",
    "    \"\"\"\n",
    "    instr_run = set()\n",
    "    acc = 0 \n",
    "    instr_index = 0 \n",
    "    while instr_index not in instr_run: \n",
    "        if instr_index >= len(instructions):\n",
    "            return acc, True\n",
    "        instr, n = instructions[instr_index]\n",
    "        instr_run.add(instr_index)\n",
    "        fn(instr, n, instr_index) # Run on each line \n",
    "        \n",
    "        if instr == \"jmp\":\n",
    "            instr_index += n\n",
    "        elif instr == \"acc\":\n",
    "            acc += n\n",
    "            instr_index += 1\n",
    "        elif instr == \"nop\":\n",
    "            instr_index += 1\n",
    "        else: \n",
    "            raise ValueError(f\"Instruction {instr} wasn't expected.\")\n",
    "    return acc, False"
   ]
  },
  {
   "cell_type": "code",
   "execution_count": 53,
   "id": "excess-twelve",
   "metadata": {},
   "outputs": [
    {
     "data": {
      "text/plain": [
       "(1816, False)"
      ]
     },
     "execution_count": 53,
     "metadata": {},
     "output_type": "execute_result"
    }
   ],
   "source": [
    "run()"
   ]
  },
  {
   "cell_type": "markdown",
   "id": "competent-thanks",
   "metadata": {},
   "source": [
    "**Norvig:** He does pretty much the same thing, but it's a lot more concise and his variable names are better (c'mon, I should have thought of `pc`!). "
   ]
  },
  {
   "cell_type": "code",
   "execution_count": 55,
   "id": "qualified-monkey",
   "metadata": {},
   "outputs": [],
   "source": [
    "def run(program: Program) -> Tuple[int, bool]: \n",
    "    \"\"\"Return accumulator and terminates, before an infinite loop starts.\"\"\"\n",
    "    pc = acc = 0 \n",
    "    executed = set() # Instruction addresses already run \n",
    "    while True: \n",
    "        if pc in executed: \n",
    "            return acc, False\n",
    "        elif pc == len(program):\n",
    "            return acc, True\n",
    "        elif pc > len(program):\n",
    "            return acc, False\n",
    "        executed.add(pc)\n",
    "        opcode, arg = program[pc]\n",
    "        pc += 1\n",
    "        if opcode == \"acc\":\n",
    "            acc += arg\n",
    "        elif opcode == \"jmp\":\n",
    "            pc += arg - 1"
   ]
  },
  {
   "cell_type": "code",
   "execution_count": 56,
   "id": "unnecessary-floor",
   "metadata": {},
   "outputs": [
    {
     "data": {
      "text/plain": [
       "(1816, False)"
      ]
     },
     "execution_count": 56,
     "metadata": {},
     "output_type": "execute_result"
    }
   ],
   "source": [
    "run(instructions)"
   ]
  },
  {
   "cell_type": "markdown",
   "id": "violent-accounting",
   "metadata": {},
   "source": [
    "**Part 2:** Change one \"jmp\" to \"nop\" or vice versa, so that program terminates (tries to execute instruction 1 after instruction set). An infite loop is caused by a \"jmp\" so find all \"jmp\" instructions called before infinite loop, and try switching them to \"nop\" one at a time. "
   ]
  },
  {
   "cell_type": "code",
   "execution_count": 54,
   "id": "american-sympathy",
   "metadata": {},
   "outputs": [
    {
     "name": "stdout",
     "output_type": "stream",
     "text": [
      "1149\n"
     ]
    }
   ],
   "source": [
    "jmp_indices = deque()\n",
    "\n",
    "def store_jmp(instr, n, instr_index): \n",
    "    \"\"\"Call this on every instruction to note index of jmp instructions.\"\"\"\n",
    "    if instr == \"jmp\":\n",
    "        jmp_indices.append(instr_index)\n",
    "\n",
    "run(fn=store_jmp)\n",
    "\n",
    "while jmp_indices: \n",
    "    jmp_index = jmp_indices.pop()\n",
    "    # Convert instruction to nop and run \n",
    "    instructions[jmp_index][0] = \"nop\"\n",
    "    acc, status = run()\n",
    "    # Convert back\n",
    "    instructions[jmp_index][0] = \"jmp\"\n",
    "    if status:\n",
    "        print(acc)\n",
    "        break"
   ]
  },
  {
   "cell_type": "markdown",
   "id": "fifth-exercise",
   "metadata": {},
   "source": [
    "**Norvig:** Hm, I don't think my solution would always work. Sometimes, solving might require changing \"nop\" to \"jmp\". Norvig's solution is good because although he creates a new program for each possible instruction change, he uses a generator so there's no space overhead. I need to practice thinking of this. "
   ]
  },
  {
   "cell_type": "code",
   "execution_count": 57,
   "id": "surgical-former",
   "metadata": {},
   "outputs": [
    {
     "data": {
      "text/plain": [
       "1149"
      ]
     },
     "execution_count": 57,
     "metadata": {},
     "output_type": "execute_result"
    }
   ],
   "source": [
    "def altered_programs(program, other=dict(jmp=\"nop\", nop=\"jmp\")) -> Iterator[Program]:\n",
    "    \"\"\"Generate all possible altered programs by swapping opcodes as per other.\"\"\"\n",
    "    for i, (opcode, n) in enumerate(program): \n",
    "        if opcode in other: \n",
    "            yield [*program[:i], (other[opcode], n), *program[i + 1:]]\n",
    "\n",
    "programs = altered_programs(instructions)\n",
    "\n",
    "# Another generator to stop once we find a terminating program\n",
    "next((acc for (acc, terminates) in map(run, programs) if terminates), None)"
   ]
  },
  {
   "cell_type": "code",
   "execution_count": null,
   "id": "persistent-reliance",
   "metadata": {},
   "outputs": [],
   "source": []
  }
 ],
 "metadata": {
  "kernelspec": {
   "display_name": "Python 3",
   "language": "python",
   "name": "python3"
  },
  "language_info": {
   "codemirror_mode": {
    "name": "ipython",
    "version": 3
   },
   "file_extension": ".py",
   "mimetype": "text/x-python",
   "name": "python",
   "nbconvert_exporter": "python",
   "pygments_lexer": "ipython3",
   "version": "3.9.1"
  }
 },
 "nbformat": 4,
 "nbformat_minor": 5
}
