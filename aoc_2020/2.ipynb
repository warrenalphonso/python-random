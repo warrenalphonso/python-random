{
 "cells": [
  {
   "cell_type": "code",
   "execution_count": 1,
   "id": "material-hughes",
   "metadata": {},
   "outputs": [],
   "source": [
    "from helpers import data, quantify"
   ]
  },
  {
   "cell_type": "code",
   "execution_count": 2,
   "id": "oriental-arlington",
   "metadata": {},
   "outputs": [
    {
     "data": {
      "text/plain": [
       "['6-7 z: dqzzzjbzz',\n",
       " '13-16 j: jjjvjmjjkjjjjjjj',\n",
       " '5-6 m: mmbmmlvmbmmgmmf',\n",
       " '2-4 k: pkkl',\n",
       " '16-17 k: kkkkkkkkkkkkkkkqf']"
      ]
     },
     "execution_count": 2,
     "metadata": {},
     "output_type": "execute_result"
    }
   ],
   "source": [
    "passwords = data(2)\n",
    "passwords[:5]"
   ]
  },
  {
   "cell_type": "code",
   "execution_count": 3,
   "id": "jewish-occasions",
   "metadata": {},
   "outputs": [],
   "source": [
    "def parse(s: str) -> tuple[int, int, str, str]:\n",
    "    nums, char, password = s.split()\n",
    "    l, r = map(int, nums.split(\"-\"))\n",
    "    char = char[0]\n",
    "    return (l, r, char, password)"
   ]
  },
  {
   "cell_type": "code",
   "execution_count": 4,
   "id": "general-referral",
   "metadata": {},
   "outputs": [
    {
     "data": {
      "text/plain": [
       "[(6, 7, 'z', 'dqzzzjbzz'),\n",
       " (13, 16, 'j', 'jjjvjmjjkjjjjjjj'),\n",
       " (5, 6, 'm', 'mmbmmlvmbmmgmmf'),\n",
       " (2, 4, 'k', 'pkkl'),\n",
       " (16, 17, 'k', 'kkkkkkkkkkkkkkkqf')]"
      ]
     },
     "execution_count": 4,
     "metadata": {},
     "output_type": "execute_result"
    }
   ],
   "source": [
    "passwords = list(map(parse, passwords))\n",
    "passwords[:5]"
   ]
  },
  {
   "cell_type": "markdown",
   "id": "national-acoustic",
   "metadata": {},
   "source": [
    "**Part 1:** First int is minimum number of character appearances, second int is maximum. How many passwords are valid?"
   ]
  },
  {
   "cell_type": "code",
   "execution_count": 5,
   "id": "adolescent-worse",
   "metadata": {},
   "outputs": [
    {
     "data": {
      "text/plain": [
       "542"
      ]
     },
     "execution_count": 5,
     "metadata": {},
     "output_type": "execute_result"
    }
   ],
   "source": [
    "def attempt_one():\n",
    "    valid = 0 \n",
    "    for l, r, char, password in passwords:\n",
    "        count = 0 \n",
    "        for c in password: \n",
    "            if c == char: count += 1\n",
    "        valid += l <= count <= r\n",
    "    return valid \n",
    "\n",
    "attempt_one()"
   ]
  },
  {
   "cell_type": "code",
   "execution_count": 10,
   "id": "rocky-clearing",
   "metadata": {},
   "outputs": [
    {
     "data": {
      "text/plain": [
       "542"
      ]
     },
     "execution_count": 10,
     "metadata": {},
     "output_type": "execute_result"
    }
   ],
   "source": [
    "def attempt_two():\n",
    "    # Norvig :( \n",
    "    def policy(password):\n",
    "        l, r, char, pw = password \n",
    "        return l <= pw.count(char) <= r\n",
    "    return quantify(passwords, policy)\n",
    "\n",
    "attempt_two()"
   ]
  },
  {
   "cell_type": "markdown",
   "id": "former-liberal",
   "metadata": {},
   "source": [
    "**Part 2:** Integers are indices (not zero indexed), only one must contain character. "
   ]
  },
  {
   "cell_type": "code",
   "execution_count": 15,
   "id": "existing-worst",
   "metadata": {},
   "outputs": [
    {
     "data": {
      "text/plain": [
       "360"
      ]
     },
     "execution_count": 15,
     "metadata": {},
     "output_type": "execute_result"
    }
   ],
   "source": [
    "def attempt_one():\n",
    "    def policy(password):\n",
    "        l, r, c, pw = password \n",
    "        if l > len(pw) or r > len(pw):\n",
    "            return False \n",
    "        return (pw[l-1] == c or pw[r-1] == c) and not (pw[l-1] == c and pw[r-1] == c)\n",
    "    return quantify(passwords, policy)\n",
    "\n",
    "attempt_one()"
   ]
  },
  {
   "cell_type": "code",
   "execution_count": 18,
   "id": "after-tongue",
   "metadata": {},
   "outputs": [
    {
     "data": {
      "text/plain": [
       "360"
      ]
     },
     "execution_count": 18,
     "metadata": {},
     "output_type": "execute_result"
    }
   ],
   "source": [
    "def attempt_two():\n",
    "    # Norvig dammit \n",
    "    def policy(password):\n",
    "        a, b, c, pw = password \n",
    "        if a > len(pw) or b > len(pw): return False \n",
    "        return (pw[a-1] == c) ^ (pw[b-1] == c) # So clean \n",
    "    return quantify(passwords, policy)\n",
    "\n",
    "attempt_two()"
   ]
  },
  {
   "cell_type": "code",
   "execution_count": null,
   "id": "romance-gibson",
   "metadata": {},
   "outputs": [],
   "source": []
  }
 ],
 "metadata": {
  "kernelspec": {
   "display_name": "Python 3",
   "language": "python",
   "name": "python3"
  },
  "language_info": {
   "codemirror_mode": {
    "name": "ipython",
    "version": 3
   },
   "file_extension": ".py",
   "mimetype": "text/x-python",
   "name": "python",
   "nbconvert_exporter": "python",
   "pygments_lexer": "ipython3",
   "version": "3.9.1"
  }
 },
 "nbformat": 4,
 "nbformat_minor": 5
}
